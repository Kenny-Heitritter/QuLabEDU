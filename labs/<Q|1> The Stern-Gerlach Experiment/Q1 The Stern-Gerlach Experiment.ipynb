{
 "cells": [
  {
   "cell_type": "markdown",
   "id": "6a228548",
   "metadata": {},
   "source": [
    "<figure> \n",
    "<img align=\"right\" src=\"./imgs/Iowa_Logo.png\" width=360 height=112/> \n",
    "</figure>"
   ]
  },
  {
   "cell_type": "markdown",
   "id": "4fe11a24",
   "metadata": {},
   "source": [
    "# <Q|1> The Stern-Gerlach Experiments  \n",
    "##### Authors: Kenneth Heitritter (UIowa), Yannick Meurice (UIowa), Zeineb Mezghanni (Grinnell College)"
   ]
  },
  {
   "cell_type": "markdown",
   "id": "19b3075f",
   "metadata": {},
   "source": [
    "## Introduction\n",
    "The following experiment was first conceived by Otto Stern in 1921 and thereafter carried out by Walther Gerlach in 1922. The original experiment used a beam of silver atoms traveling through inhomogeneous magnetic fields and screens to show that the electron has an inherent angular momentum (spin) that is quantized. The experiment is also able to show properties of quantum measurement and display facets of the uncertainty principle. This notebook will allow you to use both a classical simulator a genuine quantum computer to manipulate qubits and carry out the Stern-Gerlach experiment.\n",
    "\n",
    "First, a little background on the physics of this experiment. If you have learned about the physics of magnetic fields, you likely encountered the concept of the magnetic dipole moment $\\vec{\\mu}$. The simplest way to define $\\vec{\\mu}$ is to picture a loop of current as shown in Figure 1.\n",
    "</br>\n",
    "<figure>\n",
    "    <img src=\"./imgs/magnetic_moment.png\" width=300 height=300 />\n",
    "    <figcaption>Figure 1: Magnetic dipole moment of a loop of current. [1]</figcaption>\n",
    "</figure>\n",
    "</br>\n",
    "The loop of current has an associated direction and that direction gives us a notion of an area vector. To determine the direction, we use the right hand rule. Multiplying the current and the area vector gives the definition of the magnetic moment $\\vec{\\mu}=I\\vec{A}$. Rather than explicitly defining the magnetic moment using the current, we could instead imagine the current to be a loop of constant linear charge density $\\lambda$ rotating at a constant speed $v$. From this, we could write $I=\\lambda v$. Since the loop is a circle, we could be explicit about $\\lambda$ and write $\\lambda=\\frac{Q}{2\\pi R}$. All together, $I=\\frac{Q}{2\\pi R} v$. We could now put this into the definition of our magnetic moment, along with the fact that the area of a loop is $A=\\pi R^2$, so that $\\vec{\\mu}=\\frac{Q}{2\\pi R}v\\cdot \\pi R^2 \\hat{n}=\\frac{1}{2}QvR \\hat{n}$, where $\\hat{n}$ is the unit vector pointing out of the loop. Recall from your physics 1 class that an object orbiting about a position has an associated angular momentum given by $\\vec{L}=m \\vec{v}\\times \\vec{r}$. Assume for now that the $\\vec{v}$ and $\\vec{r}$ are perpendicular so that we can express the magnitude of the angular momentum as $L=|\\vec{L}|=mvR$. We notice that $L/m=vR$ and $vR$ is an expression appearing in the magnetic moment. Therefore, we can substitute the angular momentum into the magnetic moment to find $\\mu =\\frac{Q}{2m} L$. This simple but profound statement tells us that an object with angular momentum, mass, and charge has an associated magnetic moment.\n",
    "The specific object we will consider in this lab is an electron for which we might guess a magnetic dipole moment of $\\mu = \\frac{e}{2m_e} S$. Here, we denote the electron's angular momentum by $S$ because it is referred to as spin angular momentum. The reason for giving this a different name should make sense as we move forward. Physicists usually prefer to write this magnetic dipole moment using $\\hbar$ (Planck's reduced constant) as $\\mu = \\frac{e\\hbar}{2m_e}\\frac{S}{\\hbar}$, though it is the same expression. The reason for writing it this way is that $\\frac{S}{\\hbar}$ has no units and $\\frac{e\\hbar}{2m_e}$ has units of magnetic dipole moment and is called the Bohr magneton ($\\mu_B$). Though we are close to correct in writing the magnetic moment in this way, there actually exists a multiplicative constant $g$ called the Lande g-factor that multiplies the expression so that $\\mu = -g\\frac{e\\hbar}{2m_e}\\frac{S}{\\hbar}$. For the electron, this g-factor ends up being $2$ but won't explain much more about that at this level. All together now, we can write the magnetic dipole moment of the electron as $\\vec{\\mu}=-2\\mu_B \\frac{\\vec{S}}{\\hbar}$.\n",
    "\n",
    "When learning about the physics of electric and magnetic fields, you learned that a charged particle moving in a magnetic field feels a force according to $\\vec{F}=q \\vec{v}\\times \\vec{B}$. If the magnetic field applied is inhomogeneous in the sense of Figure 2 then we see that a circling electron will feel an upward force. \n",
    "</br>\n",
    "<figure>\n",
    "    <img src=\"./imgs/dipole_force_diagram.png\" width=300 height=500 />\n",
    "    <figcaption>Figure 2: a: Inhomogenous magnetic field applied to a loop of current. b: Forces felt due to inhomogenous magnetic field. [2]</figcaption>\n",
    "</figure>\n",
    "</br>\n",
    "Since a circling electron is the same as a loop of current going the opposite direction, and a loop of current has a magnetic dipole moment, we can abstract away the circling electron and find that a magnetic dipole feels an upward or downward force in an inhomogeneous field. The direction of the force will depend on the orientation of the magnetic moment relative to the inhomogeneous field. Due to this force, a dipole with some initial velocity perpendicular to the direction of the inhomogeneous magnetic field will be deflected when moving through an inhomogeneous magnetic field. This dipole deflection was exactly the physics Stern and Gerlach intended to test in their experiment. The experiment uses silver atoms, which has 47 electrons of which 46 are in entirely filled shells and the last electron is in a shell with angular momentum of zero. Therefore, by sending silver atoms through inhomogeneous magnetic fields, one can test the inherent magnetic dipole moment of the electron. The basic setup used by Stern and Gerlach was as pictured in Figure 3.\n",
    "</br>\n",
    "<figure>\n",
    "    <img src=\"./imgs/Stern-Gerlach_experiment.svg\" width=500 height=600 />\n",
    "    <figcaption>Figure 3: Silver atoms travelling through an inhomogeneous magnetic field, and being deflected up or down depending on their spin; (1) furnace, (2) beam of silver atoms, (3) inhomogeneous magnetic field, (4) classically expected result, (5) observed result. [3]</figcaption>\n",
    "</figure>\n",
    "</br>\n",
    "As the silver atoms are thermally excited out of the furnace their orientations, and therefore the electron's magnetic dipole moments, should be randomly oriented. If the electron's magnetic dipole moment were a classical quantity then one would expect the random orientations to encounter the magnetic field and be deflected at continuous angles corresponding to their orientation. With enough electrons, one would classically expect a screen placed on the other side of the magnetic field to show a continuous line showing where electrons hit the screen. What Stern and Gerlach found was something quite different - the electrons were only deflected into two points. This experiment showed that the inherent magnetic dipole moment and thus angular momentum (spin) of the electron is not a classical quantity and instead can take only one of two states. These two states can be labeled as up and down and are only explainable in terms of quantum mechanics.\n",
    "<br/>\n",
    "<br/>\n",
    "\n",
    "From the experiment of Stern and Gerlach, the world learned that the spin angular momentum of the electron is quantum mechanical property and, upon measurement, can exist only in one of two states. In the realm of quantum information science, we refer to any two state quantum mechanical system as a qubit. The term qubit is derived from the classical bit, a value of 0 or 1, which all normal computers operate on. In this lab, we will work with qubits to display the same types of physics that Stern and Gerlach were able to demonstrate using silver atoms. Most of the code we will run in this notebook will simulate how qubits work using classical bits but there will be sections where you have the opportunity to submit code to run on a real quantum computer. Though we can simulate how qubits work for small numbers of qubits, this simulation becomes effectively impossible for larger numbers of qubits. Everything in this lab will utilize small single qubits and can thus be effectively simulated.\n",
    "<br/>\n",
    "<br/>\n",
    "In order to run code in this lab, you should click on a cell and then hit (shift + enter) on your keyboard to run the code in the cell. Let's start by running a cell that installs a popular quantum computing library, Qiskit, we will need. Go ahead and hit (shift + enter) for only the below cell. Once it finishes running then you can run the cell below it. This second cell will import the Python libraries (pre-defined code) we will need to run the rest of the lab. This cell will also list the available quantum gates we can use to act on qubits. You don't have to know anything about quantum gates at this point but provides you with some content to learn more about if you wish."
   ]
  },
  {
   "cell_type": "code",
   "execution_count": 3,
   "id": "7a24f136-c136-4009-a6d8-2ba082b62f76",
   "metadata": {
    "collapsed": true,
    "jupyter": {
     "outputs_hidden": true
    },
    "tags": []
   },
   "outputs": [
    {
     "name": "stdout",
     "output_type": "stream",
     "text": [
      "Collecting qiskit\n",
      "  Using cached qiskit-0.39.4-py3-none-any.whl\n",
      "Collecting qiskit-terra==0.22.3\n",
      "  Using cached qiskit_terra-0.22.3-cp39-cp39-manylinux_2_17_x86_64.manylinux2014_x86_64.whl (4.8 MB)\n",
      "Collecting qiskit-aer==0.11.2\n",
      "  Using cached qiskit_aer-0.11.2-cp39-cp39-manylinux_2_17_x86_64.manylinux2014_x86_64.whl (12.8 MB)\n",
      "Collecting qiskit-ibmq-provider==0.19.2\n",
      "  Using cached qiskit_ibmq_provider-0.19.2-py3-none-any.whl (240 kB)\n",
      "Requirement already satisfied: scipy>=1.0 in /opt/conda/lib/python3.9/site-packages (from qiskit-aer==0.11.2->qiskit) (1.9.3)\n",
      "Requirement already satisfied: numpy>=1.16.3 in /opt/conda/lib/python3.9/site-packages (from qiskit-aer==0.11.2->qiskit) (1.23.5)\n",
      "Collecting websockets>=10.0\n",
      "  Using cached websockets-10.4-cp39-cp39-manylinux_2_5_x86_64.manylinux1_x86_64.manylinux_2_17_x86_64.manylinux2014_x86_64.whl (106 kB)\n",
      "Requirement already satisfied: python-dateutil>=2.8.0 in /opt/conda/lib/python3.9/site-packages (from qiskit-ibmq-provider==0.19.2->qiskit) (2.8.2)\n",
      "Collecting requests-ntlm>=1.1.0\n",
      "  Using cached requests_ntlm-1.1.0-py2.py3-none-any.whl (5.7 kB)\n",
      "Requirement already satisfied: urllib3>=1.21.1 in /opt/conda/lib/python3.9/site-packages (from qiskit-ibmq-provider==0.19.2->qiskit) (1.26.8)\n",
      "Requirement already satisfied: requests>=2.19 in /opt/conda/lib/python3.9/site-packages (from qiskit-ibmq-provider==0.19.2->qiskit) (2.27.1)\n",
      "Requirement already satisfied: websocket-client>=1.0.1 in /opt/conda/lib/python3.9/site-packages (from qiskit-ibmq-provider==0.19.2->qiskit) (1.3.1)\n",
      "Requirement already satisfied: psutil>=5 in /opt/conda/lib/python3.9/site-packages (from qiskit-terra==0.22.3->qiskit) (5.9.0)\n",
      "Collecting ply>=3.10\n",
      "  Using cached ply-3.11-py2.py3-none-any.whl (49 kB)\n",
      "Collecting tweedledum<2.0,>=1.1\n",
      "  Using cached tweedledum-1.1.1-cp39-cp39-manylinux_2_12_x86_64.manylinux2010_x86_64.whl (930 kB)\n",
      "Collecting stevedore>=3.0.0\n",
      "  Using cached stevedore-4.1.1-py3-none-any.whl (50 kB)\n",
      "Collecting retworkx>=0.11.0\n",
      "  Using cached retworkx-0.12.1-py3-none-any.whl (10 kB)\n",
      "Collecting sympy>=1.3\n",
      "  Using cached sympy-1.11.1-py3-none-any.whl (6.5 MB)\n",
      "Collecting dill>=0.3\n",
      "  Using cached dill-0.3.6-py3-none-any.whl (110 kB)\n",
      "Collecting symengine>=0.9\n",
      "  Using cached symengine-0.9.2-cp39-cp39-manylinux2010_x86_64.whl (37.5 MB)\n",
      "Requirement already satisfied: six>=1.5 in /opt/conda/lib/python3.9/site-packages (from python-dateutil>=2.8.0->qiskit-ibmq-provider==0.19.2->qiskit) (1.16.0)\n",
      "Requirement already satisfied: charset-normalizer~=2.0.0 in /opt/conda/lib/python3.9/site-packages (from requests>=2.19->qiskit-ibmq-provider==0.19.2->qiskit) (2.0.12)\n",
      "Requirement already satisfied: idna<4,>=2.5 in /opt/conda/lib/python3.9/site-packages (from requests>=2.19->qiskit-ibmq-provider==0.19.2->qiskit) (3.3)\n",
      "Requirement already satisfied: certifi>=2017.4.17 in /opt/conda/lib/python3.9/site-packages (from requests>=2.19->qiskit-ibmq-provider==0.19.2->qiskit) (2021.10.8)\n",
      "Collecting ntlm-auth>=1.0.2\n",
      "  Using cached ntlm_auth-1.5.0-py2.py3-none-any.whl (29 kB)\n",
      "Requirement already satisfied: cryptography>=1.3 in /opt/conda/lib/python3.9/site-packages (from requests-ntlm>=1.1.0->qiskit-ibmq-provider==0.19.2->qiskit) (36.0.1)\n",
      "Collecting rustworkx==0.12.1\n",
      "  Using cached rustworkx-0.12.1-cp39-cp39-manylinux_2_17_x86_64.manylinux2014_x86_64.whl (1.9 MB)\n",
      "Collecting pbr!=2.1.0,>=2.0.0\n",
      "  Using cached pbr-5.11.0-py2.py3-none-any.whl (112 kB)\n",
      "Collecting mpmath>=0.19\n",
      "  Using cached mpmath-1.2.1-py3-none-any.whl (532 kB)\n",
      "Requirement already satisfied: cffi>=1.12 in /opt/conda/lib/python3.9/site-packages (from cryptography>=1.3->requests-ntlm>=1.1.0->qiskit-ibmq-provider==0.19.2->qiskit) (1.15.0)\n",
      "Requirement already satisfied: pycparser in /opt/conda/lib/python3.9/site-packages (from cffi>=1.12->cryptography>=1.3->requests-ntlm>=1.1.0->qiskit-ibmq-provider==0.19.2->qiskit) (2.21)\n",
      "Installing collected packages: ply, mpmath, websockets, tweedledum, sympy, symengine, rustworkx, pbr, ntlm-auth, dill, stevedore, retworkx, requests-ntlm, qiskit-terra, qiskit-ibmq-provider, qiskit-aer, qiskit\n",
      "Successfully installed dill-0.3.6 mpmath-1.2.1 ntlm-auth-1.5.0 pbr-5.11.0 ply-3.11 qiskit-0.39.4 qiskit-aer-0.11.2 qiskit-ibmq-provider-0.19.2 qiskit-terra-0.22.3 requests-ntlm-1.1.0 retworkx-0.12.1 rustworkx-0.12.1 stevedore-4.1.1 symengine-0.9.2 sympy-1.11.1 tweedledum-1.1.1 websockets-10.4\n",
      "Collecting qiskit[visualization]\n",
      "  Using cached qiskit-0.39.4-py3-none-any.whl\n",
      "Collecting qiskit-terra==0.22.3\n",
      "  Using cached qiskit_terra-0.22.3-cp39-cp39-manylinux_2_17_x86_64.manylinux2014_x86_64.whl (4.8 MB)\n",
      "Collecting qiskit-aer==0.11.2\n",
      "  Using cached qiskit_aer-0.11.2-cp39-cp39-manylinux_2_17_x86_64.manylinux2014_x86_64.whl (12.8 MB)\n",
      "Collecting qiskit-ibmq-provider==0.19.2\n",
      "  Using cached qiskit_ibmq_provider-0.19.2-py3-none-any.whl (240 kB)\n",
      "Collecting pydot\n",
      "  Using cached pydot-1.4.2-py2.py3-none-any.whl (21 kB)\n",
      "Requirement already satisfied: pillow>=4.2.1 in /opt/conda/lib/python3.9/site-packages (from qiskit[visualization]) (9.3.0)\n",
      "Requirement already satisfied: matplotlib>=2.1 in /opt/conda/lib/python3.9/site-packages (from qiskit[visualization]) (3.6.2)\n",
      "Requirement already satisfied: pygments>=2.4 in /opt/conda/lib/python3.9/site-packages (from qiskit[visualization]) (2.11.2)\n",
      "Collecting pylatexenc>=1.4\n",
      "  Using cached pylatexenc-2.10-py3-none-any.whl\n",
      "Requirement already satisfied: ipywidgets>=7.3.0 in /opt/conda/lib/python3.9/site-packages (from qiskit[visualization]) (8.0.2)\n",
      "Collecting seaborn>=0.9.0\n",
      "  Using cached seaborn-0.12.1-py3-none-any.whl (288 kB)\n",
      "Requirement already satisfied: scipy>=1.0 in /opt/conda/lib/python3.9/site-packages (from qiskit-aer==0.11.2->qiskit[visualization]) (1.9.3)\n",
      "Requirement already satisfied: numpy>=1.16.3 in /opt/conda/lib/python3.9/site-packages (from qiskit-aer==0.11.2->qiskit[visualization]) (1.23.5)\n",
      "Requirement already satisfied: python-dateutil>=2.8.0 in /opt/conda/lib/python3.9/site-packages (from qiskit-ibmq-provider==0.19.2->qiskit[visualization]) (2.8.2)\n",
      "Requirement already satisfied: requests>=2.19 in /opt/conda/lib/python3.9/site-packages (from qiskit-ibmq-provider==0.19.2->qiskit[visualization]) (2.27.1)\n",
      "Requirement already satisfied: urllib3>=1.21.1 in /opt/conda/lib/python3.9/site-packages (from qiskit-ibmq-provider==0.19.2->qiskit[visualization]) (1.26.8)\n",
      "Collecting requests-ntlm>=1.1.0\n",
      "  Using cached requests_ntlm-1.1.0-py2.py3-none-any.whl (5.7 kB)\n",
      "Requirement already satisfied: websocket-client>=1.0.1 in /opt/conda/lib/python3.9/site-packages (from qiskit-ibmq-provider==0.19.2->qiskit[visualization]) (1.3.1)\n",
      "Collecting websockets>=10.0\n",
      "  Using cached websockets-10.4-cp39-cp39-manylinux_2_5_x86_64.manylinux1_x86_64.manylinux_2_17_x86_64.manylinux2014_x86_64.whl (106 kB)\n",
      "Collecting stevedore>=3.0.0\n",
      "  Using cached stevedore-4.1.1-py3-none-any.whl (50 kB)\n",
      "Collecting symengine>=0.9\n",
      "  Using cached symengine-0.9.2-cp39-cp39-manylinux2010_x86_64.whl (37.5 MB)\n",
      "Requirement already satisfied: psutil>=5 in /opt/conda/lib/python3.9/site-packages (from qiskit-terra==0.22.3->qiskit[visualization]) (5.9.0)\n",
      "Collecting dill>=0.3\n",
      "  Using cached dill-0.3.6-py3-none-any.whl (110 kB)\n",
      "Collecting ply>=3.10\n",
      "  Using cached ply-3.11-py2.py3-none-any.whl (49 kB)\n",
      "Collecting tweedledum<2.0,>=1.1\n",
      "  Using cached tweedledum-1.1.1-cp39-cp39-manylinux_2_12_x86_64.manylinux2010_x86_64.whl (930 kB)\n",
      "Collecting retworkx>=0.11.0\n",
      "  Using cached retworkx-0.12.1-py3-none-any.whl (10 kB)\n",
      "Collecting sympy>=1.3\n",
      "  Using cached sympy-1.11.1-py3-none-any.whl (6.5 MB)\n",
      "Requirement already satisfied: widgetsnbextension~=4.0 in /opt/conda/lib/python3.9/site-packages (from ipywidgets>=7.3.0->qiskit[visualization]) (4.0.3)\n",
      "Requirement already satisfied: jupyterlab-widgets~=3.0 in /opt/conda/lib/python3.9/site-packages (from ipywidgets>=7.3.0->qiskit[visualization]) (3.0.3)\n",
      "Requirement already satisfied: ipykernel>=4.5.1 in /opt/conda/lib/python3.9/site-packages (from ipywidgets>=7.3.0->qiskit[visualization]) (6.9.2)\n",
      "Requirement already satisfied: traitlets>=4.3.1 in /opt/conda/lib/python3.9/site-packages (from ipywidgets>=7.3.0->qiskit[visualization]) (5.1.1)\n",
      "Requirement already satisfied: ipython>=6.1.0 in /opt/conda/lib/python3.9/site-packages (from ipywidgets>=7.3.0->qiskit[visualization]) (8.6.0)\n",
      "Requirement already satisfied: contourpy>=1.0.1 in /opt/conda/lib/python3.9/site-packages (from matplotlib>=2.1->qiskit[visualization]) (1.0.6)\n",
      "Requirement already satisfied: pyparsing>=2.2.1 in /opt/conda/lib/python3.9/site-packages (from matplotlib>=2.1->qiskit[visualization]) (3.0.7)\n",
      "Requirement already satisfied: kiwisolver>=1.0.1 in /opt/conda/lib/python3.9/site-packages (from matplotlib>=2.1->qiskit[visualization]) (1.4.4)\n",
      "Requirement already satisfied: packaging>=20.0 in /opt/conda/lib/python3.9/site-packages (from matplotlib>=2.1->qiskit[visualization]) (21.3)\n",
      "Requirement already satisfied: cycler>=0.10 in /opt/conda/lib/python3.9/site-packages (from matplotlib>=2.1->qiskit[visualization]) (0.11.0)\n",
      "Requirement already satisfied: fonttools>=4.22.0 in /opt/conda/lib/python3.9/site-packages (from matplotlib>=2.1->qiskit[visualization]) (4.38.0)\n",
      "Requirement already satisfied: pandas>=0.25 in /opt/conda/lib/python3.9/site-packages (from seaborn>=0.9.0->qiskit[visualization]) (1.5.1)\n",
      "Requirement already satisfied: jupyter-client<8.0 in /opt/conda/lib/python3.9/site-packages (from ipykernel>=4.5.1->ipywidgets>=7.3.0->qiskit[visualization]) (7.1.2)\n",
      "Requirement already satisfied: debugpy<2.0,>=1.0.0 in /opt/conda/lib/python3.9/site-packages (from ipykernel>=4.5.1->ipywidgets>=7.3.0->qiskit[visualization]) (1.5.1)\n",
      "Requirement already satisfied: tornado<7.0,>=4.2 in /opt/conda/lib/python3.9/site-packages (from ipykernel>=4.5.1->ipywidgets>=7.3.0->qiskit[visualization]) (6.1)\n",
      "Requirement already satisfied: nest-asyncio in /opt/conda/lib/python3.9/site-packages (from ipykernel>=4.5.1->ipywidgets>=7.3.0->qiskit[visualization]) (1.5.4)\n",
      "Requirement already satisfied: matplotlib-inline<0.2.0,>=0.1.0 in /opt/conda/lib/python3.9/site-packages (from ipykernel>=4.5.1->ipywidgets>=7.3.0->qiskit[visualization]) (0.1.3)\n",
      "Requirement already satisfied: pickleshare in /opt/conda/lib/python3.9/site-packages (from ipython>=6.1.0->ipywidgets>=7.3.0->qiskit[visualization]) (0.7.5)\n",
      "Requirement already satisfied: backcall in /opt/conda/lib/python3.9/site-packages (from ipython>=6.1.0->ipywidgets>=7.3.0->qiskit[visualization]) (0.2.0)\n",
      "Requirement already satisfied: stack-data in /opt/conda/lib/python3.9/site-packages (from ipython>=6.1.0->ipywidgets>=7.3.0->qiskit[visualization]) (0.2.0)\n",
      "Requirement already satisfied: jedi>=0.16 in /opt/conda/lib/python3.9/site-packages (from ipython>=6.1.0->ipywidgets>=7.3.0->qiskit[visualization]) (0.18.1)\n",
      "Requirement already satisfied: decorator in /opt/conda/lib/python3.9/site-packages (from ipython>=6.1.0->ipywidgets>=7.3.0->qiskit[visualization]) (5.1.1)\n",
      "Requirement already satisfied: pexpect>4.3 in /opt/conda/lib/python3.9/site-packages (from ipython>=6.1.0->ipywidgets>=7.3.0->qiskit[visualization]) (4.8.0)\n",
      "Requirement already satisfied: prompt-toolkit<3.1.0,>3.0.1 in /opt/conda/lib/python3.9/site-packages (from ipython>=6.1.0->ipywidgets>=7.3.0->qiskit[visualization]) (3.0.27)\n",
      "Requirement already satisfied: pytz>=2020.1 in /opt/conda/lib/python3.9/site-packages (from pandas>=0.25->seaborn>=0.9.0->qiskit[visualization]) (2021.3)\n",
      "Requirement already satisfied: six>=1.5 in /opt/conda/lib/python3.9/site-packages (from python-dateutil>=2.8.0->qiskit-ibmq-provider==0.19.2->qiskit[visualization]) (1.16.0)\n",
      "Requirement already satisfied: idna<4,>=2.5 in /opt/conda/lib/python3.9/site-packages (from requests>=2.19->qiskit-ibmq-provider==0.19.2->qiskit[visualization]) (3.3)\n",
      "Requirement already satisfied: charset-normalizer~=2.0.0 in /opt/conda/lib/python3.9/site-packages (from requests>=2.19->qiskit-ibmq-provider==0.19.2->qiskit[visualization]) (2.0.12)\n",
      "Requirement already satisfied: certifi>=2017.4.17 in /opt/conda/lib/python3.9/site-packages (from requests>=2.19->qiskit-ibmq-provider==0.19.2->qiskit[visualization]) (2021.10.8)\n",
      "Requirement already satisfied: cryptography>=1.3 in /opt/conda/lib/python3.9/site-packages (from requests-ntlm>=1.1.0->qiskit-ibmq-provider==0.19.2->qiskit[visualization]) (36.0.1)\n",
      "Collecting ntlm-auth>=1.0.2\n",
      "  Using cached ntlm_auth-1.5.0-py2.py3-none-any.whl (29 kB)\n",
      "Collecting rustworkx==0.12.1\n",
      "  Using cached rustworkx-0.12.1-cp39-cp39-manylinux_2_17_x86_64.manylinux2014_x86_64.whl (1.9 MB)\n",
      "Collecting pbr!=2.1.0,>=2.0.0\n",
      "  Using cached pbr-5.11.0-py2.py3-none-any.whl (112 kB)\n",
      "Collecting mpmath>=0.19\n",
      "  Using cached mpmath-1.2.1-py3-none-any.whl (532 kB)\n",
      "Requirement already satisfied: cffi>=1.12 in /opt/conda/lib/python3.9/site-packages (from cryptography>=1.3->requests-ntlm>=1.1.0->qiskit-ibmq-provider==0.19.2->qiskit[visualization]) (1.15.0)\n",
      "Requirement already satisfied: parso<0.9.0,>=0.8.0 in /opt/conda/lib/python3.9/site-packages (from jedi>=0.16->ipython>=6.1.0->ipywidgets>=7.3.0->qiskit[visualization]) (0.8.3)\n",
      "Requirement already satisfied: entrypoints in /opt/conda/lib/python3.9/site-packages (from jupyter-client<8.0->ipykernel>=4.5.1->ipywidgets>=7.3.0->qiskit[visualization]) (0.4)\n",
      "Requirement already satisfied: jupyter-core>=4.6.0 in /opt/conda/lib/python3.9/site-packages (from jupyter-client<8.0->ipykernel>=4.5.1->ipywidgets>=7.3.0->qiskit[visualization]) (4.9.2)\n",
      "Requirement already satisfied: pyzmq>=13 in /opt/conda/lib/python3.9/site-packages (from jupyter-client<8.0->ipykernel>=4.5.1->ipywidgets>=7.3.0->qiskit[visualization]) (19.0.2)\n",
      "Requirement already satisfied: ptyprocess>=0.5 in /opt/conda/lib/python3.9/site-packages (from pexpect>4.3->ipython>=6.1.0->ipywidgets>=7.3.0->qiskit[visualization]) (0.7.0)\n",
      "Requirement already satisfied: wcwidth in /opt/conda/lib/python3.9/site-packages (from prompt-toolkit<3.1.0,>3.0.1->ipython>=6.1.0->ipywidgets>=7.3.0->qiskit[visualization]) (0.2.5)\n",
      "Requirement already satisfied: asttokens in /opt/conda/lib/python3.9/site-packages (from stack-data->ipython>=6.1.0->ipywidgets>=7.3.0->qiskit[visualization]) (2.0.5)\n",
      "Requirement already satisfied: pure-eval in /opt/conda/lib/python3.9/site-packages (from stack-data->ipython>=6.1.0->ipywidgets>=7.3.0->qiskit[visualization]) (0.2.2)\n",
      "Requirement already satisfied: executing in /opt/conda/lib/python3.9/site-packages (from stack-data->ipython>=6.1.0->ipywidgets>=7.3.0->qiskit[visualization]) (0.8.3)\n",
      "Requirement already satisfied: pycparser in /opt/conda/lib/python3.9/site-packages (from cffi>=1.12->cryptography>=1.3->requests-ntlm>=1.1.0->qiskit-ibmq-provider==0.19.2->qiskit[visualization]) (2.21)\n",
      "Installing collected packages: pylatexenc, ply, mpmath, websockets, tweedledum, sympy, symengine, rustworkx, pydot, pbr, ntlm-auth, dill, stevedore, retworkx, seaborn, requests-ntlm, qiskit-terra, qiskit-ibmq-provider, qiskit-aer, qiskit\n",
      "Successfully installed dill-0.3.6 mpmath-1.2.1 ntlm-auth-1.5.0 pbr-5.11.0 ply-3.11 pydot-1.4.2 pylatexenc-2.10 qiskit-0.39.4 qiskit-aer-0.11.2 qiskit-ibmq-provider-0.19.2 qiskit-terra-0.22.3 requests-ntlm-1.1.0 retworkx-0.12.1 rustworkx-0.12.1 seaborn-0.12.1 stevedore-4.1.1 symengine-0.9.2 sympy-1.11.1 tweedledum-1.1.1 websockets-10.4\n",
      "Requirement already satisfied: numpy in /opt/conda/lib/python3.9/site-packages (1.23.5)\n",
      "Collecting seaborn\n",
      "  Using cached seaborn-0.12.1-py3-none-any.whl (288 kB)\n",
      "Requirement already satisfied: numpy>=1.17 in /opt/conda/lib/python3.9/site-packages (from seaborn) (1.23.5)\n",
      "Requirement already satisfied: pandas>=0.25 in /opt/conda/lib/python3.9/site-packages (from seaborn) (1.5.1)\n",
      "Requirement already satisfied: matplotlib!=3.6.1,>=3.1 in /opt/conda/lib/python3.9/site-packages (from seaborn) (3.6.2)\n",
      "Requirement already satisfied: contourpy>=1.0.1 in /opt/conda/lib/python3.9/site-packages (from matplotlib!=3.6.1,>=3.1->seaborn) (1.0.6)\n",
      "Requirement already satisfied: kiwisolver>=1.0.1 in /opt/conda/lib/python3.9/site-packages (from matplotlib!=3.6.1,>=3.1->seaborn) (1.4.4)\n",
      "Requirement already satisfied: python-dateutil>=2.7 in /opt/conda/lib/python3.9/site-packages (from matplotlib!=3.6.1,>=3.1->seaborn) (2.8.2)\n",
      "Requirement already satisfied: cycler>=0.10 in /opt/conda/lib/python3.9/site-packages (from matplotlib!=3.6.1,>=3.1->seaborn) (0.11.0)\n",
      "Requirement already satisfied: pyparsing>=2.2.1 in /opt/conda/lib/python3.9/site-packages (from matplotlib!=3.6.1,>=3.1->seaborn) (3.0.7)\n",
      "Requirement already satisfied: fonttools>=4.22.0 in /opt/conda/lib/python3.9/site-packages (from matplotlib!=3.6.1,>=3.1->seaborn) (4.38.0)\n",
      "Requirement already satisfied: packaging>=20.0 in /opt/conda/lib/python3.9/site-packages (from matplotlib!=3.6.1,>=3.1->seaborn) (21.3)\n",
      "Requirement already satisfied: pillow>=6.2.0 in /opt/conda/lib/python3.9/site-packages (from matplotlib!=3.6.1,>=3.1->seaborn) (9.3.0)\n",
      "Requirement already satisfied: pytz>=2020.1 in /opt/conda/lib/python3.9/site-packages (from pandas>=0.25->seaborn) (2021.3)\n",
      "Requirement already satisfied: six>=1.5 in /opt/conda/lib/python3.9/site-packages (from python-dateutil>=2.7->matplotlib!=3.6.1,>=3.1->seaborn) (1.16.0)\n",
      "Installing collected packages: seaborn\n",
      "Successfully installed seaborn-0.12.1\n"
     ]
    }
   ],
   "source": [
    "import sys\n",
    "!pip install --prefix {sys.prefix} qiskit\n",
    "!pip install --prefix {sys.prefix} qiskit[visualization]\n",
    "!pip install --prefix {sys.prefix} numpy\n",
    "!pip install --prefix {sys.prefix} seaborn"
   ]
  },
  {
   "cell_type": "code",
   "execution_count": 1,
   "id": "3d753647-3d3b-46e7-a349-5aa9a7425d49",
   "metadata": {},
   "outputs": [],
   "source": [
    "# This only needs to be run the first time after installing amazon_braket env\n",
    "# !qbraid jobs enable amazon_braket"
   ]
  },
  {
   "cell_type": "code",
   "execution_count": 4,
   "id": "a4d388c1-4723-44d2-b3de-c9da820486a3",
   "metadata": {
    "tags": []
   },
   "outputs": [
    {
     "name": "stdout",
     "output_type": "stream",
     "text": [
      "Available quantum gates are: ['CCNot', 'CNot', 'CPhaseShift', 'CPhaseShift00', 'CPhaseShift01', 'CPhaseShift10', 'CSwap', 'CV', 'CY', 'CZ', 'ECR', 'H', 'I', 'ISwap', 'PSwap', 'PhaseShift', 'Rx', 'Ry', 'Rz', 'S', 'Si', 'Swap', 'T', 'Ti', 'Unitary', 'V', 'Vi', 'X', 'XX', 'XY', 'Y', 'YY', 'Z', 'ZZ']\n",
      "\n",
      " Success, you imported the libraries!\n"
     ]
    }
   ],
   "source": [
    "import matplotlib.pyplot as plt\n",
    "%matplotlib inline\n",
    "\n",
    "# AWS imports: Import Braket SDK modules\n",
    "from braket.circuits import Circuit, Gate, Instruction, circuit, Observable\n",
    "from braket.devices import LocalSimulator\n",
    "from braket.aws import AwsDevice, AwsQuantumTask\n",
    "import string\n",
    "from math import pi\n",
    "import random as rand\n",
    "\n",
    "from mpl_toolkits.mplot3d import Axes3D\n",
    "from matplotlib.animation import FuncAnimation\n",
    "from IPython.display import HTML\n",
    "\n",
    "import numpy as np\n",
    "import matplotlib.pyplot as plt\n",
    "import seaborn as sns\n",
    "\n",
    "\n",
    "# print all available gates in Amazon Braket\n",
    "gate_set = [attr for attr in dir(Gate) if attr[0] in string.ascii_uppercase]\n",
    "print(\"Available quantum gates are: \" + str(gate_set))\n",
    "from qiskit.providers.aer import QasmSimulator \n",
    "from qiskit.tools.visualization import plot_bloch_multivector\n",
    "\n",
    "print(\"\\n Success, you imported the libraries!\")"
   ]
  },
  {
   "cell_type": "markdown",
   "id": "000a4a78-812b-4bae-af6d-f4d5dd6bd238",
   "metadata": {},
   "source": [
    "If everything worked properly, you should have gotten a printed statement telling you that you imported the libraries. If you did not see any errors then you may move on."
   ]
  },
  {
   "cell_type": "markdown",
   "id": "4930a48d",
   "metadata": {},
   "source": [
    "## Basic Properties of Qubit Operations and Measurements\n",
    "##### We first walk through some simple qubit preparations and measurements to get a feel for how everything functions. \n",
    "Let's run code that prepares a single qubit in the up state, denoted by the notation $|0\\rangle$ and visualize the state on something called the Bloch Sphere. When we initialize a qubit with the code below, it defaults to starting in the up state. After the qubit is initialized, we apply a dummy rotation that doesn't actually do anything. The qubit is still in whatever state it started in. All together, this idea of acting on initializing and acting on a qubit is called a quantum circuit and defines a quantum wavefunction, which is why we use the variable psi. Go ahead and run the cell below."
   ]
  },
  {
   "cell_type": "code",
   "execution_count": 5,
   "id": "bd3d442c-02b0-4368-ac35-8a630ad866f8",
   "metadata": {},
   "outputs": [],
   "source": [
    "theta = 0 \n",
    "psi = Circuit().ry(angle=theta, target=0)"
   ]
  },
  {
   "cell_type": "markdown",
   "id": "b19d41bc-d5af-4177-83ba-792c18a2ca21",
   "metadata": {},
   "source": [
    "After defining how our circuit show run, we run a simulation of the circuit that keeps track of the exact state. Note that when running on real quantum hardware this is impossible, since the wavefunction collapses to either up or down when we measure. We can cheat by using a classical computer to model the quantum evolution though. Once we want to describe more qubits this becomes computationally difficult and even impossible in some cases."
   ]
  },
  {
   "cell_type": "code",
   "execution_count": 6,
   "id": "a44c1c15-efe0-49a6-a465-58664e080483",
   "metadata": {
    "tags": []
   },
   "outputs": [
    {
     "name": "stdout",
     "output_type": "stream",
     "text": [
      "The state vector is: ψ=[1.+0.j 0.+0.j]\n"
     ]
    },
    {
     "data": {
      "image/png": "[encoded data removed]",
      "text/plain": [
       "<Figure size 288x288 with 1 Axes>"
      ]
     },
     "execution_count": 6,
     "metadata": {},
     "output_type": "execute_result"
    }
   ],
   "source": [
    "psi.state_vector()\n",
    "device = LocalSimulator()\n",
    "task= device.run(psi, shots=0)\n",
    "result = task.result()\n",
    "statevector= result.values[0]\n",
    "print(\"The state vector is: ψ=\" + str(statevector))\n",
    "plot_bloch_multivector(statevector)"
   ]
  },
  {
   "cell_type": "markdown",
   "id": "85b5c92e-85a8-4271-a0e6-30137b05f39e",
   "metadata": {},
   "source": [
    "The above output tells us the wavefunction, represented as a vector, and plots the wavefunction on the Bloch sphere. The Bloch sphere tells us how to visualize the qubit state in terms of the two possibilities. We will explore this more in the code below. You may be wondering how to interpret this form of the wavefunction. Since we are working with the a qubit, which has two possible states, the wavefunction represented as a vector tells us something about the probability to measure the qubit in either the up $|0\\rangle$ or down $|1\\rangle$ state. Here, the probability of measuring the qubit to be in the up state is given by squaring the first entry in the listed vector and squaring the second entry gives us the probability for measuring the qubit to be in the down state.\n",
    "</br>\n",
    "</br>\n",
    "\n",
    "**Question 1: Using the previous explanation of how to calculate the probability of measuring a state, what is the probability of measuring the previously plotted qubit to be in a) the up state and b) the down state?**"
   ]
  },
  {
   "cell_type": "markdown",
   "id": "01409de2-8743-4084-9e3d-b59fa9f2b6ef",
   "metadata": {},
   "source": [
    "In addition to simulating the full quantum wavefunction using a classical computer, we can use a classical computer to model how the quantum computer behaves. Specifically, when we measure a quantum system it will collapse to a single value so that we get a definite measurement. Below, we setup the same qubit we did previously but use our classical computer to model the measurement result when the wavefunction collapses. We should see that now, when we measure the final state, our result collapses to either up or down. Note again that while this is fast for a single qubit, this becomes computationally difficult for many qubits."
   ]
  },
  {
   "cell_type": "markdown",
   "id": "a5c06317-4d04-42ac-8f83-f302b636fbba",
   "metadata": {},
   "source": [
    "Setup the same quantum circuit from before."
   ]
  },
  {
   "cell_type": "code",
   "execution_count": 7,
   "id": "3338ce3a-85a5-4c80-be5c-3b56de09426c",
   "metadata": {},
   "outputs": [],
   "source": [
    "theta = 0\n",
    "psi = Circuit().ry(angle=theta, target=0)"
   ]
  },
  {
   "cell_type": "markdown",
   "id": "dea94185-1099-492c-81c7-d3f4c7ffc7ef",
   "metadata": {},
   "source": [
    "We want to model measurement of this qubit and visualize the results. Since the state of our qubit says the probability of measuring the up state is 100% then we could write $|\\psi> = 1|0> + 0|1>$ and the only possibility of measurement should be $|0>$."
   ]
  },
  {
   "cell_type": "markdown",
   "id": "f52cb5c7-11b8-46a6-a355-2e939c32e909",
   "metadata": {},
   "source": [
    "Set up device to run a simulation on your classical computer"
   ]
  },
  {
   "cell_type": "code",
   "execution_count": 8,
   "id": "ea03777f-cb1e-4ac6-8147-1d3c80643e46",
   "metadata": {},
   "outputs": [],
   "source": [
    "device = LocalSimulator()"
   ]
  },
  {
   "cell_type": "markdown",
   "id": "a125cb4f-ad54-48da-9c6b-4300a8c8ae09",
   "metadata": {},
   "source": [
    "Run circuit many times and record the measurement of each iteration. Each iteration is called a 'shot' in quantum computing language. Here we try 1000 shots. \n",
    "\n",
    "**Question 2: a) What do you expect should happen here if we make the number of shots much smaller (10)? b) What about if we make the shots much larger like 100,000?**"
   ]
  },
  {
   "cell_type": "code",
   "execution_count": 9,
   "id": "d1992975-5896-4344-b7ec-3810e9175739",
   "metadata": {},
   "outputs": [],
   "source": [
    "result = device.run(psi, shots=1000).result()"
   ]
  },
  {
   "cell_type": "markdown",
   "id": "5a9ec554-19af-4c5c-8dc5-fd260e9d7898",
   "metadata": {},
   "source": [
    "Get results from each measurement shot.\n"
   ]
  },
  {
   "cell_type": "code",
   "execution_count": 10,
   "id": "aba8617a-3186-4c9b-b953-6e106cbfcd5a",
   "metadata": {},
   "outputs": [],
   "source": [
    "counts = result.measurement_counts"
   ]
  },
  {
   "cell_type": "markdown",
   "id": "934158ac-2435-4854-b024-0f4526d3a54f",
   "metadata": {},
   "source": [
    "Print combined results from all the measurement shots."
   ]
  },
  {
   "cell_type": "code",
   "execution_count": 11,
   "id": "8748583a-5196-494c-a89e-6fbcf3397093",
   "metadata": {},
   "outputs": [
    {
     "name": "stdout",
     "output_type": "stream",
     "text": [
      "Counter({'0': 1000})\n"
     ]
    }
   ],
   "source": [
    "print(counts)"
   ]
  },
  {
   "cell_type": "markdown",
   "id": "54dfbb18-b5fe-4beb-8fee-3391121274a3",
   "metadata": {},
   "source": [
    "Plot the results."
   ]
  },
  {
   "cell_type": "code",
   "execution_count": 12,
   "id": "3a371ee3-e069-4a7e-956f-7aab460d141b",
   "metadata": {
    "tags": []
   },
   "outputs": [
    {
     "data": {
      "image/png": "[encoded data removed]",
      "text/plain": [
       "<Figure size 432x288 with 1 Axes>"
      ]
     },
     "metadata": {
      "needs_background": "light"
     },
     "output_type": "display_data"
    }
   ],
   "source": [
    "plt.bar(counts.keys(), counts.values());\n",
    "plt.xlabel('state');\n",
    "plt.ylabel('counts');"
   ]
  },
  {
   "cell_type": "markdown",
   "id": "b342207b-8565-473e-927c-1384fb6521b8",
   "metadata": {},
   "source": [
    "If the Ionq quantum computer, based on ion trap technology, is available then run the below cells. This should give the same result you just saw, using a classical computer, but actually runs your code on a quantum device."
   ]
  },
  {
   "cell_type": "code",
   "execution_count": 13,
   "id": "83276a46",
   "metadata": {
    "tags": []
   },
   "outputs": [
    {
     "name": "stdout",
     "output_type": "stream",
     "text": [
      "Status of task: QUEUED\n"
     ]
    }
   ],
   "source": [
    "# Setup the same state from before...\n",
    "theta = 0\n",
    "phi = 0 \n",
    "\n",
    "psi = Circuit().ry(angle=theta, target=0)\n",
    "\n",
    "# set up device\n",
    "ionq = AwsDevice(\"arn:aws:braket:::device/qpu/ionq/ionQdevice\")\n",
    "\n",
    "# run circuit\n",
    "ionq_task = ionq.run(psi, shots=10)\n",
    "\n",
    "# get id and status of submitted task\n",
    "ionq_task_id1 = ionq_task.id\n",
    "ionq_status = ionq_task.state()\n",
    "# print('ID of task:', ionq_task_id)\n",
    "print('Status of task:', ionq_status)"
   ]
  },
  {
   "cell_type": "markdown",
   "id": "d5467188-aa05-4a1e-84fb-70a8dbecbf99",
   "metadata": {},
   "source": [
    "If the device was available, the above code should have told you that your task was created. You can then query the service to see whether your code has run by running the below cell. It may take a decent amount of time for your code to execute since many other users could be accessing the same machine."
   ]
  },
  {
   "cell_type": "code",
   "execution_count": 15,
   "id": "3b959481",
   "metadata": {
    "tags": []
   },
   "outputs": [
    {
     "name": "stdout",
     "output_type": "stream",
     "text": [
      "Status of (reconstructed) task: COMPLETED\n",
      "10 shots taken on machine arn:aws:braket:::device/qpu/ionq/ionQdevice.\n",
      "Measurement counts: Counter({'0': 10})\n"
     ]
    }
   ],
   "source": [
    "task_load = AwsQuantumTask(arn=ionq_task_id1)\n",
    "\n",
    "# print status\n",
    "status = task_load.state()\n",
    "print('Status of (reconstructed) task:', status)\n",
    "\n",
    "# wait for job to complete\n",
    "# terminal_states = ['COMPLETED', 'FAILED', 'CANCELLED']\n",
    "if status == 'COMPLETED':\n",
    "    # get results\n",
    "    results = task_load.result()\n",
    "    # print(rigetti_results)\n",
    "    \n",
    "    # get all metadata of submitted task\n",
    "    metadata = task_load.metadata()\n",
    "    # example for metadata\n",
    "    shots = metadata['shots']\n",
    "    machine = metadata['deviceArn']\n",
    "    # print example metadata\n",
    "    print(\"{} shots taken on machine {}.\".format(shots, machine))\n",
    "    \n",
    "    # get measurement counts\n",
    "    counts = results.measurement_counts\n",
    "    print('Measurement counts:', counts)\n",
    "    \n",
    "elif status in ['FAILED', 'CANCELLED']:\n",
    "    # print terminal message \n",
    "    print('Your task is in terminal status, but has not completed.')\n",
    "\n",
    "else:\n",
    "    # print current status\n",
    "    print('Sorry, your task is still being processed and has not been finalized yet.')"
   ]
  },
  {
   "cell_type": "markdown",
   "id": "2196f2a3-c609-4ba7-b44e-1a7c91b00174",
   "metadata": {},
   "source": [
    "If your code ran, you should see that it gives us the same results as we saw for our simulation. Every measurement resulted in the qubit being up. If your quantum computer submission did not finish, you can come back and check it's status by re-running the above cell. Note that you should not submit any other jobs to the quantum computer until this job finishes otherwise you will not be able to easily recover your results."
   ]
  },
  {
   "cell_type": "markdown",
   "id": "2e54a7c3-7e61-43ce-8440-50f18c8e146e",
   "metadata": {},
   "source": [
    "One thing we can do to get a different result when measuring the qubit in our quantum circuit is to apply a rotation to the qubit's state vector. Here, we rotate the inital up state about the y-axis by $\\pi$ radians. Think about what state you think the qubit should be in after applying this rotation."
   ]
  },
  {
   "cell_type": "markdown",
   "id": "8ea2d7b1-698d-48f8-91bb-2c0b64aa88d8",
   "metadata": {},
   "source": [
    "Setup the circuit with a $\\pi$ rotation about the y-axis."
   ]
  },
  {
   "cell_type": "code",
   "execution_count": 16,
   "id": "26937e05-d09c-4b1d-b581-427ce753b37c",
   "metadata": {},
   "outputs": [],
   "source": [
    "theta = pi\n",
    "psi = Circuit().ry(angle=theta, target=0)"
   ]
  },
  {
   "cell_type": "markdown",
   "id": "607c61d2-eeaf-4cea-a534-8553b0093821",
   "metadata": {},
   "source": [
    "Again, we can cheat a bit by simulating the full state produced by the quantum circuit."
   ]
  },
  {
   "cell_type": "code",
   "execution_count": 17,
   "id": "1c68b1db-0aec-4909-9a03-396fc4f1470e",
   "metadata": {
    "tags": []
   },
   "outputs": [
    {
     "name": "stdout",
     "output_type": "stream",
     "text": [
      "[6.123234e-17+0.j 1.000000e+00+0.j]\n"
     ]
    },
    {
     "data": {
      "image/png": "[encoded data removed]",
      "text/plain": [
       "<Figure size 288x288 with 1 Axes>"
      ]
     },
     "execution_count": 17,
     "metadata": {},
     "output_type": "execute_result"
    }
   ],
   "source": [
    "psi.state_vector()\n",
    "device = LocalSimulator()\n",
    "task= device.run(psi, shots=0)\n",
    "result = task.result()\n",
    "statevector= result.values[0]\n",
    "print(statevector)\n",
    "plot_bloch_multivector(statevector)"
   ]
  },
  {
   "cell_type": "markdown",
   "id": "2d09a92b-7ac9-43c3-8e2c-f78d63d81b36",
   "metadata": {},
   "source": [
    "Just as we likely expected, doing a $\\pi$ rotation about the y-axis results in a qubit in the down state.\n",
    "Let's now simulate the measurement of this state like we did before for the up state. \n",
    "\n",
    "**Question 3: What do you expect our measurements to yield for the qubit state we just prepared?**"
   ]
  },
  {
   "cell_type": "markdown",
   "id": "9dbd22fa-ca5d-455e-8fab-876b3fb78458",
   "metadata": {},
   "source": [
    "Setup the circuit with a pi rotation about the y-axis."
   ]
  },
  {
   "cell_type": "code",
   "execution_count": 18,
   "id": "51d7829f-6483-45f7-ac9e-e10dbf3a0545",
   "metadata": {},
   "outputs": [],
   "source": [
    "theta = pi\n",
    "psi = Circuit().ry(angle=theta, target=0)"
   ]
  },
  {
   "cell_type": "markdown",
   "id": "4c13fde3-9139-4a45-9db7-72fc6badd3ca",
   "metadata": {},
   "source": [
    "Set up device to run a measurement simulation using a classical computer."
   ]
  },
  {
   "cell_type": "code",
   "execution_count": 19,
   "id": "9465c040-fcec-478f-9d0a-50aac259e5b2",
   "metadata": {},
   "outputs": [],
   "source": [
    "device = LocalSimulator()"
   ]
  },
  {
   "cell_type": "markdown",
   "id": "e82ad4e2-024d-4724-b4b1-61c0d8cc615c",
   "metadata": {},
   "source": [
    "Run circuit many times and record the measurement of each iteration."
   ]
  },
  {
   "cell_type": "code",
   "execution_count": 20,
   "id": "3cd270a6-edd5-4bde-b7e6-ec2914e69962",
   "metadata": {},
   "outputs": [],
   "source": [
    "result = device.run(psi, shots=1000).result()"
   ]
  },
  {
   "cell_type": "markdown",
   "id": "480addf1-4234-4a0f-8d5e-64e96807caef",
   "metadata": {},
   "source": [
    "Get results from each measurement shot."
   ]
  },
  {
   "cell_type": "code",
   "execution_count": 21,
   "id": "610b3b36-3176-44c0-bc73-66c2db852989",
   "metadata": {},
   "outputs": [],
   "source": [
    "counts = result.measurement_counts"
   ]
  },
  {
   "cell_type": "markdown",
   "id": "596ea448-658a-4ee4-9efa-f996fa7427c4",
   "metadata": {},
   "source": [
    "Print results of each measurement shot."
   ]
  },
  {
   "cell_type": "code",
   "execution_count": 22,
   "id": "13173ccb-af6f-433c-b537-777e06d01e2f",
   "metadata": {},
   "outputs": [
    {
     "name": "stdout",
     "output_type": "stream",
     "text": [
      "Counter({'1': 1000})\n"
     ]
    }
   ],
   "source": [
    "print(counts)"
   ]
  },
  {
   "cell_type": "markdown",
   "id": "d72a3afd-2b6c-4501-a242-f5be8b9824ff",
   "metadata": {},
   "source": [
    "Plot the results."
   ]
  },
  {
   "cell_type": "code",
   "execution_count": 23,
   "id": "dca44147-0e07-4a46-8cdf-1ceb87830098",
   "metadata": {
    "tags": []
   },
   "outputs": [
    {
     "data": {
      "image/png": "[encoded data removed]",
      "text/plain": [
       "<Figure size 432x288 with 1 Axes>"
      ]
     },
     "metadata": {
      "needs_background": "light"
     },
     "output_type": "display_data"
    }
   ],
   "source": [
    "plt.bar(counts.keys(), counts.values());\n",
    "plt.xlabel('state');\n",
    "plt.ylabel('counts');"
   ]
  },
  {
   "cell_type": "markdown",
   "id": "33024611-0c61-4853-a13b-045a17a30b2d",
   "metadata": {},
   "source": [
    "Every run and measurement of the circuit produced the same result of down $|1\\rangle$. This is because we prepared the initial state such that all the probability was in the down state. Let's do something a little different now. Instead of producing states that are either entirely up or entirely down, let's only rotate halfway using a y-rotation by $\\frac{\\pi}{2}$ radians. \n",
    "\n",
    "**Question 4: Can you picture what this state should look like on the Bloch Sphere? Draw what you think it should look like on the Bloch sphere and say what you think this will mean in terms of measuring the qubit.**"
   ]
  },
  {
   "cell_type": "markdown",
   "id": "5b42b878-8a71-4b9a-8c48-1e59e94d5c85",
   "metadata": {},
   "source": [
    "Setup the circuit with a $\\pi/2$ rotation about the y-axis."
   ]
  },
  {
   "cell_type": "code",
   "execution_count": 26,
   "id": "655013cd-356b-4ff9-af49-6bcbbf8726da",
   "metadata": {},
   "outputs": [],
   "source": [
    "psi = Circuit().ry(angle=pi/2, target=0)"
   ]
  },
  {
   "cell_type": "markdown",
   "id": "9fc47582-584b-45f1-b68d-792d1396e142",
   "metadata": {},
   "source": [
    "Simulate and plot the final state."
   ]
  },
  {
   "cell_type": "code",
   "execution_count": 27,
   "id": "6c168f22-3e5b-48e2-abe6-50dced28306f",
   "metadata": {
    "tags": []
   },
   "outputs": [
    {
     "name": "stdout",
     "output_type": "stream",
     "text": [
      "[0.70710678+0.j 0.70710678+0.j]\n"
     ]
    },
    {
     "data": {
      "image/png": "[encoded data removed]",
      "text/plain": [
       "<Figure size 288x288 with 1 Axes>"
      ]
     },
     "execution_count": 27,
     "metadata": {},
     "output_type": "execute_result"
    }
   ],
   "source": [
    "psi.state_vector()\n",
    "device = LocalSimulator()\n",
    "task= device.run(psi, shots=0)\n",
    "result = task.result()\n",
    "statevector= result.values[0]\n",
    "print(statevector)\n",
    "plot_bloch_multivector(statevector)"
   ]
  },
  {
   "cell_type": "markdown",
   "id": "cc494522-0704-45fb-aa4f-ca14852b3d0d",
   "metadata": {},
   "source": [
    "We see the state produced is halfway between up and down. Let's now go ahead and simulate the result of measuring this state."
   ]
  },
  {
   "cell_type": "code",
   "execution_count": 28,
   "id": "901e41fe",
   "metadata": {
    "tags": []
   },
   "outputs": [
    {
     "name": "stdout",
     "output_type": "stream",
     "text": [
      "Counter({'1': 513, '0': 487})\n"
     ]
    },
    {
     "data": {
      "image/png": "[encoded data removed]",
      "text/plain": [
       "<Figure size 432x288 with 1 Axes>"
      ]
     },
     "metadata": {
      "needs_background": "light"
     },
     "output_type": "display_data"
    }
   ],
   "source": [
    "# Setup the circuit with a pi/2 rotation about the y-axis.\n",
    "psi = Circuit().ry(angle=pi/2, target=0)\n",
    "\n",
    "# set up device to run a simulation on your classical computer\n",
    "device = LocalSimulator()\n",
    "\n",
    "# Run circuit many times and record the measurement of each iteration.\n",
    "result = device.run(psi, shots=1000).result()\n",
    "\n",
    "# Get results from each measurement shot.\n",
    "counts = result.measurement_counts\n",
    "\n",
    "# Print results of each measurement shot.\n",
    "print(counts)\n",
    "\n",
    "# Plots the results.\n",
    "plt.bar(counts.keys(), counts.values());\n",
    "plt.xlabel('state');\n",
    "plt.ylabel('counts');"
   ]
  },
  {
   "cell_type": "markdown",
   "id": "e7d786b0-a337-4055-911e-d4a1f851a11e",
   "metadata": {},
   "source": [
    "**Question 5: How does the above result compare to your guess from question 4?**"
   ]
  },
  {
   "cell_type": "markdown",
   "id": "dc1c4be1-0517-4bfb-8f59-2652135897cf",
   "metadata": {},
   "source": [
    "We see that roughly half of the measurements were up |0> and the other half were down |1>. This is because our previous code prepared the state as $|\\psi>=\\sqrt{\\frac{1}{2}} |0> + \\sqrt{\\frac{1}{2}} |1>$. Recall that you determine the relevant probabilities by squaring the number in front of the $|0>$ or the $|1>$.  \n",
    "\n",
    "**Question 6: What happens if you alter the above code such that the number of shots is very small? What about if the number of shots is very large? Can you explain your observation?**\n",
    "- you can alter the number of shots by changing the number in the line that says 'result = device.run(psi, shots=1000).result()'\n"
   ]
  },
  {
   "cell_type": "markdown",
   "id": "d01aa44c-d739-4a31-8baa-92b1debd2fd2",
   "metadata": {},
   "source": [
    "The fact that you don't see exactly 50/50, depending on the number of shots used, is the topic of probability theory and statistics. Here, we have a system that can be in one of two possible states. Systems like this are described by the statistics of the Binomial Distribution, which we can use to show a similar result below."
   ]
  },
  {
   "cell_type": "markdown",
   "id": "b5c947a3-fe26-4074-b167-82450a326f46",
   "metadata": {},
   "source": [
    "In the code below, the variable 'size' is the same as the number of shots we take for our previous quantum circuit measurements.\n",
    "Convince yourself that this reproduces roughly the same results you see when you execute measurements of the half up half down qubit by varying the variable 'size'."
   ]
  },
  {
   "cell_type": "code",
   "execution_count": 37,
   "id": "72e02635",
   "metadata": {
    "tags": []
   },
   "outputs": [
    {
     "name": "stdout",
     "output_type": "stream",
     "text": [
      "{0: 50, 1: 50}\n"
     ]
    },
    {
     "name": "stderr",
     "output_type": "stream",
     "text": [
      "/tmp/ipykernel_2573/2521665088.py:5: UserWarning: \n",
      "\n",
      "`distplot` is a deprecated function and will be removed in seaborn v0.14.0.\n",
      "\n",
      "Please adapt your code to use either `displot` (a figure-level function with\n",
      "similar flexibility) or `histplot` (an axes-level function for histograms).\n",
      "\n",
      "For a guide to updating your code to use the new functions, please see\n",
      "https://gist.github.com/mwaskom/de44147ed2974457ad6372750bbe5751\n",
      "\n",
      "  sns.distplot(x, hist=True, kde=False)\n"
     ]
    },
    {
     "data": {
      "image/png": "[encoded data removed]",
      "text/plain": [
       "<Figure size 432x288 with 1 Axes>"
      ]
     },
     "metadata": {
      "needs_background": "light"
     },
     "output_type": "display_data"
    }
   ],
   "source": [
    "x = np.random.binomial(n=1, p=0.5, size=100)\n",
    "unique, counts = np.unique(x, return_counts=True)\n",
    "counts_dict = dict(zip(unique, counts))\n",
    "print(counts_dict)\n",
    "sns.distplot(x, hist=True, kde=False)\n",
    "plt.show()"
   ]
  },
  {
   "cell_type": "markdown",
   "id": "c189591d-8393-4501-83b3-ad78b19cb260",
   "metadata": {},
   "source": [
    "So when the qubit is made to be half in the up and half in the down states, we get a 50/50 probability for either state. We were able to create this state by rotating the inital up qubit so that it lies exactly halfway between the up and down states. Take a few moments to play around with the code below by changing the angle of rotation and noticing how that affects the probability of getting either result."
   ]
  },
  {
   "cell_type": "code",
   "execution_count": null,
   "id": "86155a61",
   "metadata": {
    "collapsed": true,
    "jupyter": {
     "outputs_hidden": true
    },
    "tags": []
   },
   "outputs": [],
   "source": [
    "theta = \"set the angle yourself!\"\n",
    "nshots = \"set the number of shots yourself!\"\n",
    "\n",
    "psi = Circuit().ry(angle=theta, target=0)\n",
    "\n",
    "# set up device to run a simulation on your classical computer\n",
    "device = LocalSimulator()\n",
    "\n",
    "# Run circuit many times and record the measurement of each iteration.\n",
    "result = device.run(psi, shots=nshots).result()\n",
    "\n",
    "# Get results from each measurement shot.\n",
    "counts = result.measurement_counts\n",
    "\n",
    "# Print results of each measurement shot.\n",
    "print(counts)\n",
    "\n",
    "# Plots the results.\n",
    "plt.bar(counts.keys(), counts.values());\n",
    "plt.xlabel('state');\n",
    "plt.ylabel('counts');"
   ]
  },
  {
   "cell_type": "markdown",
   "id": "4782e662-058d-45c7-8d4d-6f2b0f358504",
   "metadata": {},
   "source": [
    "## Using Qubits to do Stern-Gerlach Experiments"
   ]
  },
  {
   "cell_type": "markdown",
   "id": "db7ba225-6b0f-44f1-b2de-328957e8e1d9",
   "metadata": {},
   "source": [
    "At this point, you should have a basic understanding of how to think about and measure qubits. Now we want to use qubits to implement the Stern-Gerlach experiment. This was a foundational experiment that experimentally proved a consequence of quantum mechanics, that the electron possesses a type of angular momentum called 'spin' that is quantized. This means that the electron has an associated variable called 'spin' that can be in a state of either up or down when we measure it. If we prepare an electron without measuring its spin, then the spin can be in some superposition of up and down. This is exactly like we saw previously when we described qubits that were some combination of up and down states. In fact, we can think of the spin of the electron as being a qubit since a qubit is just a two state quantum system. We want to show that by thinking of the electron as a qubit, and implementing the same procedure as in the Stern-Gerlach experiment, that we reproduce the same results. If we are are able to show the same results then we conclude that the electron's spin angular momentum has the same physics as a qubit and, most importantly, obeys the laws of quantum mechanics."
   ]
  },
  {
   "cell_type": "markdown",
   "id": "c00efcc8",
   "metadata": {},
   "source": [
    "Pictured below in figure 4 is the first of the Stern-Gerlach experiments, where a silver atom with an electron in a random spin state is fed into the left-hand side of the picture. The atom is fed into a z-direction inhomogenous magnetic field after which the down states are covered up while the up states are fed into another z-direction inhomogeneous magnetic field. This experiment initially showed that a state initially measured to be in either up or down state remains in that state upon another of the same type of measurement. If the first measurement produced an up state from the z-direction magnetic field then the second measurement will also produce an up state from the z-direction magnetic field.\n",
    "</br>\n",
    "<figure>\n",
    "    <img src=\"imgs/experiment_a.png\" width=600 height=600 />\n",
    "    <figcaption>Figure 4: First Stern-Gerlach Experiment. [4]</figcaption>\n",
    "</figure>\n",
    "</br>\n",
    " In the original experiment, the electron spin state was generated by thermally ejecting hot silver atoms from an oven. This randomly oriented spin state passes into a device originally implemented as an inhomogeneous magnetic field in the z-direction. Since the spin of the electron and the magnetic field have an interaction, we expect that measurements on the right-hand side of the magnetic field device will be discretely split into two spots. We expect this because we know from Stern and Gerlach's results that the electron has spin that, when measured, must be either up or down. Since the different spin states are deflected differently by the magnetic field, one spot is due to the up spin and the other spot would be due to the down spin state. If we feed many randomly oriented electrons into this first magnetic field, we expect that roughly 50% will end up deflected up and 50% will be deflected down. This is exactly the Stern-Gerlach experiment's first and most surprising result. If the spin of the electron were not quantized and could take on any value/orientation, we would expect the measurement on the other size of the magnetic field to be a continuous distribution. Here, we are able to represent the deflection by a z-direction magnetic field of a spin up or spin down qubit by simply measuring the state. We now carry out the first part of the experiment in Figure 4, where we send randomly oriented spins into a z-direction magnetic field."
   ]
  },
  {
   "cell_type": "code",
   "execution_count": 44,
   "id": "6f4e5a66",
   "metadata": {
    "tags": []
   },
   "outputs": [
    {
     "data": {
      "image/png": "[encoded data removed]",
      "text/plain": [
       "<Figure size 432x288 with 1 Axes>"
      ]
     },
     "metadata": {
      "needs_background": "light"
     },
     "output_type": "display_data"
    }
   ],
   "source": [
    "# A counter for the number of up |0> and down \\1> states we get from our measurements\n",
    "total_counts = {\"0\":0,\"1\":0}\n",
    "# Set the number of times we run the experiment. This corresponds to the number of silver atoms ejected from the over in the Stern-Gerlach experiment.\n",
    "num_experiments = 1000\n",
    "\n",
    "for i in range(num_experiments):\n",
    "    \n",
    "    # Rotate the initially up qubit by random angles in the y and z-direction\n",
    "    theta = pi*rand.random()\n",
    "    phi = 2*pi*rand.random()\n",
    "    psi = Circuit().ry(angle=theta, target=0).rz(angle=phi, target=0)\n",
    "    \n",
    "    # set up device\n",
    "    device = LocalSimulator()\n",
    "\n",
    "    # run circuit\n",
    "    result = device.run(psi, shots=1).result()\n",
    "\n",
    "    # get result of shots\n",
    "    counts = result.measurement_counts\n",
    "    total_counts[\"0\"]+=counts[\"0\"]\n",
    "    total_counts[\"1\"]+=counts[\"1\"]\n",
    "\n",
    "\n",
    "# plot using Counter\n",
    "plt.bar(total_counts.keys(), total_counts.values());\n",
    "plt.xlabel('states');\n",
    "plt.ylabel('counts');"
   ]
  },
  {
   "cell_type": "markdown",
   "id": "cecabb13",
   "metadata": {},
   "source": [
    "When we measure a randomly generated spin state we find roughly a 50/50 chance of the state being measured as either up or down. \n",
    "\n",
    "**Question 7: If you change the values of 'num_experiments' and 'shots' what do you find? Explain your results as best you can.**"
   ]
  },
  {
   "cell_type": "markdown",
   "id": "b9807438",
   "metadata": {},
   "source": [
    "We should have found that preparing many randomly oriented qubits and measuring gives the same result as preparing only pi/2 y-rotated states. Therefore, since running the number of individual experiments we did is substantially more expensive than the number of shots per experiment, we can save money by measuring a pi/2 rotated state many times rather than preparing many random states and measure each once."
   ]
  },
  {
   "cell_type": "markdown",
   "id": "316116cb",
   "metadata": {},
   "source": [
    "All we have done so far is effectively the first part of our first experiment displayed in figure 4. We generated a bunch of randomly oriented 'electrons', represented as qubits, and enacted the deflection by a z-direction magnetic field via measuring these qubits. The next part of the first Stern-Gerlach experiment will block out the states measured as spin down and feed the states measured as spin up into another z-direction magnetic field. To implement this first experiment using qubits, we will first rotate the intial up qubit by $\\pi/2$ in the y-direction then measure the state of qubit. Measurement has the same effect as applying a z-direction magnetic field since measurement forces the result to be either up or down, just as the magnetic field did for the silver atoms. We then block the qubits measured in the down state and feed only the up state qubits into another measurement device."
   ]
  },
  {
   "cell_type": "code",
   "execution_count": 45,
   "id": "91442ea9",
   "metadata": {
    "tags": []
   },
   "outputs": [
    {
     "name": "stdout",
     "output_type": "stream",
     "text": [
      "Counter({'1': 56, '0': 44})\n"
     ]
    },
    {
     "data": {
      "image/png": "[encoded data removed]",
      "text/plain": [
       "<Figure size 432x288 with 1 Axes>"
      ]
     },
     "metadata": {
      "needs_background": "light"
     },
     "output_type": "display_data"
    }
   ],
   "source": [
    "# Prepare a pi/2 y-direction rotated qubit\n",
    "theta = pi/2\n",
    "\n",
    "psi = Circuit().ry(angle=theta, target=0)\n",
    "\n",
    "# set up device\n",
    "device = LocalSimulator()\n",
    "\n",
    "# run circuit\n",
    "result = device.run(psi, shots=100).result()\n",
    "\n",
    "# get result of shots\n",
    "counts = result.measurement_counts\n",
    "\n",
    "# print result\n",
    "print(counts)\n",
    "\n",
    "# plot using Counter\n",
    "plt.bar(counts.keys(), counts.values());\n",
    "plt.xlabel('states');\n",
    "plt.ylabel('counts');"
   ]
  },
  {
   "cell_type": "markdown",
   "id": "6bdcc64b-f9cd-4a9a-b0d5-a2f869be5086",
   "metadata": {},
   "source": [
    "**Question 8: From your knowledge of quantum mechanics so far, what do you predict we should measure if we measure the same qubit twice? Why?**"
   ]
  },
  {
   "cell_type": "markdown",
   "id": "c670f965-752c-482a-9b08-4f06fab327fa",
   "metadata": {},
   "source": [
    "Let's block out the down $|1\\rangle$ state and only feed the up $|0\\rangle$ state into the next measurement.\n"
   ]
  },
  {
   "cell_type": "markdown",
   "id": "f3d8b1fc-5c3f-4278-9f3b-1bafb255d88b",
   "metadata": {},
   "source": [
    "Take number of up states from the first measurement and assign it as the number of shots we take in this measurement."
   ]
  },
  {
   "cell_type": "code",
   "execution_count": 46,
   "id": "6a3935e9-4dcd-4504-b696-b5d6ba00d822",
   "metadata": {},
   "outputs": [],
   "source": [
    "num_zeros = counts['0']"
   ]
  },
  {
   "cell_type": "markdown",
   "id": "42877e53-5352-4698-b398-2149511f4859",
   "metadata": {},
   "source": [
    "Initialize the qubit state so that it aligns with our previous measurement of up."
   ]
  },
  {
   "cell_type": "code",
   "execution_count": 47,
   "id": "01cf0d7a-45a5-4094-b2e5-ccee8e55f0d5",
   "metadata": {},
   "outputs": [],
   "source": [
    "theta = 0\n",
    "psi = Circuit().ry(angle=theta, target=0)"
   ]
  },
  {
   "cell_type": "markdown",
   "id": "18b61d86-1500-4e36-8758-4d5c6f5f7aa2",
   "metadata": {},
   "source": [
    "Set up device."
   ]
  },
  {
   "cell_type": "code",
   "execution_count": 48,
   "id": "a1809842-5940-4903-9494-06355bc354a7",
   "metadata": {},
   "outputs": [],
   "source": [
    "device = LocalSimulator()"
   ]
  },
  {
   "cell_type": "markdown",
   "id": "da6e1567-5777-485c-a964-e6facb1e0b33",
   "metadata": {},
   "source": [
    "Run circuit."
   ]
  },
  {
   "cell_type": "code",
   "execution_count": 49,
   "id": "4cec2712-8805-4b4d-8901-22b7937501a1",
   "metadata": {},
   "outputs": [],
   "source": [
    "result = device.run(psi, shots=num_zeros).result()"
   ]
  },
  {
   "cell_type": "markdown",
   "id": "b7431265-3292-41ac-88cc-879f735630a1",
   "metadata": {},
   "source": [
    "Get result of shots."
   ]
  },
  {
   "cell_type": "code",
   "execution_count": 50,
   "id": "fb0feb91-bd64-4d64-8de7-1f4a9f89804b",
   "metadata": {},
   "outputs": [],
   "source": [
    "counts = result.measurement_counts"
   ]
  },
  {
   "cell_type": "markdown",
   "id": "483efbb6-e6bd-4a1f-a4e0-86e7345d4c3a",
   "metadata": {},
   "source": [
    "Print the counts."
   ]
  },
  {
   "cell_type": "code",
   "execution_count": 51,
   "id": "db1a531b-fe8d-4dad-9da0-2bc15b190cc4",
   "metadata": {},
   "outputs": [
    {
     "name": "stdout",
     "output_type": "stream",
     "text": [
      "Counter({'0': 44})\n"
     ]
    }
   ],
   "source": [
    "print(counts)"
   ]
  },
  {
   "cell_type": "markdown",
   "id": "1daa6bb7-0a13-4290-a7bb-3c7593b501ea",
   "metadata": {},
   "source": [
    "Plot using counter."
   ]
  },
  {
   "cell_type": "code",
   "execution_count": 52,
   "id": "a55191e1-cc47-4c85-911f-a21dcc7fd254",
   "metadata": {
    "tags": []
   },
   "outputs": [
    {
     "data": {
      "image/png": "[encoded data removed]",
      "text/plain": [
       "<Figure size 432x288 with 1 Axes>"
      ]
     },
     "metadata": {
      "needs_background": "light"
     },
     "output_type": "display_data"
    }
   ],
   "source": [
    "plt.bar(counts.keys(), counts.values());\n",
    "plt.xlabel('states');\n",
    "plt.ylabel('counts');"
   ]
  },
  {
   "cell_type": "markdown",
   "id": "fe3911b4-b908-4f2e-9476-0ef3d1302e56",
   "metadata": {},
   "source": [
    "If you guessed that measuring twice would just give the same result twice, you were correct. When we measure the state, we collapse the wavefunction to give a single result. If we measure that collapsed wavefunction again in the same way, it is still collapsed and will yield the same measurement."
   ]
  },
  {
   "cell_type": "markdown",
   "id": "6a633207-032f-428b-9121-5f65feb708ed",
   "metadata": {},
   "source": [
    "Let's convince ourselves that there isn't anything special about blocking the down states in the above experiment. We can do that by running the same kind of code but blocking out only the up states rather than the down states."
   ]
  },
  {
   "cell_type": "code",
   "execution_count": 53,
   "id": "b84d136c",
   "metadata": {
    "tags": []
   },
   "outputs": [
    {
     "name": "stdout",
     "output_type": "stream",
     "text": [
      "Counter({'1': 58, '0': 42})\n"
     ]
    },
    {
     "data": {
      "image/png": "[encoded data removed]",
      "text/plain": [
       "<Figure size 432x288 with 1 Axes>"
      ]
     },
     "metadata": {
      "needs_background": "light"
     },
     "output_type": "display_data"
    }
   ],
   "source": [
    "# Prepare a pi/2 y-direction rotated qubit\n",
    "theta = pi/2\n",
    "\n",
    "psi = Circuit().ry(angle=theta, target=0)\n",
    "\n",
    "# set up device\n",
    "device = LocalSimulator()\n",
    "\n",
    "# run circuit\n",
    "result = device.run(psi, shots=100).result()\n",
    "\n",
    "# get result of shots\n",
    "counts = result.measurement_counts\n",
    "\n",
    "# print result\n",
    "print(counts)\n",
    "\n",
    "# plot using Counter\n",
    "plt.bar(counts.keys(), counts.values());\n",
    "plt.xlabel('states');\n",
    "plt.ylabel('counts');"
   ]
  },
  {
   "cell_type": "code",
   "execution_count": 54,
   "id": "0e762866",
   "metadata": {
    "tags": []
   },
   "outputs": [
    {
     "name": "stdout",
     "output_type": "stream",
     "text": [
      "Counter({'1': 58})\n"
     ]
    },
    {
     "data": {
      "image/png": "[encoded data removed]",
      "text/plain": [
       "<Figure size 432x288 with 1 Axes>"
      ]
     },
     "metadata": {
      "needs_background": "light"
     },
     "output_type": "display_data"
    }
   ],
   "source": [
    "# Let's block out the up state and only feed the downs into the next measurement\n",
    "num_ones = counts['1']\n",
    "\n",
    "# Set up the qubit so that it is in the down state by applying a pi y-direction rotation\n",
    "theta = pi\n",
    "psi = Circuit().ry(angle=theta, target=0)\n",
    "\n",
    "# set up device\n",
    "device = LocalSimulator()\n",
    "\n",
    "# run circuit\n",
    "result = device.run(psi, shots=num_ones).result()\n",
    "\n",
    "# get result of shots\n",
    "counts = result.measurement_counts\n",
    "\n",
    "print(counts)\n",
    "\n",
    "# plot using Counter\n",
    "plt.bar(counts.keys(), counts.values());\n",
    "plt.xlabel('bitstrings');\n",
    "plt.ylabel('counts');"
   ]
  },
  {
   "cell_type": "markdown",
   "id": "838e529f-a22d-4911-8c2d-7f2b16b9f469",
   "metadata": {},
   "source": [
    "You should have found that you got the same number of down qubits out of the second part of the experiment as you got from the first. Again, this is due to wavefunction collapse."
   ]
  },
  {
   "cell_type": "markdown",
   "id": "4ee342ad-6a99-4f49-a9e4-ca44e86a5224",
   "metadata": {
    "tags": []
   },
   "source": [
    "If you want to, you can execute the next four cells (in order) to run the same experiment we just did but now have it run on an actual quantum device. Note that running on the real quantum hardware can potentially take a long time so you won't be able to run all the cells right away. You should wait until your job submission has finished each time and then submit the next job."
   ]
  },
  {
   "cell_type": "code",
   "execution_count": 55,
   "id": "8242bc9b-22f7-41bd-ab13-ad6577fad96e",
   "metadata": {
    "tags": []
   },
   "outputs": [
    {
     "name": "stdout",
     "output_type": "stream",
     "text": [
      "Status of task: QUEUED\n"
     ]
    }
   ],
   "source": [
    "# Prepare a pi/2 y-direction rotated qubit\n",
    "theta = pi/2\n",
    "\n",
    "psi = Circuit().ry(angle=theta, target=0)\n",
    "\n",
    "# set up device\n",
    "ionq = AwsDevice(\"arn:aws:braket:::device/qpu/ionq/ionQdevice\")\n",
    "\n",
    "# run circuit\n",
    "ionq_task = ionq.run(psi, shots=100)\n",
    "\n",
    "# get id and status of submitted task\n",
    "ionq_task_id2 = ionq_task.id\n",
    "ionq_status = ionq_task.state()\n",
    "# print('ID of task:', ionq_task_id)\n",
    "print('Status of task:', ionq_status)"
   ]
  },
  {
   "cell_type": "code",
   "execution_count": 58,
   "id": "c0d95776-5b8b-4799-a7c4-0dc59e29646b",
   "metadata": {},
   "outputs": [
    {
     "name": "stdout",
     "output_type": "stream",
     "text": [
      "Status of (reconstructed) task: QUEUED\n",
      "Sorry, your task is still being processed and has not been finalized yet.\n"
     ]
    }
   ],
   "source": [
    "task_load = AwsQuantumTask(arn=ionq_task_id2)\n",
    "\n",
    "# print status\n",
    "status = task_load.state()\n",
    "print('Status of (reconstructed) task:', status)\n",
    "\n",
    "# wait for job to complete\n",
    "# terminal_states = ['COMPLETED', 'FAILED', 'CANCELLED']\n",
    "if status == 'COMPLETED':\n",
    "    # get results\n",
    "    results = task_load.result()\n",
    "    # print(rigetti_results)\n",
    "    \n",
    "    # get all metadata of submitted task\n",
    "    metadata = task_load.metadata()\n",
    "    # example for metadata\n",
    "    shots = metadata['shots']\n",
    "    machine = metadata['deviceArn']\n",
    "    # print example metadata\n",
    "    print(\"{} shots taken on machine {}.\".format(shots, machine))\n",
    "    \n",
    "    # get measurement counts\n",
    "    ionqcounts = results.measurement_counts\n",
    "    print('Measurement counts:', ionqcounts)\n",
    "    \n",
    "elif status in ['FAILED', 'CANCELLED']:\n",
    "    # print terminal message \n",
    "    print('Your task is in terminal status, but has not completed.')\n",
    "\n",
    "else:\n",
    "    # print current status\n",
    "    print('Sorry, your task is still being processed and has not been finalized yet.')"
   ]
  },
  {
   "cell_type": "code",
   "execution_count": null,
   "id": "a9558a3f-ab18-4bee-be98-1353adfb87e0",
   "metadata": {},
   "outputs": [],
   "source": [
    "# Let's block out the up state and only feed the downs into the next measurement\n",
    "num_ones = ionqcounts['1']\n",
    "\n",
    "# Set up the qubit so that it is in the down state by applying a pi y-direction rotation\n",
    "theta = pi\n",
    "psi = Circuit().ry(angle=theta, target=0)\n",
    "\n",
    "# set up device\n",
    "ionq = AwsDevice(\"arn:aws:braket:::device/qpu/ionq/ionQdevice\")\n",
    "\n",
    "# run circuit\n",
    "ionq_task = ionq.run(psi, shots=num_ones)\n",
    "\n",
    "# get id and status of submitted task\n",
    "ionq_task_id = ionq_task.id\n",
    "ionq_status = ionq_task.state()\n",
    "# print('ID of task:', ionq_task_id)\n",
    "print('Status of task:', ionq_status)"
   ]
  },
  {
   "cell_type": "code",
   "execution_count": null,
   "id": "e9712cda-9cfb-4fdd-9425-2c21558fa9bf",
   "metadata": {},
   "outputs": [],
   "source": [
    "task_load = AwsQuantumTask(arn=ionq_task_id)\n",
    "\n",
    "# print status\n",
    "status = task_load.state()\n",
    "print('Status of (reconstructed) task:', status)\n",
    "\n",
    "# wait for job to complete\n",
    "# terminal_states = ['COMPLETED', 'FAILED', 'CANCELLED']\n",
    "if status == 'COMPLETED':\n",
    "    # get results\n",
    "    results = task_load.result()\n",
    "    # print(rigetti_results)\n",
    "    \n",
    "    # get all metadata of submitted task\n",
    "    metadata = task_load.metadata()\n",
    "    # example for metadata\n",
    "    shots = metadata['shots']\n",
    "    machine = metadata['deviceArn']\n",
    "    # print example metadata\n",
    "    print(\"{} shots taken on machine {}.\".format(shots, machine))\n",
    "    \n",
    "    # get measurement counts\n",
    "    ionqcounts = results.measurement_counts\n",
    "    print('Measurement counts:', ionqcounts)\n",
    "\n",
    "    # plot results: see effects of noise\n",
    "    plt.bar(counts.keys(), ionqcounts.values())\n",
    "    plt.xlabel('states')\n",
    "    plt.ylabel('counts')\n",
    "    plt.tight_layout()\n",
    "    \n",
    "elif status in ['FAILED', 'CANCELLED']:\n",
    "    # print terminal message \n",
    "    print('Your task is in terminal status, but has not completed.')\n",
    "\n",
    "else:\n",
    "    # print current status\n",
    "    print('Sorry, your task is still being processed and has not been finalized yet.')"
   ]
  },
  {
   "cell_type": "markdown",
   "id": "caccc7e2-f8b9-46be-86e4-991fdeb66f02",
   "metadata": {},
   "source": [
    "**Optional Question: If you were able to run the first Stern-Gerlach experiment on the quantum computer did you notice any difference in your results as compared to the simulated results?**"
   ]
  },
  {
   "cell_type": "markdown",
   "id": "e3b23815-b41c-4985-a9f6-1d378189dc0e",
   "metadata": {},
   "source": [
    "We will now implement the second Stern-Gerlach experiment displayed below in figure 5.\n",
    "</br>\n",
    "<figure>\n",
    "    <img src=\"imgs/experiment_b.png\" width=600 height=600 />\n",
    "    <figcaption>Figure 4: Second Stern-Gerlach Experiment. [4]</figcaption>\n",
    "</figure>\n",
    "</br>\n",
    "This experiment starts the same way as the previous one but instead of remeasuring the up state using the z-direction magnetic field, we put it through an x-direction magnetic field. The results of Stern and Gerlach showed that sending in either up or down spins, as seen by z-direction magnetic field, into the x-direction magnetic field causes a 50/50 split between up and down as measured out of the x-direction magnetic field. Let's show how we can implement this experiment using qubits."
   ]
  },
  {
   "cell_type": "code",
   "execution_count": 59,
   "id": "f998122f-69d8-45be-b9b9-da4720ccda41",
   "metadata": {
    "tags": []
   },
   "outputs": [
    {
     "name": "stdout",
     "output_type": "stream",
     "text": [
      "Counter({'1': 527, '0': 473})\n"
     ]
    },
    {
     "data": {
      "image/png": "[encoded data removed]",
      "text/plain": [
       "<Figure size 432x288 with 1 Axes>"
      ]
     },
     "metadata": {
      "needs_background": "light"
     },
     "output_type": "display_data"
    }
   ],
   "source": [
    "# Prepare a pi/2 y-direction rotated qubit\n",
    "theta = pi/2\n",
    "\n",
    "psi = Circuit().ry(angle=theta, target=0)\n",
    "\n",
    "# set up device\n",
    "device = LocalSimulator()\n",
    "\n",
    "# run circuit\n",
    "result = device.run(psi, shots=1000).result()\n",
    "\n",
    "# get result of shots\n",
    "counts = result.measurement_counts\n",
    "\n",
    "# print result\n",
    "print(counts)\n",
    "\n",
    "# plot using Counter\n",
    "plt.bar(counts.keys(), counts.values());\n",
    "plt.xlabel('states');\n",
    "plt.ylabel('counts');"
   ]
  },
  {
   "cell_type": "code",
   "execution_count": 60,
   "id": "081b6ad5-2cfd-4679-ac5d-404b47f85e22",
   "metadata": {
    "tags": []
   },
   "outputs": [
    {
     "name": "stdout",
     "output_type": "stream",
     "text": [
      "Counter({'1': 238, '0': 235})\n"
     ]
    },
    {
     "data": {
      "image/png": "[encoded data removed]",
      "text/plain": [
       "<Figure size 432x288 with 1 Axes>"
      ]
     },
     "metadata": {
      "needs_background": "light"
     },
     "output_type": "display_data"
    }
   ],
   "source": [
    "# Let's block out the up state and only feed the downs into the next measurement\n",
    "num_zeros = counts['0']\n",
    "\n",
    "# Set up the qubit so that it is in the up state then rotate the qubit by pi/2 in the y-direction since the x-direction is rotated by pi/2 relative to the z-direction.\n",
    "theta = pi/2\n",
    "psi = Circuit().ry(angle=theta, target=0)\n",
    "\n",
    "# set up device\n",
    "device = LocalSimulator()\n",
    "\n",
    "# run circuit\n",
    "result = device.run(psi, shots=num_zeros).result()\n",
    "\n",
    "# get result of shots\n",
    "counts = result.measurement_counts\n",
    "\n",
    "print(counts)\n",
    "\n",
    "# plot using Counter\n",
    "plt.bar(counts.keys(), counts.values());\n",
    "plt.xlabel('states');\n",
    "plt.ylabel('counts');"
   ]
  },
  {
   "cell_type": "markdown",
   "id": "364ab62c-e2d9-42e1-bbbb-4a4b65396ba8",
   "metadata": {},
   "source": [
    "We see that measuring the qubit after it goes through the equivalent of an x-direction magnetic field gives half up and half down even after measuring the z-direction to be entirely in the up state. From this, we might conclude that the qubit can have spin up in the z-direction while simultaneously having spin either up or down in the x-direction. The third experiment, displayed in figure 5 tests this hypothesis.\n",
    "</br>\n",
    "<figure>\n",
    "    <img src=\"imgs/experiment_c.png\" width=600 height=700 />\n",
    "    <figcaption>Figure 4: Third Stern-Gerlach Experiment. [4]</figcaption>\n",
    "</figure>\n",
    "</br>"
   ]
  },
  {
   "cell_type": "markdown",
   "id": "e4f1d315",
   "metadata": {},
   "source": [
    "In this experiment, we send a qubit through three magnetic fields. The first in the z-direction, the second in the x-direction, and the third in the z-direction. After going through the first z-direction magnetic field, we take only the spin up states to send into the x-direction magnetic field. We then take the spin up states from the x-direction magnetic field to send into the third z-direction magnetic field. From the previous experiment, we may have thought that the qubit was now in a state of both up in the x-direction and up in the z-direction. Therefore, measuring the z-direction again would obviously yield another up spin state. This turns out to not be the case and teaches us another important lesson about quantum mechanics. The lesson it teaches us is that there are properties of a quantum system that cannot be measured simultaneously. In this experiment, it turns out that the x-direction measurement destroys the information about the first z-direction measurement. This is a feature of something called the uncertainty principle. When the spin exits the x-direction magnetic field, it has no memory of what it's z-direction spin state was and thus when it goes through another z-direction magnetic field we get a 50/50 probability of the spin state being up or down. Let's show how we can implement this using qubits so you can see the results for yourself."
   ]
  },
  {
   "cell_type": "code",
   "execution_count": 61,
   "id": "85dbc86a-4003-4518-b3b8-203a832c9fc7",
   "metadata": {
    "tags": []
   },
   "outputs": [
    {
     "name": "stdout",
     "output_type": "stream",
     "text": [
      "Counter({'1': 511, '0': 489})\n"
     ]
    },
    {
     "data": {
      "image/png": "[encoded data removed]",
      "text/plain": [
       "<Figure size 432x288 with 1 Axes>"
      ]
     },
     "metadata": {
      "needs_background": "light"
     },
     "output_type": "display_data"
    }
   ],
   "source": [
    "# Prepare a pi/2 y-direction rotated qubit\n",
    "theta = pi/2\n",
    "\n",
    "psi = Circuit().ry(angle=theta, target=0)\n",
    "\n",
    "# set up device\n",
    "device = LocalSimulator()\n",
    "\n",
    "# run circuit\n",
    "result = device.run(psi, shots=1000).result()\n",
    "\n",
    "# get result of shots\n",
    "counts = result.measurement_counts\n",
    "\n",
    "# print result\n",
    "print(counts)\n",
    "\n",
    "# plot using Counter\n",
    "plt.bar(counts.keys(), counts.values());\n",
    "plt.xlabel('states');\n",
    "plt.ylabel('counts');"
   ]
  },
  {
   "cell_type": "code",
   "execution_count": 62,
   "id": "c50abd2b-08d9-4365-8548-7de6a172d686",
   "metadata": {
    "tags": []
   },
   "outputs": [
    {
     "name": "stdout",
     "output_type": "stream",
     "text": [
      "Counter({'1': 245, '0': 244})\n"
     ]
    },
    {
     "data": {
      "image/png": "[encoded data removed]",
      "text/plain": [
       "<Figure size 432x288 with 1 Axes>"
      ]
     },
     "metadata": {
      "needs_background": "light"
     },
     "output_type": "display_data"
    }
   ],
   "source": [
    "# Let's block out the z-direction state and only feed the 0's into the next measurement\n",
    "num_zeros = counts['0']\n",
    "\n",
    "# Set up the qubit so that it is in the up state then rotate the qubit by pi/2 in the y-direction since the x-direction is rotated by pi/2 relative to the z-direction.\n",
    "theta = pi/2\n",
    "psi = Circuit().ry(angle=theta, target=0)\n",
    "\n",
    "# set up device\n",
    "device = LocalSimulator()\n",
    "\n",
    "# run circuit\n",
    "result = device.run(psi, shots=num_zeros).result()\n",
    "\n",
    "# get result of shots\n",
    "counts = result.measurement_counts\n",
    "\n",
    "print(counts)\n",
    "\n",
    "# plot using Counter\n",
    "plt.bar(counts.keys(), counts.values());\n",
    "plt.xlabel('states');\n",
    "plt.ylabel('counts');"
   ]
  },
  {
   "cell_type": "code",
   "execution_count": 63,
   "id": "2aab247a-4334-492a-8714-47c26d23a0f2",
   "metadata": {
    "tags": []
   },
   "outputs": [
    {
     "name": "stdout",
     "output_type": "stream",
     "text": [
      "Counter({'1': 140, '0': 104})\n"
     ]
    },
    {
     "data": {
      "image/png": "[encoded data removed]",
      "text/plain": [
       "<Figure size 432x288 with 1 Axes>"
      ]
     },
     "metadata": {
      "needs_background": "light"
     },
     "output_type": "display_data"
    }
   ],
   "source": [
    "# Let's block out the x-direction up state and only feed the downs into the next measurement\n",
    "num_zeros = counts['0']\n",
    "\n",
    "# Set up the qubit so that it is in the x-direction up state and then rotate by -pi/2 to simulate a z-direction magnetic field\n",
    "theta = -pi/2\n",
    "psi = Circuit().ry(angle=theta, target=0)\n",
    "\n",
    "# set up device\n",
    "device = LocalSimulator()\n",
    "\n",
    "# run circuit\n",
    "result = device.run(psi, shots=num_zeros).result()\n",
    "\n",
    "# get result of shots\n",
    "counts = result.measurement_counts\n",
    "\n",
    "print(counts)\n",
    "\n",
    "# plot using Counter\n",
    "plt.bar(counts.keys(), counts.values());\n",
    "plt.xlabel('states');\n",
    "plt.ylabel('counts');"
   ]
  },
  {
   "cell_type": "markdown",
   "id": "4d7a4a42-7cde-4b84-9cd1-4056f91f886b",
   "metadata": {},
   "source": [
    "Indeed, we see that the z-direction measurement of the output from the x-direction magnetic field yields roughly 50/50 chance of either up or down."
   ]
  },
  {
   "cell_type": "markdown",
   "id": "bcc98ea1-565e-4790-83af-1adb16fa708d",
   "metadata": {},
   "source": [
    "**Question 9: If we were to block the down spin output from the last z-direction magnetic field and feed that into another x-direction magnetic field, what do you expect the output would be? Why?**"
   ]
  },
  {
   "cell_type": "markdown",
   "id": "beeca01a",
   "metadata": {},
   "source": [
    "# References\n",
    "##### [1] - http://hyperphysics.phy-astr.gsu.edu/hbase/magnetic/magmom.html\n",
    "##### [2] - By Tatoute - Own work, CC BY-SA 4.0, https://commons.wikimedia.org/w/index.php?curid=34095239\n",
    "##### [3] - \"Fundamentals of Physics Volume II\" by Halliday, Resnick, and Walker 2018. pg 956, Figure 32-12\n",
    "##### [4] - \"A Modern Approach to Quantum Mechanics\" by John S. Townsend"
   ]
  }
 ],
 "metadata": {
  "kernelspec": {
   "display_name": "Python 3 [Braket]",
   "language": "python",
   "name": "python3_aws_braket_kwx6dl"
  },
  "language_info": {
   "codemirror_mode": {
    "name": "ipython",
    "version": 3
   },
   "file_extension": ".py",
   "mimetype": "text/x-python",
   "name": "python",
   "nbconvert_exporter": "python",
   "pygments_lexer": "ipython3",
   "version": "3.9.10"
  },
  "vscode": {
   "interpreter": {
    "hash": "916dbcbb3f70747c44a77c7bcd40155683ae19c65e1c03b4aa3499c5328201f1"
   }
  }
 },
 "nbformat": 4,
 "nbformat_minor": 5
}
