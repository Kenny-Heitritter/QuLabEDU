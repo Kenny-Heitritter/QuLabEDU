{
 "cells": [
  {
   "cell_type": "markdown",
   "id": "4fe11a24",
   "metadata": {},
   "source": [
    "# <Q|1> The Stern-Gerlach Experiments\n",
    "##### Authors: Kenneth Heitritter (UIowa), Yannick Meurice (UIowa), Zeineb Mezghanni (Grinnell College)"
   ]
  },
  {
   "cell_type": "markdown",
   "id": "19b3075f",
   "metadata": {},
   "source": [
    "## Introduction\n",
    "##### The following experiment was first conceived by Otto Stern in 1921 and thereafter carried out by Walther Gerlach in 1922. The original experiment used a beam of silver atoms traveling through inhomogeneous magnetic fields and screens to show that the electron has an inherent angular momentum (spin) that is quantized. The experiment is also able to show properties of quantum measurement and display facets of the uncertainty principle. This notebook will allow you to use both a classical simulator a genuine quantum computer to manipulate qubits and carry out the Stern-Gerlach experiment.\n",
    "\n",
    "##### First, a little background on the physics of this experiment. If you have learned about the physics of magnetic fields, you likely encountered the concept of the magnetic dipole moment $\\vec{\\mu}$. The simplest way to define $\\vec{\\mu}$ is to picture a loop of current as shown in Figure 1.\n",
    "<figure>\n",
    "    <img src=\"./imgs/magnetic_moment.png\" width=300 height=300 />\n",
    "    <figcaption>Figure 1: Magnetic dipole moment of a loop of current. [1]</figcaption>\n",
    "</figure>\n",
    "\n",
    "##### The loop of current has an associated direction and that direction gives us a notion of an area vector. To determine the direction, we use the right hand rule. Multiplying the current and the area vector gives the definition of the magnetic moment $\\vec{\\mu}=I\\vec{A}$. Rather than explicitly defining the magnetic moment using the current, we could instead imagine the current to be a loop of constant linear charge density $\\lambda$ rotating at a constant speed $v$. From this, we could write $I=\\lambda v$. Since the loop is a circle, we could be explicit about $\\lambda$ and write $\\lambda=\\frac{Q}{2\\pi R}$. All together, $I=\\frac{Q}{2\\pi R} v$. We could now put this into the definition of our magnetic moment, along with the fact that the area of a loop is $A=\\pi R^2$, so that $\\vec{\\mu}=\\frac{Q}{2\\pi R}v\\cdot \\pi R^2 \\hat{n}=\\frac{1}{2}QvR \\hat{n}$, where $\\hat{n}$ is the unit vector pointing out of the loop. Recall from your physics 1 class that an object orbiting about a position has an associated angular momentum given by $\\vec{L}=m \\vec{v}\\times \\vec{r}$. Assume for now that the $\\vec{v}$ and $\\vec{r}$ are perpendicular so that we can express the magnitude of the angular momentum as $L=|\\vec{L}|=mvR$. We notice that $L/m=vR$ and $vR$ is an expression appearing in the magnetic moment. Therefore, we can substitute the angular momentum into the magnetic moment to find $\\mu =\\frac{Q}{2m} L$. This simple but profound statement tells us that an object with angular momentum, mass, and charge has an associated magnetic moment.\n",
    "##### The specific object we will consider in this lab is an electron for which we might guess a magnetic dipole moment of $\\mu = \\frac{e}{2m_e} S$. Here, we denote the electron's angular momentum by $S$ because it is referred to as spin angular momentum. The reason for giving this a different name should make sense as we move forward. Physicists usually prefer to write this magnetic dipole moment using $\\hbar$ (Planck's reduced constant) as $\\mu = \\frac{e\\hbar}{2m_e}\\frac{S}{\\hbar}$, though it is the same expression. The reason for writing it this way is that $\\frac{S}{\\hbar}$ has no units and $\\frac{e\\hbar}{2m_e}$ has units of magnetic dipole moment and is called the Bohr magneton ($\\mu_B$). Though we are close to correct in writing the magnetic moment in this way, there actually exists a multiplicative constant $g$ called the Lande g-factor that multiplies the expression so that $\\mu = -g\\frac{e\\hbar}{2m_e}\\frac{S}{\\hbar}$. For the electron, this g-factor ends up being $2$ but won't explain much more about that at this level. All together now, we can write the magnetic dipole moment of the electron as $\\vec{\\mu}=-2\\mu_B \\frac{\\vec{S}}{\\hbar}$.\n",
    "\n",
    "##### When learning about the physics of electric and magnetic fields, you learned that a charged particle moving in a magnetic field feels a force according to $\\vec{F}=q \\vec{v}\\times \\vec{B}$. If the magnetic field applied is inhomogeneous in the sense of Figure 2 then we see that a circling electron will feel an upward force. \n",
    "<figure>\n",
    "    <img src=\"./imgs/dipole_force_diagram.png\" width=300 height=500 />\n",
    "    <figcaption>Figure 2: a: Inhomogenous magnetic field applied to a loop of current. b: Forces felt due to inhomogenous magnetic field. [2]</figcaption>\n",
    "</figure>\n",
    "Since a circling electron is the same as a loop of current going the opposite direction, and a loop of current has a magnetic dipole moment, we can abstract away the circling electron and find that a magnetic dipole feels an upward or downward force in an inhomogeneous field. The direction of the force will depend on the orientation of the magnetic moment relative to the inhomogeneous field. Due to this force, a dipole with some initial velocity perpendicular to the direction of the inhomogeneous magnetic field will be deflected when moving through an inhomogeneous magnetic field. This dipole deflection was exactly the physics Stern and Gerlach intended to test in their experiment. The experiment uses silver atoms, which has 47 electrons of which 46 are in entirely filled shells and the last electron is in a shell with angular momentum of zero. Therefore, by sending silver atoms through inhomogeneous magnetic fields, one can test the inherent magnetic dipole moment of the electron. The basic setup used by Stern and Gerlach was as pictured in Figure 3.\n",
    "<figure>\n",
    "    <img src=\"./imgs/Stern-Gerlach_experiment.svg\" width=500 height=600 />\n",
    "    <figcaption>Figure 3: Silver atoms travelling through an inhomogeneous magnetic field, and being deflected up or down depending on their spin; (1) furnace, (2) beam of silver atoms, (3) inhomogeneous magnetic field, (4) classically expected result, (5) observed result. [3]</figcaption>\n",
    "</figure>\n",
    "As the silver atoms are thermally excited out of the furnace their orientations, and therefore the electron's magnetic dipole moments, should be randomly oriented. If the electron's magnetic dipole moment were a classical quantity then one would expect the random orientations to encounter the magnetic field and be deflected at continuous angles corresponding to their orientation. With enough electrons, one would classically expect a screen placed on the other side of the magnetic field to show a continuous line showing where electrons hit the screen. What Stern and Gerlach found was something quite different - the electrons were only deflected into two points. This experiment showed that the inherent magnetic dipole moment and thus angular momentum (spin) of the electron is not a classical quantity and instead can take only one of two states. These two states can be labeled as up and down and are only explainable in terms of quantum mechanics.\n",
    "<br/>\n",
    "<br/>\n",
    "\n",
    "From the experiment of Stern and Gerlach, the world learned that the spin angular momentum of the electron is quantum mechanical property and, upon measurement, can exist only in one of two states. In the realm of quantum information science, we refer to any two state quantum mechanical system as a qubit. The term qubit is derived from the classical bit, a value of 0 or 1, which all normal computers operate on. In this lab, we will work with qubits to display the same types of physics that Stern and Gerlach were able to demonstrate using silver atoms. Most of the code we will run in this notebook will simulate how qubits work using classical bits but there will be sections where you have the opportunity to submit code to run on a real quantum computer. Though we can simulate how qubits work for small numbers of qubits, this simulation becomes effectively impossible for larger numbers of qubits. Everything in this lab will utilize small single qubits and can thus be effectively simulated.\n",
    "<br/>\n",
    "<br/>\n",
    "In order to run code in this lab, you should click on a cell and then hit (shift + enter) on your keyboard to run the code in the cell. Let's start by running a cell that installs a popular quantum computing library, Qiskit, we will need. Go ahead and hit (shift + enter) for only the below cell. Once it finishes running then you can run the cell below it. This second cell will import the Python libraries (pre-defined code) we will need to run the rest of the lab. This cell will also list the available quantum gates we can use to act on qubits. You don't have to know anything about quantum gates at this point but provides you with some content to learn more about if you wish."
   ]
  },
  {
   "cell_type": "code",
   "execution_count": 36,
   "id": "7a24f136-c136-4009-a6d8-2ba082b62f76",
   "metadata": {
    "collapsed": true,
    "jupyter": {
     "outputs_hidden": true
    },
    "tags": []
   },
   "outputs": [
    {
     "name": "stdout",
     "output_type": "stream",
     "text": [
      "Requirement already satisfied: qiskit in /home/kenny/anaconda3/envs/aws-qis/lib/python3.10/site-packages (0.37.0)\n",
      "Requirement already satisfied: qiskit-terra==0.21.0 in /home/kenny/anaconda3/envs/aws-qis/lib/python3.10/site-packages (from qiskit) (0.21.0)\n",
      "Requirement already satisfied: qiskit-aer==0.10.4 in /home/kenny/anaconda3/envs/aws-qis/lib/python3.10/site-packages (from qiskit) (0.10.4)\n",
      "Requirement already satisfied: qiskit-ibmq-provider==0.19.2 in /home/kenny/anaconda3/envs/aws-qis/lib/python3.10/site-packages (from qiskit) (0.19.2)\n",
      "Requirement already satisfied: scipy>=1.0 in /home/kenny/anaconda3/envs/aws-qis/lib/python3.10/site-packages (from qiskit-aer==0.10.4->qiskit) (1.8.1)\n",
      "Requirement already satisfied: numpy>=1.16.3 in /home/kenny/anaconda3/envs/aws-qis/lib/python3.10/site-packages (from qiskit-aer==0.10.4->qiskit) (1.23.1)\n",
      "Requirement already satisfied: urllib3>=1.21.1 in /home/kenny/anaconda3/envs/aws-qis/lib/python3.10/site-packages (from qiskit-ibmq-provider==0.19.2->qiskit) (1.26.10)\n",
      "Requirement already satisfied: websocket-client>=1.0.1 in /home/kenny/anaconda3/envs/aws-qis/lib/python3.10/site-packages (from qiskit-ibmq-provider==0.19.2->qiskit) (1.3.3)\n",
      "Requirement already satisfied: python-dateutil>=2.8.0 in /home/kenny/anaconda3/envs/aws-qis/lib/python3.10/site-packages (from qiskit-ibmq-provider==0.19.2->qiskit) (2.8.2)\n",
      "Requirement already satisfied: websockets>=10.0 in /home/kenny/anaconda3/envs/aws-qis/lib/python3.10/site-packages (from qiskit-ibmq-provider==0.19.2->qiskit) (10.3)\n",
      "Requirement already satisfied: requests-ntlm>=1.1.0 in /home/kenny/anaconda3/envs/aws-qis/lib/python3.10/site-packages (from qiskit-ibmq-provider==0.19.2->qiskit) (1.1.0)\n",
      "Requirement already satisfied: requests>=2.19 in /home/kenny/anaconda3/envs/aws-qis/lib/python3.10/site-packages (from qiskit-ibmq-provider==0.19.2->qiskit) (2.28.1)\n",
      "Requirement already satisfied: stevedore>=3.0.0 in /home/kenny/anaconda3/envs/aws-qis/lib/python3.10/site-packages (from qiskit-terra==0.21.0->qiskit) (4.0.0)\n",
      "Requirement already satisfied: psutil>=5 in /home/kenny/anaconda3/envs/aws-qis/lib/python3.10/site-packages (from qiskit-terra==0.21.0->qiskit) (5.9.1)\n",
      "Requirement already satisfied: ply>=3.10 in /home/kenny/anaconda3/envs/aws-qis/lib/python3.10/site-packages (from qiskit-terra==0.21.0->qiskit) (3.11)\n",
      "Requirement already satisfied: sympy>=1.3 in /home/kenny/.local/lib/python3.10/site-packages (from qiskit-terra==0.21.0->qiskit) (1.10.1)\n",
      "Requirement already satisfied: tweedledum<2.0,>=1.1 in /home/kenny/anaconda3/envs/aws-qis/lib/python3.10/site-packages (from qiskit-terra==0.21.0->qiskit) (1.1.1)\n",
      "Requirement already satisfied: retworkx>=0.11.0 in /home/kenny/anaconda3/envs/aws-qis/lib/python3.10/site-packages (from qiskit-terra==0.21.0->qiskit) (0.11.0)\n",
      "Requirement already satisfied: dill>=0.3 in /home/kenny/anaconda3/envs/aws-qis/lib/python3.10/site-packages (from qiskit-terra==0.21.0->qiskit) (0.3.5.1)\n",
      "Requirement already satisfied: symengine>=0.9 in /home/kenny/anaconda3/envs/aws-qis/lib/python3.10/site-packages (from qiskit-terra==0.21.0->qiskit) (0.9.2)\n",
      "Requirement already satisfied: six>=1.5 in /home/kenny/anaconda3/envs/aws-qis/lib/python3.10/site-packages (from python-dateutil>=2.8.0->qiskit-ibmq-provider==0.19.2->qiskit) (1.16.0)\n",
      "Requirement already satisfied: idna<4,>=2.5 in /home/kenny/anaconda3/envs/aws-qis/lib/python3.10/site-packages (from requests>=2.19->qiskit-ibmq-provider==0.19.2->qiskit) (3.3)\n",
      "Requirement already satisfied: certifi>=2017.4.17 in /home/kenny/anaconda3/envs/aws-qis/lib/python3.10/site-packages (from requests>=2.19->qiskit-ibmq-provider==0.19.2->qiskit) (2022.6.15)\n",
      "Requirement already satisfied: charset-normalizer<3,>=2 in /home/kenny/anaconda3/envs/aws-qis/lib/python3.10/site-packages (from requests>=2.19->qiskit-ibmq-provider==0.19.2->qiskit) (2.0.4)\n",
      "Requirement already satisfied: cryptography>=1.3 in /home/kenny/anaconda3/envs/aws-qis/lib/python3.10/site-packages (from requests-ntlm>=1.1.0->qiskit-ibmq-provider==0.19.2->qiskit) (37.0.4)\n",
      "Requirement already satisfied: ntlm-auth>=1.0.2 in /home/kenny/anaconda3/envs/aws-qis/lib/python3.10/site-packages (from requests-ntlm>=1.1.0->qiskit-ibmq-provider==0.19.2->qiskit) (1.5.0)\n",
      "Requirement already satisfied: pbr!=2.1.0,>=2.0.0 in /home/kenny/anaconda3/envs/aws-qis/lib/python3.10/site-packages (from stevedore>=3.0.0->qiskit-terra==0.21.0->qiskit) (5.9.0)\n",
      "Requirement already satisfied: mpmath>=0.19 in /home/kenny/.local/lib/python3.10/site-packages (from sympy>=1.3->qiskit-terra==0.21.0->qiskit) (1.2.1)\n",
      "Requirement already satisfied: cffi>=1.12 in /home/kenny/anaconda3/envs/aws-qis/lib/python3.10/site-packages (from cryptography>=1.3->requests-ntlm>=1.1.0->qiskit-ibmq-provider==0.19.2->qiskit) (1.15.0)\n",
      "Requirement already satisfied: pycparser in /home/kenny/anaconda3/envs/aws-qis/lib/python3.10/site-packages (from cffi>=1.12->cryptography>=1.3->requests-ntlm>=1.1.0->qiskit-ibmq-provider==0.19.2->qiskit) (2.21)\n",
      "Requirement already satisfied: qiskit[visualization] in /home/kenny/anaconda3/envs/aws-qis/lib/python3.10/site-packages (0.37.0)\n",
      "Requirement already satisfied: qiskit-ibmq-provider==0.19.2 in /home/kenny/anaconda3/envs/aws-qis/lib/python3.10/site-packages (from qiskit[visualization]) (0.19.2)\n",
      "Requirement already satisfied: qiskit-terra==0.21.0 in /home/kenny/anaconda3/envs/aws-qis/lib/python3.10/site-packages (from qiskit[visualization]) (0.21.0)\n",
      "Requirement already satisfied: qiskit-aer==0.10.4 in /home/kenny/anaconda3/envs/aws-qis/lib/python3.10/site-packages (from qiskit[visualization]) (0.10.4)\n",
      "Collecting pylatexenc>=1.4\n",
      "  Using cached pylatexenc-2.10-py3-none-any.whl\n",
      "Requirement already satisfied: pygments>=2.4 in /home/kenny/anaconda3/envs/aws-qis/lib/python3.10/site-packages (from qiskit[visualization]) (2.11.2)\n",
      "Requirement already satisfied: pillow>=4.2.1 in /home/kenny/anaconda3/envs/aws-qis/lib/python3.10/site-packages (from qiskit[visualization]) (9.2.0)\n",
      "Collecting pydot\n",
      "  Using cached pydot-1.4.2-py2.py3-none-any.whl (21 kB)\n",
      "Collecting seaborn>=0.9.0\n",
      "  Using cached seaborn-0.11.2-py3-none-any.whl (292 kB)\n",
      "Requirement already satisfied: matplotlib>=2.1 in /home/kenny/anaconda3/envs/aws-qis/lib/python3.10/site-packages (from qiskit[visualization]) (3.5.1)\n",
      "Collecting ipywidgets>=7.3.0\n",
      "  Using cached ipywidgets-7.7.1-py2.py3-none-any.whl (123 kB)\n",
      "Requirement already satisfied: scipy>=1.0 in /home/kenny/anaconda3/envs/aws-qis/lib/python3.10/site-packages (from qiskit-aer==0.10.4->qiskit[visualization]) (1.8.1)\n",
      "Requirement already satisfied: numpy>=1.16.3 in /home/kenny/anaconda3/envs/aws-qis/lib/python3.10/site-packages (from qiskit-aer==0.10.4->qiskit[visualization]) (1.23.1)\n",
      "Requirement already satisfied: urllib3>=1.21.1 in /home/kenny/anaconda3/envs/aws-qis/lib/python3.10/site-packages (from qiskit-ibmq-provider==0.19.2->qiskit[visualization]) (1.26.10)\n",
      "Requirement already satisfied: requests-ntlm>=1.1.0 in /home/kenny/anaconda3/envs/aws-qis/lib/python3.10/site-packages (from qiskit-ibmq-provider==0.19.2->qiskit[visualization]) (1.1.0)\n",
      "Requirement already satisfied: requests>=2.19 in /home/kenny/anaconda3/envs/aws-qis/lib/python3.10/site-packages (from qiskit-ibmq-provider==0.19.2->qiskit[visualization]) (2.28.1)\n",
      "Requirement already satisfied: websocket-client>=1.0.1 in /home/kenny/anaconda3/envs/aws-qis/lib/python3.10/site-packages (from qiskit-ibmq-provider==0.19.2->qiskit[visualization]) (1.3.3)\n",
      "Requirement already satisfied: python-dateutil>=2.8.0 in /home/kenny/anaconda3/envs/aws-qis/lib/python3.10/site-packages (from qiskit-ibmq-provider==0.19.2->qiskit[visualization]) (2.8.2)\n",
      "Requirement already satisfied: websockets>=10.0 in /home/kenny/anaconda3/envs/aws-qis/lib/python3.10/site-packages (from qiskit-ibmq-provider==0.19.2->qiskit[visualization]) (10.3)\n",
      "Requirement already satisfied: dill>=0.3 in /home/kenny/anaconda3/envs/aws-qis/lib/python3.10/site-packages (from qiskit-terra==0.21.0->qiskit[visualization]) (0.3.5.1)\n",
      "Requirement already satisfied: symengine>=0.9 in /home/kenny/anaconda3/envs/aws-qis/lib/python3.10/site-packages (from qiskit-terra==0.21.0->qiskit[visualization]) (0.9.2)\n",
      "Requirement already satisfied: sympy>=1.3 in /home/kenny/.local/lib/python3.10/site-packages (from qiskit-terra==0.21.0->qiskit[visualization]) (1.10.1)\n",
      "Requirement already satisfied: ply>=3.10 in /home/kenny/anaconda3/envs/aws-qis/lib/python3.10/site-packages (from qiskit-terra==0.21.0->qiskit[visualization]) (3.11)\n",
      "Requirement already satisfied: stevedore>=3.0.0 in /home/kenny/anaconda3/envs/aws-qis/lib/python3.10/site-packages (from qiskit-terra==0.21.0->qiskit[visualization]) (4.0.0)\n",
      "Requirement already satisfied: psutil>=5 in /home/kenny/anaconda3/envs/aws-qis/lib/python3.10/site-packages (from qiskit-terra==0.21.0->qiskit[visualization]) (5.9.1)\n",
      "Requirement already satisfied: tweedledum<2.0,>=1.1 in /home/kenny/anaconda3/envs/aws-qis/lib/python3.10/site-packages (from qiskit-terra==0.21.0->qiskit[visualization]) (1.1.1)\n",
      "Requirement already satisfied: retworkx>=0.11.0 in /home/kenny/anaconda3/envs/aws-qis/lib/python3.10/site-packages (from qiskit-terra==0.21.0->qiskit[visualization]) (0.11.0)\n",
      "Requirement already satisfied: ipython>=4.0.0 in /home/kenny/anaconda3/envs/aws-qis/lib/python3.10/site-packages (from ipywidgets>=7.3.0->qiskit[visualization]) (8.4.0)\n",
      "Requirement already satisfied: ipykernel>=4.5.1 in /home/kenny/anaconda3/envs/aws-qis/lib/python3.10/site-packages (from ipywidgets>=7.3.0->qiskit[visualization]) (6.9.1)\n",
      "Requirement already satisfied: traitlets>=4.3.1 in /home/kenny/anaconda3/envs/aws-qis/lib/python3.10/site-packages (from ipywidgets>=7.3.0->qiskit[visualization]) (5.1.1)\n",
      "Requirement already satisfied: ipython-genutils~=0.2.0 in /home/kenny/anaconda3/envs/aws-qis/lib/python3.10/site-packages (from ipywidgets>=7.3.0->qiskit[visualization]) (0.2.0)\n",
      "Collecting widgetsnbextension~=3.6.0\n",
      "  Using cached widgetsnbextension-3.6.1-py2.py3-none-any.whl (1.6 MB)\n",
      "Collecting jupyterlab-widgets>=1.0.0\n",
      "  Using cached jupyterlab_widgets-1.1.1-py3-none-any.whl (245 kB)\n",
      "Requirement already satisfied: cycler>=0.10 in /home/kenny/anaconda3/envs/aws-qis/lib/python3.10/site-packages (from matplotlib>=2.1->qiskit[visualization]) (0.11.0)\n",
      "Requirement already satisfied: kiwisolver>=1.0.1 in /home/kenny/anaconda3/envs/aws-qis/lib/python3.10/site-packages (from matplotlib>=2.1->qiskit[visualization]) (1.4.2)\n",
      "Requirement already satisfied: pyparsing>=2.2.1 in /home/kenny/anaconda3/envs/aws-qis/lib/python3.10/site-packages (from matplotlib>=2.1->qiskit[visualization]) (3.0.4)\n",
      "Requirement already satisfied: fonttools>=4.22.0 in /home/kenny/anaconda3/envs/aws-qis/lib/python3.10/site-packages (from matplotlib>=2.1->qiskit[visualization]) (4.25.0)\n",
      "Requirement already satisfied: packaging>=20.0 in /home/kenny/anaconda3/envs/aws-qis/lib/python3.10/site-packages (from matplotlib>=2.1->qiskit[visualization]) (21.3)\n",
      "Collecting pandas>=0.23\n",
      "  Using cached pandas-1.4.3-cp310-cp310-manylinux_2_17_x86_64.manylinux2014_x86_64.whl (11.6 MB)\n",
      "Requirement already satisfied: matplotlib-inline<0.2.0,>=0.1.0 in /home/kenny/anaconda3/envs/aws-qis/lib/python3.10/site-packages (from ipykernel>=4.5.1->ipywidgets>=7.3.0->qiskit[visualization]) (0.1.2)\n",
      "Requirement already satisfied: jupyter-client<8.0 in /home/kenny/anaconda3/envs/aws-qis/lib/python3.10/site-packages (from ipykernel>=4.5.1->ipywidgets>=7.3.0->qiskit[visualization]) (7.2.2)\n",
      "Requirement already satisfied: debugpy<2.0,>=1.0.0 in /home/kenny/anaconda3/envs/aws-qis/lib/python3.10/site-packages (from ipykernel>=4.5.1->ipywidgets>=7.3.0->qiskit[visualization]) (1.5.1)\n",
      "Requirement already satisfied: nest-asyncio in /home/kenny/.local/lib/python3.10/site-packages (from ipykernel>=4.5.1->ipywidgets>=7.3.0->qiskit[visualization]) (1.5.5)\n",
      "Requirement already satisfied: tornado<7.0,>=4.2 in /home/kenny/anaconda3/envs/aws-qis/lib/python3.10/site-packages (from ipykernel>=4.5.1->ipywidgets>=7.3.0->qiskit[visualization]) (6.1)\n",
      "Requirement already satisfied: decorator in /home/kenny/anaconda3/envs/aws-qis/lib/python3.10/site-packages (from ipython>=4.0.0->ipywidgets>=7.3.0->qiskit[visualization]) (5.1.1)\n",
      "Requirement already satisfied: prompt-toolkit!=3.0.0,!=3.0.1,<3.1.0,>=2.0.0 in /home/kenny/anaconda3/envs/aws-qis/lib/python3.10/site-packages (from ipython>=4.0.0->ipywidgets>=7.3.0->qiskit[visualization]) (3.0.20)\n",
      "Requirement already satisfied: stack-data in /home/kenny/anaconda3/envs/aws-qis/lib/python3.10/site-packages (from ipython>=4.0.0->ipywidgets>=7.3.0->qiskit[visualization]) (0.2.0)\n",
      "Requirement already satisfied: pexpect>4.3 in /home/kenny/anaconda3/envs/aws-qis/lib/python3.10/site-packages (from ipython>=4.0.0->ipywidgets>=7.3.0->qiskit[visualization]) (4.8.0)\n",
      "Requirement already satisfied: pickleshare in /home/kenny/anaconda3/envs/aws-qis/lib/python3.10/site-packages (from ipython>=4.0.0->ipywidgets>=7.3.0->qiskit[visualization]) (0.7.5)\n",
      "Requirement already satisfied: setuptools>=18.5 in /home/kenny/anaconda3/envs/aws-qis/lib/python3.10/site-packages (from ipython>=4.0.0->ipywidgets>=7.3.0->qiskit[visualization]) (63.2.0)\n",
      "Requirement already satisfied: backcall in /home/kenny/anaconda3/envs/aws-qis/lib/python3.10/site-packages (from ipython>=4.0.0->ipywidgets>=7.3.0->qiskit[visualization]) (0.2.0)\n",
      "Requirement already satisfied: jedi>=0.16 in /home/kenny/anaconda3/envs/aws-qis/lib/python3.10/site-packages (from ipython>=4.0.0->ipywidgets>=7.3.0->qiskit[visualization]) (0.18.1)\n",
      "Requirement already satisfied: pytz>=2020.1 in /home/kenny/anaconda3/envs/aws-qis/lib/python3.10/site-packages (from pandas>=0.23->seaborn>=0.9.0->qiskit[visualization]) (2022.1)\n",
      "Requirement already satisfied: six>=1.5 in /home/kenny/anaconda3/envs/aws-qis/lib/python3.10/site-packages (from python-dateutil>=2.8.0->qiskit-ibmq-provider==0.19.2->qiskit[visualization]) (1.16.0)\n",
      "Requirement already satisfied: charset-normalizer<3,>=2 in /home/kenny/anaconda3/envs/aws-qis/lib/python3.10/site-packages (from requests>=2.19->qiskit-ibmq-provider==0.19.2->qiskit[visualization]) (2.0.4)\n",
      "Requirement already satisfied: certifi>=2017.4.17 in /home/kenny/anaconda3/envs/aws-qis/lib/python3.10/site-packages (from requests>=2.19->qiskit-ibmq-provider==0.19.2->qiskit[visualization]) (2022.6.15)\n",
      "Requirement already satisfied: idna<4,>=2.5 in /home/kenny/anaconda3/envs/aws-qis/lib/python3.10/site-packages (from requests>=2.19->qiskit-ibmq-provider==0.19.2->qiskit[visualization]) (3.3)\n",
      "Requirement already satisfied: ntlm-auth>=1.0.2 in /home/kenny/anaconda3/envs/aws-qis/lib/python3.10/site-packages (from requests-ntlm>=1.1.0->qiskit-ibmq-provider==0.19.2->qiskit[visualization]) (1.5.0)\n",
      "Requirement already satisfied: cryptography>=1.3 in /home/kenny/anaconda3/envs/aws-qis/lib/python3.10/site-packages (from requests-ntlm>=1.1.0->qiskit-ibmq-provider==0.19.2->qiskit[visualization]) (37.0.4)\n",
      "Requirement already satisfied: pbr!=2.1.0,>=2.0.0 in /home/kenny/anaconda3/envs/aws-qis/lib/python3.10/site-packages (from stevedore>=3.0.0->qiskit-terra==0.21.0->qiskit[visualization]) (5.9.0)\n",
      "Requirement already satisfied: mpmath>=0.19 in /home/kenny/.local/lib/python3.10/site-packages (from sympy>=1.3->qiskit-terra==0.21.0->qiskit[visualization]) (1.2.1)\n",
      "Requirement already satisfied: notebook>=4.4.1 in /home/kenny/anaconda3/envs/aws-qis/lib/python3.10/site-packages (from widgetsnbextension~=3.6.0->ipywidgets>=7.3.0->qiskit[visualization]) (6.4.11)\n",
      "Requirement already satisfied: cffi>=1.12 in /home/kenny/anaconda3/envs/aws-qis/lib/python3.10/site-packages (from cryptography>=1.3->requests-ntlm>=1.1.0->qiskit-ibmq-provider==0.19.2->qiskit[visualization]) (1.15.0)\n",
      "Requirement already satisfied: parso<0.9.0,>=0.8.0 in /home/kenny/anaconda3/envs/aws-qis/lib/python3.10/site-packages (from jedi>=0.16->ipython>=4.0.0->ipywidgets>=7.3.0->qiskit[visualization]) (0.8.3)\n",
      "Requirement already satisfied: pyzmq>=22.3 in /home/kenny/anaconda3/envs/aws-qis/lib/python3.10/site-packages (from jupyter-client<8.0->ipykernel>=4.5.1->ipywidgets>=7.3.0->qiskit[visualization]) (23.2.0)\n",
      "Requirement already satisfied: jupyter-core>=4.9.2 in /home/kenny/anaconda3/envs/aws-qis/lib/python3.10/site-packages (from jupyter-client<8.0->ipykernel>=4.5.1->ipywidgets>=7.3.0->qiskit[visualization]) (4.10.0)\n",
      "Requirement already satisfied: entrypoints in /home/kenny/anaconda3/envs/aws-qis/lib/python3.10/site-packages (from jupyter-client<8.0->ipykernel>=4.5.1->ipywidgets>=7.3.0->qiskit[visualization]) (0.4)\n",
      "Requirement already satisfied: terminado>=0.8.3 in /home/kenny/anaconda3/envs/aws-qis/lib/python3.10/site-packages (from notebook>=4.4.1->widgetsnbextension~=3.6.0->ipywidgets>=7.3.0->qiskit[visualization]) (0.13.1)\n",
      "Requirement already satisfied: nbconvert>=5 in /home/kenny/anaconda3/envs/aws-qis/lib/python3.10/site-packages (from notebook>=4.4.1->widgetsnbextension~=3.6.0->ipywidgets>=7.3.0->qiskit[visualization]) (6.4.4)\n",
      "Requirement already satisfied: jinja2 in /home/kenny/anaconda3/envs/aws-qis/lib/python3.10/site-packages (from notebook>=4.4.1->widgetsnbextension~=3.6.0->ipywidgets>=7.3.0->qiskit[visualization]) (3.0.3)\n",
      "Requirement already satisfied: argon2-cffi in /home/kenny/anaconda3/envs/aws-qis/lib/python3.10/site-packages (from notebook>=4.4.1->widgetsnbextension~=3.6.0->ipywidgets>=7.3.0->qiskit[visualization]) (21.3.0)\n",
      "Requirement already satisfied: Send2Trash>=1.8.0 in /home/kenny/anaconda3/envs/aws-qis/lib/python3.10/site-packages (from notebook>=4.4.1->widgetsnbextension~=3.6.0->ipywidgets>=7.3.0->qiskit[visualization]) (1.8.0)\n",
      "Requirement already satisfied: nbformat in /home/kenny/anaconda3/envs/aws-qis/lib/python3.10/site-packages (from notebook>=4.4.1->widgetsnbextension~=3.6.0->ipywidgets>=7.3.0->qiskit[visualization]) (5.3.0)\n",
      "Requirement already satisfied: prometheus-client in /home/kenny/anaconda3/envs/aws-qis/lib/python3.10/site-packages (from notebook>=4.4.1->widgetsnbextension~=3.6.0->ipywidgets>=7.3.0->qiskit[visualization]) (0.13.1)\n",
      "Requirement already satisfied: ptyprocess>=0.5 in /home/kenny/anaconda3/envs/aws-qis/lib/python3.10/site-packages (from pexpect>4.3->ipython>=4.0.0->ipywidgets>=7.3.0->qiskit[visualization]) (0.7.0)\n",
      "Requirement already satisfied: wcwidth in /home/kenny/anaconda3/envs/aws-qis/lib/python3.10/site-packages (from prompt-toolkit!=3.0.0,!=3.0.1,<3.1.0,>=2.0.0->ipython>=4.0.0->ipywidgets>=7.3.0->qiskit[visualization]) (0.2.5)\n",
      "Requirement already satisfied: executing in /home/kenny/anaconda3/envs/aws-qis/lib/python3.10/site-packages (from stack-data->ipython>=4.0.0->ipywidgets>=7.3.0->qiskit[visualization]) (0.8.3)\n",
      "Requirement already satisfied: asttokens in /home/kenny/anaconda3/envs/aws-qis/lib/python3.10/site-packages (from stack-data->ipython>=4.0.0->ipywidgets>=7.3.0->qiskit[visualization]) (2.0.5)\n",
      "Requirement already satisfied: pure-eval in /home/kenny/anaconda3/envs/aws-qis/lib/python3.10/site-packages (from stack-data->ipython>=4.0.0->ipywidgets>=7.3.0->qiskit[visualization]) (0.2.2)\n",
      "Requirement already satisfied: pycparser in /home/kenny/anaconda3/envs/aws-qis/lib/python3.10/site-packages (from cffi>=1.12->cryptography>=1.3->requests-ntlm>=1.1.0->qiskit-ibmq-provider==0.19.2->qiskit[visualization]) (2.21)\n",
      "Requirement already satisfied: nbclient<0.6.0,>=0.5.0 in /home/kenny/anaconda3/envs/aws-qis/lib/python3.10/site-packages (from nbconvert>=5->notebook>=4.4.1->widgetsnbextension~=3.6.0->ipywidgets>=7.3.0->qiskit[visualization]) (0.5.13)\n",
      "Requirement already satisfied: beautifulsoup4 in /home/kenny/anaconda3/envs/aws-qis/lib/python3.10/site-packages (from nbconvert>=5->notebook>=4.4.1->widgetsnbextension~=3.6.0->ipywidgets>=7.3.0->qiskit[visualization]) (4.11.1)\n",
      "Requirement already satisfied: bleach in /home/kenny/anaconda3/envs/aws-qis/lib/python3.10/site-packages (from nbconvert>=5->notebook>=4.4.1->widgetsnbextension~=3.6.0->ipywidgets>=7.3.0->qiskit[visualization]) (4.1.0)\n",
      "Requirement already satisfied: testpath in /home/kenny/anaconda3/envs/aws-qis/lib/python3.10/site-packages (from nbconvert>=5->notebook>=4.4.1->widgetsnbextension~=3.6.0->ipywidgets>=7.3.0->qiskit[visualization]) (0.6.0)\n",
      "Requirement already satisfied: pandocfilters>=1.4.1 in /home/kenny/anaconda3/envs/aws-qis/lib/python3.10/site-packages (from nbconvert>=5->notebook>=4.4.1->widgetsnbextension~=3.6.0->ipywidgets>=7.3.0->qiskit[visualization]) (1.5.0)\n",
      "Requirement already satisfied: defusedxml in /home/kenny/anaconda3/envs/aws-qis/lib/python3.10/site-packages (from nbconvert>=5->notebook>=4.4.1->widgetsnbextension~=3.6.0->ipywidgets>=7.3.0->qiskit[visualization]) (0.7.1)\n",
      "Requirement already satisfied: mistune<2,>=0.8.1 in /home/kenny/anaconda3/envs/aws-qis/lib/python3.10/site-packages (from nbconvert>=5->notebook>=4.4.1->widgetsnbextension~=3.6.0->ipywidgets>=7.3.0->qiskit[visualization]) (0.8.4)\n",
      "Requirement already satisfied: jupyterlab-pygments in /home/kenny/anaconda3/envs/aws-qis/lib/python3.10/site-packages (from nbconvert>=5->notebook>=4.4.1->widgetsnbextension~=3.6.0->ipywidgets>=7.3.0->qiskit[visualization]) (0.1.2)\n",
      "Requirement already satisfied: MarkupSafe>=2.0 in /home/kenny/anaconda3/envs/aws-qis/lib/python3.10/site-packages (from jinja2->notebook>=4.4.1->widgetsnbextension~=3.6.0->ipywidgets>=7.3.0->qiskit[visualization]) (2.1.1)\n",
      "Requirement already satisfied: fastjsonschema in /home/kenny/anaconda3/envs/aws-qis/lib/python3.10/site-packages (from nbformat->notebook>=4.4.1->widgetsnbextension~=3.6.0->ipywidgets>=7.3.0->qiskit[visualization]) (2.15.1)\n",
      "Requirement already satisfied: jsonschema>=2.6 in /home/kenny/anaconda3/envs/aws-qis/lib/python3.10/site-packages (from nbformat->notebook>=4.4.1->widgetsnbextension~=3.6.0->ipywidgets>=7.3.0->qiskit[visualization]) (4.4.0)\n",
      "Requirement already satisfied: argon2-cffi-bindings in /home/kenny/anaconda3/envs/aws-qis/lib/python3.10/site-packages (from argon2-cffi->notebook>=4.4.1->widgetsnbextension~=3.6.0->ipywidgets>=7.3.0->qiskit[visualization]) (21.2.0)\n",
      "Requirement already satisfied: attrs>=17.4.0 in /home/kenny/anaconda3/envs/aws-qis/lib/python3.10/site-packages (from jsonschema>=2.6->nbformat->notebook>=4.4.1->widgetsnbextension~=3.6.0->ipywidgets>=7.3.0->qiskit[visualization]) (21.4.0)\n",
      "Requirement already satisfied: pyrsistent!=0.17.0,!=0.17.1,!=0.17.2,>=0.14.0 in /home/kenny/anaconda3/envs/aws-qis/lib/python3.10/site-packages (from jsonschema>=2.6->nbformat->notebook>=4.4.1->widgetsnbextension~=3.6.0->ipywidgets>=7.3.0->qiskit[visualization]) (0.18.0)\n",
      "Requirement already satisfied: soupsieve>1.2 in /home/kenny/anaconda3/envs/aws-qis/lib/python3.10/site-packages (from beautifulsoup4->nbconvert>=5->notebook>=4.4.1->widgetsnbextension~=3.6.0->ipywidgets>=7.3.0->qiskit[visualization]) (2.3.1)\n",
      "Requirement already satisfied: webencodings in /home/kenny/anaconda3/envs/aws-qis/lib/python3.10/site-packages (from bleach->nbconvert>=5->notebook>=4.4.1->widgetsnbextension~=3.6.0->ipywidgets>=7.3.0->qiskit[visualization]) (0.5.1)\n",
      "Installing collected packages: pylatexenc, pydot, jupyterlab-widgets, pandas, seaborn, widgetsnbextension, ipywidgets\n",
      "Successfully installed ipywidgets-7.7.1 jupyterlab-widgets-1.1.1 pandas-1.4.3 pydot-1.4.2 pylatexenc-2.10 seaborn-0.11.2 widgetsnbextension-3.6.1\n",
      "Requirement already satisfied: numpy in /home/kenny/anaconda3/envs/aws-qis/lib/python3.10/site-packages (1.23.1)\n",
      "Requirement already satisfied: seaborn in /home/kenny/anaconda3/envs/aws-qis/lib/python3.10/site-packages (0.11.2)\n",
      "Requirement already satisfied: numpy>=1.15 in /home/kenny/anaconda3/envs/aws-qis/lib/python3.10/site-packages (from seaborn) (1.23.1)\n",
      "Requirement already satisfied: scipy>=1.0 in /home/kenny/anaconda3/envs/aws-qis/lib/python3.10/site-packages (from seaborn) (1.8.1)\n",
      "Requirement already satisfied: pandas>=0.23 in /home/kenny/anaconda3/envs/aws-qis/lib/python3.10/site-packages (from seaborn) (1.4.3)\n",
      "Requirement already satisfied: matplotlib>=2.2 in /home/kenny/anaconda3/envs/aws-qis/lib/python3.10/site-packages (from seaborn) (3.5.1)\n",
      "Requirement already satisfied: python-dateutil>=2.7 in /home/kenny/anaconda3/envs/aws-qis/lib/python3.10/site-packages (from matplotlib>=2.2->seaborn) (2.8.2)\n",
      "Requirement already satisfied: kiwisolver>=1.0.1 in /home/kenny/anaconda3/envs/aws-qis/lib/python3.10/site-packages (from matplotlib>=2.2->seaborn) (1.4.2)\n",
      "Requirement already satisfied: pyparsing>=2.2.1 in /home/kenny/anaconda3/envs/aws-qis/lib/python3.10/site-packages (from matplotlib>=2.2->seaborn) (3.0.4)\n",
      "Requirement already satisfied: cycler>=0.10 in /home/kenny/anaconda3/envs/aws-qis/lib/python3.10/site-packages (from matplotlib>=2.2->seaborn) (0.11.0)\n",
      "Requirement already satisfied: pillow>=6.2.0 in /home/kenny/anaconda3/envs/aws-qis/lib/python3.10/site-packages (from matplotlib>=2.2->seaborn) (9.2.0)\n",
      "Requirement already satisfied: packaging>=20.0 in /home/kenny/anaconda3/envs/aws-qis/lib/python3.10/site-packages (from matplotlib>=2.2->seaborn) (21.3)\n",
      "Requirement already satisfied: fonttools>=4.22.0 in /home/kenny/anaconda3/envs/aws-qis/lib/python3.10/site-packages (from matplotlib>=2.2->seaborn) (4.25.0)\n",
      "Requirement already satisfied: pytz>=2020.1 in /home/kenny/anaconda3/envs/aws-qis/lib/python3.10/site-packages (from pandas>=0.23->seaborn) (2022.1)\n",
      "Requirement already satisfied: six>=1.5 in /home/kenny/anaconda3/envs/aws-qis/lib/python3.10/site-packages (from python-dateutil>=2.7->matplotlib>=2.2->seaborn) (1.16.0)\n"
     ]
    }
   ],
   "source": [
    "import sys\n",
    "!pip install --prefix {sys.prefix} qiskit\n",
    "!pip install --prefix {sys.prefix} qiskit[visualization]\n",
    "!pip install --prefix {sys.prefix} numpy\n",
    "!pip install --prefix {sys.prefix} seaborn"
   ]
  },
  {
   "cell_type": "code",
   "execution_count": 37,
   "id": "a4d388c1-4723-44d2-b3de-c9da820486a3",
   "metadata": {},
   "outputs": [
    {
     "name": "stdout",
     "output_type": "stream",
     "text": [
      "Available quantum gates are: ['CCNot', 'CNot', 'CPhaseShift', 'CPhaseShift00', 'CPhaseShift01', 'CPhaseShift10', 'CSwap', 'CV', 'CY', 'CZ', 'ECR', 'H', 'I', 'ISwap', 'PSwap', 'PhaseShift', 'Rx', 'Ry', 'Rz', 'S', 'Si', 'Swap', 'T', 'Ti', 'Unitary', 'V', 'Vi', 'X', 'XX', 'XY', 'Y', 'YY', 'Z', 'ZZ']\n",
      "\n",
      " Success, you imported the libraries!\n"
     ]
    }
   ],
   "source": [
    "import matplotlib.pyplot as plt\n",
    "%matplotlib inline\n",
    "\n",
    "# AWS imports: Import Braket SDK modules\n",
    "from braket.circuits import Circuit, Gate, Instruction, circuit, Observable\n",
    "from braket.devices import LocalSimulator\n",
    "from braket.aws import AwsDevice, AwsQuantumTask\n",
    "import string\n",
    "from math import pi\n",
    "import random as rand\n",
    "\n",
    "from mpl_toolkits.mplot3d import Axes3D\n",
    "from matplotlib.animation import FuncAnimation\n",
    "from IPython.display import HTML\n",
    "\n",
    "import numpy as np\n",
    "import matplotlib.pyplot as plt\n",
    "import seaborn as sns\n",
    "\n",
    "\n",
    "# print all available gates in Amazon Braket\n",
    "gate_set = [attr for attr in dir(Gate) if attr[0] in string.ascii_uppercase]\n",
    "print(\"Available quantum gates are: \" + str(gate_set))\n",
    "from qiskit.providers.aer import QasmSimulator \n",
    "from qiskit.tools.visualization import plot_bloch_multivector\n",
    "\n",
    "print(\"\\n Success, you imported the libraries!\")"
   ]
  },
  {
   "cell_type": "markdown",
   "id": "000a4a78-812b-4bae-af6d-f4d5dd6bd238",
   "metadata": {},
   "source": [
    "If everything worked properly, you should have gotten a printed statement telling you that you imported the libraries. If you did not see any errors then you may move on."
   ]
  },
  {
   "cell_type": "markdown",
   "id": "4930a48d",
   "metadata": {},
   "source": [
    "## Basic Properties of Qubit Operations and Measurements\n",
    "##### We first walk through some simple qubit preparations and measurements to get a feel for how everything functions. \n",
    "Let's run code that prepares a single qubit in the up state, denoted by the notation $|0>$ and visualize the state on something called the Bloch Sphere. When we initialize a qubit with the code below, it defaults to starting in the up state. After the qubit is initialized, we apply a dummy rotation that doesn't actually do anything. The qubit is still in whatever state it started in. All together, this idea of acting on initializing and acting on a qubit is called a quantum circuit and defines a quantum wavefunction, which is why we use the variable psi. Go ahead and run the cell below."
   ]
  },
  {
   "cell_type": "code",
   "execution_count": 9,
   "id": "bd3d442c-02b0-4368-ac35-8a630ad866f8",
   "metadata": {},
   "outputs": [],
   "source": [
    "theta = 0 \n",
    "psi = Circuit().ry(angle=theta, target=0)"
   ]
  },
  {
   "cell_type": "markdown",
   "id": "b19d41bc-d5af-4177-83ba-792c18a2ca21",
   "metadata": {},
   "source": [
    "After defining how our circuit show run, we run a simulation of the circuit that keeps track of the exact state. Note that when running on real quantum hardware this is impossible, since the wavefunction collapses to either up or down when we measure. We can cheat by using a classical computer to model the quantum evolution though. Once we want to describe more qubits this becomes computationally difficult and even impossible in some cases."
   ]
  },
  {
   "cell_type": "code",
   "execution_count": 12,
   "id": "a44c1c15-efe0-49a6-a465-58664e080483",
   "metadata": {},
   "outputs": [
    {
     "name": "stdout",
     "output_type": "stream",
     "text": [
      "The state vector is: ψ=[1.+0.j 0.+0.j]\n"
     ]
    },
    {
     "data": {
      "image/png": "[encoded data removed]",
      "text/plain": [
       "<Figure size 288x288 with 1 Axes>"
      ]
     },
     "execution_count": 12,
     "metadata": {},
     "output_type": "execute_result"
    }
   ],
   "source": [
    "psi.state_vector()\n",
    "device = LocalSimulator()\n",
    "task= device.run(psi, shots=0)\n",
    "result = task.result()\n",
    "statevector= result.values[0]\n",
    "print(\"The state vector is: ψ=\" + str(statevector))\n",
    "plot_bloch_multivector(statevector)"
   ]
  },
  {
   "cell_type": "markdown",
   "id": "85b5c92e-85a8-4271-a0e6-30137b05f39e",
   "metadata": {},
   "source": [
    "The above output tells us the wavefunction, represented as a vector, and plots the wavefunction on the Bloch sphere. The Bloch sphere tells us how to visualize the qubit state in terms of the two possibilities. We will explore this more in the code below. You may be wondering how to interpret this form of the wavefunction. Since we are working with the a qubit, which has two possible states, the wavefunction represented as a vector tells us something about the probability to measure the qubit in either the up $|0>$ or down $|1>$ state. Here, the probability of measuring the qubit to be in the up state is given by squaring the first entry in the listed vector and squaring the second entry gives us the probability for measuring the qubit to be in the down state.\n",
    "</br>\n",
    "</br>\n",
    "\n",
    "**Question 1: Using the previous explanation of how to calculate the probability of measuring a state, what is the probability of measuring the above qubit to be in a) the up state and b) the down state?**"
   ]
  },
  {
   "cell_type": "markdown",
   "id": "01409de2-8743-4084-9e3d-b59fa9f2b6ef",
   "metadata": {},
   "source": [
    "In addition to simulating the full quantum wavefunction using a classical computer, we can use a classical computer to model how the quantum computer behaves. Specifically, when we measure a quantum system it will collapse to a single value so that we get a definite measurement. Below, we setup the same qubit we did previously but use our classical computer to model the measurement result when the wavefunction collapses. We should see that now, when we measure the final state, our result collapses to either up or down. Note again that while this is fast for a single qubit, this becomes computationally difficult for many qubits."
   ]
  },
  {
   "cell_type": "markdown",
   "id": "a5c06317-4d04-42ac-8f83-f302b636fbba",
   "metadata": {},
   "source": [
    "Setup the same quantum circuit from before."
   ]
  },
  {
   "cell_type": "code",
   "execution_count": 17,
   "id": "3338ce3a-85a5-4c80-be5c-3b56de09426c",
   "metadata": {},
   "outputs": [],
   "source": [
    "theta = 0\n",
    "psi = Circuit().ry(angle=theta, target=0)"
   ]
  },
  {
   "cell_type": "markdown",
   "id": "dea94185-1099-492c-81c7-d3f4c7ffc7ef",
   "metadata": {},
   "source": [
    "We want to model measurement of this qubit and visualize the results. Since the state of our qubit says the probability of measuring the up state is 100% then we could write $|\\psi> = 1|0> + 0|1>$ and the only possibility of measurement should be $|0>$."
   ]
  },
  {
   "cell_type": "markdown",
   "id": "f52cb5c7-11b8-46a6-a355-2e939c32e909",
   "metadata": {},
   "source": [
    "Set up device to run a simulation on your classical computer"
   ]
  },
  {
   "cell_type": "code",
   "execution_count": 18,
   "id": "ea03777f-cb1e-4ac6-8147-1d3c80643e46",
   "metadata": {},
   "outputs": [],
   "source": [
    "device = LocalSimulator()"
   ]
  },
  {
   "cell_type": "markdown",
   "id": "a125cb4f-ad54-48da-9c6b-4300a8c8ae09",
   "metadata": {},
   "source": [
    "Run circuit many times and record the measurement of each iteration. Each iteration is called a 'shot' in quantum computing language. Here we try 1000 shots. \n",
    "\n",
    "**Question 2: a) What do you expect should happen here if we make the number of shots much smaller (10)? b) What about if we make the shots much larger like 100,000?**"
   ]
  },
  {
   "cell_type": "code",
   "execution_count": 19,
   "id": "d1992975-5896-4344-b7ec-3810e9175739",
   "metadata": {},
   "outputs": [],
   "source": [
    "result = device.run(psi, shots=1000).result()"
   ]
  },
  {
   "cell_type": "markdown",
   "id": "5a9ec554-19af-4c5c-8dc5-fd260e9d7898",
   "metadata": {},
   "source": [
    "Get results from each measurement shot.\n"
   ]
  },
  {
   "cell_type": "code",
   "execution_count": 20,
   "id": "aba8617a-3186-4c9b-b953-6e106cbfcd5a",
   "metadata": {},
   "outputs": [],
   "source": [
    "counts = result.measurement_counts"
   ]
  },
  {
   "cell_type": "markdown",
   "id": "934158ac-2435-4854-b024-0f4526d3a54f",
   "metadata": {},
   "source": [
    "Print combined results from all the measurement shots."
   ]
  },
  {
   "cell_type": "code",
   "execution_count": 21,
   "id": "8748583a-5196-494c-a89e-6fbcf3397093",
   "metadata": {},
   "outputs": [
    {
     "name": "stdout",
     "output_type": "stream",
     "text": [
      "Counter({'0': 1000})\n"
     ]
    }
   ],
   "source": [
    "print(counts)"
   ]
  },
  {
   "cell_type": "markdown",
   "id": "54dfbb18-b5fe-4beb-8fee-3391121274a3",
   "metadata": {},
   "source": [
    "Plot the results."
   ]
  },
  {
   "cell_type": "code",
   "execution_count": 22,
   "id": "3a371ee3-e069-4a7e-956f-7aab460d141b",
   "metadata": {},
   "outputs": [
    {
     "data": {
      "image/png": "[encoded data removed]",
      "text/plain": [
       "<Figure size 432x288 with 1 Axes>"
      ]
     },
     "metadata": {
      "needs_background": "light"
     },
     "output_type": "display_data"
    }
   ],
   "source": [
    "plt.bar(counts.keys(), counts.values());\n",
    "plt.xlabel('state');\n",
    "plt.ylabel('counts');"
   ]
  },
  {
   "cell_type": "markdown",
   "id": "b342207b-8565-473e-927c-1384fb6521b8",
   "metadata": {},
   "source": [
    "If the Ionq quantum computer, based on ion trap technology, is available then run the below cells. This should give the same result you just saw, using a classical computer, but actually runs your code on a quantum device."
   ]
  },
  {
   "cell_type": "code",
   "execution_count": 74,
   "id": "83276a46",
   "metadata": {},
   "outputs": [
    {
     "ename": "NoRegionError",
     "evalue": "You must specify a region.",
     "output_type": "error",
     "traceback": [
      "\u001b[0;31m---------------------------------------------------------------------------\u001b[0m",
      "\u001b[0;31mNoRegionError\u001b[0m                             Traceback (most recent call last)",
      "Input \u001b[0;32mIn [74]\u001b[0m, in \u001b[0;36m<cell line: 8>\u001b[0;34m()\u001b[0m\n\u001b[1;32m      5\u001b[0m psi \u001b[38;5;241m=\u001b[39m Circuit()\u001b[38;5;241m.\u001b[39mry(angle\u001b[38;5;241m=\u001b[39mtheta, target\u001b[38;5;241m=\u001b[39m\u001b[38;5;241m0\u001b[39m)\n\u001b[1;32m      7\u001b[0m \u001b[38;5;66;03m# set up device\u001b[39;00m\n\u001b[0;32m----> 8\u001b[0m ionq \u001b[38;5;241m=\u001b[39m \u001b[43mAwsDevice\u001b[49m\u001b[43m(\u001b[49m\u001b[38;5;124;43m\"\u001b[39;49m\u001b[38;5;124;43marn:aws:braket:::device/qpu/ionq/ionQdevice\u001b[39;49m\u001b[38;5;124;43m\"\u001b[39;49m\u001b[43m)\u001b[49m\n\u001b[1;32m     10\u001b[0m \u001b[38;5;66;03m# run circuit\u001b[39;00m\n\u001b[1;32m     11\u001b[0m ionq_task \u001b[38;5;241m=\u001b[39m ionq\u001b[38;5;241m.\u001b[39mrun(psi, shots\u001b[38;5;241m=\u001b[39m\u001b[38;5;241m10\u001b[39m)\n",
      "File \u001b[0;32m~/.local/lib/python3.10/site-packages/braket/aws/aws_device.py:81\u001b[0m, in \u001b[0;36mAwsDevice.__init__\u001b[0;34m(self, arn, aws_session)\u001b[0m\n\u001b[1;32m     79\u001b[0m \u001b[38;5;28mself\u001b[39m\u001b[38;5;241m.\u001b[39m_topology_graph \u001b[38;5;241m=\u001b[39m \u001b[38;5;28;01mNone\u001b[39;00m\n\u001b[1;32m     80\u001b[0m \u001b[38;5;28mself\u001b[39m\u001b[38;5;241m.\u001b[39m_type \u001b[38;5;241m=\u001b[39m \u001b[38;5;28;01mNone\u001b[39;00m\n\u001b[0;32m---> 81\u001b[0m \u001b[38;5;28mself\u001b[39m\u001b[38;5;241m.\u001b[39m_aws_session \u001b[38;5;241m=\u001b[39m \u001b[38;5;28mself\u001b[39m\u001b[38;5;241m.\u001b[39m_get_session_and_initialize(aws_session \u001b[38;5;129;01mor\u001b[39;00m \u001b[43mAwsSession\u001b[49m\u001b[43m(\u001b[49m\u001b[43m)\u001b[49m)\n",
      "File \u001b[0;32m~/.local/lib/python3.10/site-packages/braket/aws/aws_session.py:66\u001b[0m, in \u001b[0;36mAwsSession.__init__\u001b[0;34m(self, boto_session, braket_client, config, default_bucket)\u001b[0m\n\u001b[1;32m     62\u001b[0m \u001b[38;5;28;01melse\u001b[39;00m:\n\u001b[1;32m     63\u001b[0m     \u001b[38;5;28mself\u001b[39m\u001b[38;5;241m.\u001b[39mboto_session \u001b[38;5;241m=\u001b[39m boto_session \u001b[38;5;129;01mor\u001b[39;00m boto3\u001b[38;5;241m.\u001b[39mSession(\n\u001b[1;32m     64\u001b[0m         region_name\u001b[38;5;241m=\u001b[39mos\u001b[38;5;241m.\u001b[39menviron\u001b[38;5;241m.\u001b[39mget(\u001b[38;5;124m\"\u001b[39m\u001b[38;5;124mAWS_REGION\u001b[39m\u001b[38;5;124m\"\u001b[39m)\n\u001b[1;32m     65\u001b[0m     )\n\u001b[0;32m---> 66\u001b[0m     \u001b[38;5;28mself\u001b[39m\u001b[38;5;241m.\u001b[39mbraket_client \u001b[38;5;241m=\u001b[39m \u001b[38;5;28;43mself\u001b[39;49m\u001b[38;5;241;43m.\u001b[39;49m\u001b[43mboto_session\u001b[49m\u001b[38;5;241;43m.\u001b[39;49m\u001b[43mclient\u001b[49m\u001b[43m(\u001b[49m\n\u001b[1;32m     67\u001b[0m \u001b[43m        \u001b[49m\u001b[38;5;124;43m\"\u001b[39;49m\u001b[38;5;124;43mbraket\u001b[39;49m\u001b[38;5;124;43m\"\u001b[39;49m\u001b[43m,\u001b[49m\u001b[43m \u001b[49m\u001b[43mconfig\u001b[49m\u001b[38;5;241;43m=\u001b[39;49m\u001b[38;5;28;43mself\u001b[39;49m\u001b[38;5;241;43m.\u001b[39;49m\u001b[43m_config\u001b[49m\u001b[43m,\u001b[49m\u001b[43m \u001b[49m\u001b[43mendpoint_url\u001b[49m\u001b[38;5;241;43m=\u001b[39;49m\u001b[43mos\u001b[49m\u001b[38;5;241;43m.\u001b[39;49m\u001b[43menviron\u001b[49m\u001b[38;5;241;43m.\u001b[39;49m\u001b[43mget\u001b[49m\u001b[43m(\u001b[49m\u001b[38;5;124;43m\"\u001b[39;49m\u001b[38;5;124;43mBRAKET_ENDPOINT\u001b[39;49m\u001b[38;5;124;43m\"\u001b[39;49m\u001b[43m)\u001b[49m\n\u001b[1;32m     68\u001b[0m \u001b[43m    \u001b[49m\u001b[43m)\u001b[49m\n\u001b[1;32m     70\u001b[0m \u001b[38;5;28mself\u001b[39m\u001b[38;5;241m.\u001b[39m_update_user_agent()\n\u001b[1;32m     71\u001b[0m \u001b[38;5;28mself\u001b[39m\u001b[38;5;241m.\u001b[39m_custom_default_bucket \u001b[38;5;241m=\u001b[39m \u001b[38;5;28mbool\u001b[39m(default_bucket)\n",
      "File \u001b[0;32m~/.local/lib/python3.10/site-packages/boto3/session.py:299\u001b[0m, in \u001b[0;36mSession.client\u001b[0;34m(self, service_name, region_name, api_version, use_ssl, verify, endpoint_url, aws_access_key_id, aws_secret_access_key, aws_session_token, config)\u001b[0m\n\u001b[1;32m    217\u001b[0m \u001b[38;5;28;01mdef\u001b[39;00m \u001b[38;5;21mclient\u001b[39m(\n\u001b[1;32m    218\u001b[0m     \u001b[38;5;28mself\u001b[39m,\n\u001b[1;32m    219\u001b[0m     service_name,\n\u001b[0;32m   (...)\u001b[0m\n\u001b[1;32m    228\u001b[0m     config\u001b[38;5;241m=\u001b[39m\u001b[38;5;28;01mNone\u001b[39;00m,\n\u001b[1;32m    229\u001b[0m ):\n\u001b[1;32m    230\u001b[0m     \u001b[38;5;124;03m\"\"\"\u001b[39;00m\n\u001b[1;32m    231\u001b[0m \u001b[38;5;124;03m    Create a low-level service client by name.\u001b[39;00m\n\u001b[1;32m    232\u001b[0m \n\u001b[0;32m   (...)\u001b[0m\n\u001b[1;32m    297\u001b[0m \n\u001b[1;32m    298\u001b[0m \u001b[38;5;124;03m    \"\"\"\u001b[39;00m\n\u001b[0;32m--> 299\u001b[0m     \u001b[38;5;28;01mreturn\u001b[39;00m \u001b[38;5;28;43mself\u001b[39;49m\u001b[38;5;241;43m.\u001b[39;49m\u001b[43m_session\u001b[49m\u001b[38;5;241;43m.\u001b[39;49m\u001b[43mcreate_client\u001b[49m\u001b[43m(\u001b[49m\n\u001b[1;32m    300\u001b[0m \u001b[43m        \u001b[49m\u001b[43mservice_name\u001b[49m\u001b[43m,\u001b[49m\n\u001b[1;32m    301\u001b[0m \u001b[43m        \u001b[49m\u001b[43mregion_name\u001b[49m\u001b[38;5;241;43m=\u001b[39;49m\u001b[43mregion_name\u001b[49m\u001b[43m,\u001b[49m\n\u001b[1;32m    302\u001b[0m \u001b[43m        \u001b[49m\u001b[43mapi_version\u001b[49m\u001b[38;5;241;43m=\u001b[39;49m\u001b[43mapi_version\u001b[49m\u001b[43m,\u001b[49m\n\u001b[1;32m    303\u001b[0m \u001b[43m        \u001b[49m\u001b[43muse_ssl\u001b[49m\u001b[38;5;241;43m=\u001b[39;49m\u001b[43muse_ssl\u001b[49m\u001b[43m,\u001b[49m\n\u001b[1;32m    304\u001b[0m \u001b[43m        \u001b[49m\u001b[43mverify\u001b[49m\u001b[38;5;241;43m=\u001b[39;49m\u001b[43mverify\u001b[49m\u001b[43m,\u001b[49m\n\u001b[1;32m    305\u001b[0m \u001b[43m        \u001b[49m\u001b[43mendpoint_url\u001b[49m\u001b[38;5;241;43m=\u001b[39;49m\u001b[43mendpoint_url\u001b[49m\u001b[43m,\u001b[49m\n\u001b[1;32m    306\u001b[0m \u001b[43m        \u001b[49m\u001b[43maws_access_key_id\u001b[49m\u001b[38;5;241;43m=\u001b[39;49m\u001b[43maws_access_key_id\u001b[49m\u001b[43m,\u001b[49m\n\u001b[1;32m    307\u001b[0m \u001b[43m        \u001b[49m\u001b[43maws_secret_access_key\u001b[49m\u001b[38;5;241;43m=\u001b[39;49m\u001b[43maws_secret_access_key\u001b[49m\u001b[43m,\u001b[49m\n\u001b[1;32m    308\u001b[0m \u001b[43m        \u001b[49m\u001b[43maws_session_token\u001b[49m\u001b[38;5;241;43m=\u001b[39;49m\u001b[43maws_session_token\u001b[49m\u001b[43m,\u001b[49m\n\u001b[1;32m    309\u001b[0m \u001b[43m        \u001b[49m\u001b[43mconfig\u001b[49m\u001b[38;5;241;43m=\u001b[39;49m\u001b[43mconfig\u001b[49m\u001b[43m,\u001b[49m\n\u001b[1;32m    310\u001b[0m \u001b[43m    \u001b[49m\u001b[43m)\u001b[49m\n",
      "File \u001b[0;32m~/.local/lib/python3.10/site-packages/botocore/session.py:950\u001b[0m, in \u001b[0;36mSession.create_client\u001b[0;34m(self, service_name, region_name, api_version, use_ssl, verify, endpoint_url, aws_access_key_id, aws_secret_access_key, aws_session_token, config)\u001b[0m\n\u001b[1;32m    936\u001b[0m     smart_defaults_factory\u001b[38;5;241m.\u001b[39mmerge_smart_defaults(\n\u001b[1;32m    937\u001b[0m         config_store, defaults_mode, region_name\n\u001b[1;32m    938\u001b[0m     )\n\u001b[1;32m    939\u001b[0m client_creator \u001b[38;5;241m=\u001b[39m botocore\u001b[38;5;241m.\u001b[39mclient\u001b[38;5;241m.\u001b[39mClientCreator(\n\u001b[1;32m    940\u001b[0m     loader,\n\u001b[1;32m    941\u001b[0m     endpoint_resolver,\n\u001b[0;32m   (...)\u001b[0m\n\u001b[1;32m    948\u001b[0m     config_store,\n\u001b[1;32m    949\u001b[0m )\n\u001b[0;32m--> 950\u001b[0m client \u001b[38;5;241m=\u001b[39m \u001b[43mclient_creator\u001b[49m\u001b[38;5;241;43m.\u001b[39;49m\u001b[43mcreate_client\u001b[49m\u001b[43m(\u001b[49m\n\u001b[1;32m    951\u001b[0m \u001b[43m    \u001b[49m\u001b[43mservice_name\u001b[49m\u001b[38;5;241;43m=\u001b[39;49m\u001b[43mservice_name\u001b[49m\u001b[43m,\u001b[49m\n\u001b[1;32m    952\u001b[0m \u001b[43m    \u001b[49m\u001b[43mregion_name\u001b[49m\u001b[38;5;241;43m=\u001b[39;49m\u001b[43mregion_name\u001b[49m\u001b[43m,\u001b[49m\n\u001b[1;32m    953\u001b[0m \u001b[43m    \u001b[49m\u001b[43mis_secure\u001b[49m\u001b[38;5;241;43m=\u001b[39;49m\u001b[43muse_ssl\u001b[49m\u001b[43m,\u001b[49m\n\u001b[1;32m    954\u001b[0m \u001b[43m    \u001b[49m\u001b[43mendpoint_url\u001b[49m\u001b[38;5;241;43m=\u001b[39;49m\u001b[43mendpoint_url\u001b[49m\u001b[43m,\u001b[49m\n\u001b[1;32m    955\u001b[0m \u001b[43m    \u001b[49m\u001b[43mverify\u001b[49m\u001b[38;5;241;43m=\u001b[39;49m\u001b[43mverify\u001b[49m\u001b[43m,\u001b[49m\n\u001b[1;32m    956\u001b[0m \u001b[43m    \u001b[49m\u001b[43mcredentials\u001b[49m\u001b[38;5;241;43m=\u001b[39;49m\u001b[43mcredentials\u001b[49m\u001b[43m,\u001b[49m\n\u001b[1;32m    957\u001b[0m \u001b[43m    \u001b[49m\u001b[43mscoped_config\u001b[49m\u001b[38;5;241;43m=\u001b[39;49m\u001b[38;5;28;43mself\u001b[39;49m\u001b[38;5;241;43m.\u001b[39;49m\u001b[43mget_scoped_config\u001b[49m\u001b[43m(\u001b[49m\u001b[43m)\u001b[49m\u001b[43m,\u001b[49m\n\u001b[1;32m    958\u001b[0m \u001b[43m    \u001b[49m\u001b[43mclient_config\u001b[49m\u001b[38;5;241;43m=\u001b[39;49m\u001b[43mconfig\u001b[49m\u001b[43m,\u001b[49m\n\u001b[1;32m    959\u001b[0m \u001b[43m    \u001b[49m\u001b[43mapi_version\u001b[49m\u001b[38;5;241;43m=\u001b[39;49m\u001b[43mapi_version\u001b[49m\u001b[43m,\u001b[49m\n\u001b[1;32m    960\u001b[0m \u001b[43m\u001b[49m\u001b[43m)\u001b[49m\n\u001b[1;32m    961\u001b[0m monitor \u001b[38;5;241m=\u001b[39m \u001b[38;5;28mself\u001b[39m\u001b[38;5;241m.\u001b[39m_get_internal_component(\u001b[38;5;124m'\u001b[39m\u001b[38;5;124mmonitor\u001b[39m\u001b[38;5;124m'\u001b[39m)\n\u001b[1;32m    962\u001b[0m \u001b[38;5;28;01mif\u001b[39;00m monitor \u001b[38;5;129;01mis\u001b[39;00m \u001b[38;5;129;01mnot\u001b[39;00m \u001b[38;5;28;01mNone\u001b[39;00m:\n",
      "File \u001b[0;32m~/.local/lib/python3.10/site-packages/botocore/client.py:123\u001b[0m, in \u001b[0;36mClientCreator.create_client\u001b[0;34m(self, service_name, region_name, is_secure, endpoint_url, verify, credentials, scoped_config, api_version, client_config)\u001b[0m\n\u001b[1;32m    113\u001b[0m region_name, client_config \u001b[38;5;241m=\u001b[39m \u001b[38;5;28mself\u001b[39m\u001b[38;5;241m.\u001b[39m_normalize_fips_region(\n\u001b[1;32m    114\u001b[0m     region_name, client_config\n\u001b[1;32m    115\u001b[0m )\n\u001b[1;32m    116\u001b[0m endpoint_bridge \u001b[38;5;241m=\u001b[39m ClientEndpointBridge(\n\u001b[1;32m    117\u001b[0m     \u001b[38;5;28mself\u001b[39m\u001b[38;5;241m.\u001b[39m_endpoint_resolver,\n\u001b[1;32m    118\u001b[0m     scoped_config,\n\u001b[0;32m   (...)\u001b[0m\n\u001b[1;32m    121\u001b[0m     config_store\u001b[38;5;241m=\u001b[39m\u001b[38;5;28mself\u001b[39m\u001b[38;5;241m.\u001b[39m_config_store,\n\u001b[1;32m    122\u001b[0m )\n\u001b[0;32m--> 123\u001b[0m client_args \u001b[38;5;241m=\u001b[39m \u001b[38;5;28;43mself\u001b[39;49m\u001b[38;5;241;43m.\u001b[39;49m\u001b[43m_get_client_args\u001b[49m\u001b[43m(\u001b[49m\n\u001b[1;32m    124\u001b[0m \u001b[43m    \u001b[49m\u001b[43mservice_model\u001b[49m\u001b[43m,\u001b[49m\n\u001b[1;32m    125\u001b[0m \u001b[43m    \u001b[49m\u001b[43mregion_name\u001b[49m\u001b[43m,\u001b[49m\n\u001b[1;32m    126\u001b[0m \u001b[43m    \u001b[49m\u001b[43mis_secure\u001b[49m\u001b[43m,\u001b[49m\n\u001b[1;32m    127\u001b[0m \u001b[43m    \u001b[49m\u001b[43mendpoint_url\u001b[49m\u001b[43m,\u001b[49m\n\u001b[1;32m    128\u001b[0m \u001b[43m    \u001b[49m\u001b[43mverify\u001b[49m\u001b[43m,\u001b[49m\n\u001b[1;32m    129\u001b[0m \u001b[43m    \u001b[49m\u001b[43mcredentials\u001b[49m\u001b[43m,\u001b[49m\n\u001b[1;32m    130\u001b[0m \u001b[43m    \u001b[49m\u001b[43mscoped_config\u001b[49m\u001b[43m,\u001b[49m\n\u001b[1;32m    131\u001b[0m \u001b[43m    \u001b[49m\u001b[43mclient_config\u001b[49m\u001b[43m,\u001b[49m\n\u001b[1;32m    132\u001b[0m \u001b[43m    \u001b[49m\u001b[43mendpoint_bridge\u001b[49m\u001b[43m,\u001b[49m\n\u001b[1;32m    133\u001b[0m \u001b[43m\u001b[49m\u001b[43m)\u001b[49m\n\u001b[1;32m    134\u001b[0m service_client \u001b[38;5;241m=\u001b[39m \u001b[38;5;28mcls\u001b[39m(\u001b[38;5;241m*\u001b[39m\u001b[38;5;241m*\u001b[39mclient_args)\n\u001b[1;32m    135\u001b[0m \u001b[38;5;28mself\u001b[39m\u001b[38;5;241m.\u001b[39m_register_retries(service_client)\n",
      "File \u001b[0;32m~/.local/lib/python3.10/site-packages/botocore/client.py:466\u001b[0m, in \u001b[0;36mClientCreator._get_client_args\u001b[0;34m(self, service_model, region_name, is_secure, endpoint_url, verify, credentials, scoped_config, client_config, endpoint_bridge)\u001b[0m\n\u001b[1;32m    446\u001b[0m \u001b[38;5;28;01mdef\u001b[39;00m \u001b[38;5;21m_get_client_args\u001b[39m(\n\u001b[1;32m    447\u001b[0m     \u001b[38;5;28mself\u001b[39m,\n\u001b[1;32m    448\u001b[0m     service_model,\n\u001b[0;32m   (...)\u001b[0m\n\u001b[1;32m    456\u001b[0m     endpoint_bridge,\n\u001b[1;32m    457\u001b[0m ):\n\u001b[1;32m    458\u001b[0m     args_creator \u001b[38;5;241m=\u001b[39m ClientArgsCreator(\n\u001b[1;32m    459\u001b[0m         \u001b[38;5;28mself\u001b[39m\u001b[38;5;241m.\u001b[39m_event_emitter,\n\u001b[1;32m    460\u001b[0m         \u001b[38;5;28mself\u001b[39m\u001b[38;5;241m.\u001b[39m_user_agent,\n\u001b[0;32m   (...)\u001b[0m\n\u001b[1;32m    464\u001b[0m         config_store\u001b[38;5;241m=\u001b[39m\u001b[38;5;28mself\u001b[39m\u001b[38;5;241m.\u001b[39m_config_store,\n\u001b[1;32m    465\u001b[0m     )\n\u001b[0;32m--> 466\u001b[0m     \u001b[38;5;28;01mreturn\u001b[39;00m \u001b[43margs_creator\u001b[49m\u001b[38;5;241;43m.\u001b[39;49m\u001b[43mget_client_args\u001b[49m\u001b[43m(\u001b[49m\n\u001b[1;32m    467\u001b[0m \u001b[43m        \u001b[49m\u001b[43mservice_model\u001b[49m\u001b[43m,\u001b[49m\n\u001b[1;32m    468\u001b[0m \u001b[43m        \u001b[49m\u001b[43mregion_name\u001b[49m\u001b[43m,\u001b[49m\n\u001b[1;32m    469\u001b[0m \u001b[43m        \u001b[49m\u001b[43mis_secure\u001b[49m\u001b[43m,\u001b[49m\n\u001b[1;32m    470\u001b[0m \u001b[43m        \u001b[49m\u001b[43mendpoint_url\u001b[49m\u001b[43m,\u001b[49m\n\u001b[1;32m    471\u001b[0m \u001b[43m        \u001b[49m\u001b[43mverify\u001b[49m\u001b[43m,\u001b[49m\n\u001b[1;32m    472\u001b[0m \u001b[43m        \u001b[49m\u001b[43mcredentials\u001b[49m\u001b[43m,\u001b[49m\n\u001b[1;32m    473\u001b[0m \u001b[43m        \u001b[49m\u001b[43mscoped_config\u001b[49m\u001b[43m,\u001b[49m\n\u001b[1;32m    474\u001b[0m \u001b[43m        \u001b[49m\u001b[43mclient_config\u001b[49m\u001b[43m,\u001b[49m\n\u001b[1;32m    475\u001b[0m \u001b[43m        \u001b[49m\u001b[43mendpoint_bridge\u001b[49m\u001b[43m,\u001b[49m\n\u001b[1;32m    476\u001b[0m \u001b[43m    \u001b[49m\u001b[43m)\u001b[49m\n",
      "File \u001b[0;32m~/.local/lib/python3.10/site-packages/botocore/args.py:87\u001b[0m, in \u001b[0;36mClientArgsCreator.get_client_args\u001b[0;34m(self, service_model, region_name, is_secure, endpoint_url, verify, credentials, scoped_config, client_config, endpoint_bridge)\u001b[0m\n\u001b[1;32m     75\u001b[0m \u001b[38;5;28;01mdef\u001b[39;00m \u001b[38;5;21mget_client_args\u001b[39m(\n\u001b[1;32m     76\u001b[0m     \u001b[38;5;28mself\u001b[39m,\n\u001b[1;32m     77\u001b[0m     service_model,\n\u001b[0;32m   (...)\u001b[0m\n\u001b[1;32m     85\u001b[0m     endpoint_bridge,\n\u001b[1;32m     86\u001b[0m ):\n\u001b[0;32m---> 87\u001b[0m     final_args \u001b[38;5;241m=\u001b[39m \u001b[38;5;28;43mself\u001b[39;49m\u001b[38;5;241;43m.\u001b[39;49m\u001b[43mcompute_client_args\u001b[49m\u001b[43m(\u001b[49m\n\u001b[1;32m     88\u001b[0m \u001b[43m        \u001b[49m\u001b[43mservice_model\u001b[49m\u001b[43m,\u001b[49m\n\u001b[1;32m     89\u001b[0m \u001b[43m        \u001b[49m\u001b[43mclient_config\u001b[49m\u001b[43m,\u001b[49m\n\u001b[1;32m     90\u001b[0m \u001b[43m        \u001b[49m\u001b[43mendpoint_bridge\u001b[49m\u001b[43m,\u001b[49m\n\u001b[1;32m     91\u001b[0m \u001b[43m        \u001b[49m\u001b[43mregion_name\u001b[49m\u001b[43m,\u001b[49m\n\u001b[1;32m     92\u001b[0m \u001b[43m        \u001b[49m\u001b[43mendpoint_url\u001b[49m\u001b[43m,\u001b[49m\n\u001b[1;32m     93\u001b[0m \u001b[43m        \u001b[49m\u001b[43mis_secure\u001b[49m\u001b[43m,\u001b[49m\n\u001b[1;32m     94\u001b[0m \u001b[43m        \u001b[49m\u001b[43mscoped_config\u001b[49m\u001b[43m,\u001b[49m\n\u001b[1;32m     95\u001b[0m \u001b[43m    \u001b[49m\u001b[43m)\u001b[49m\n\u001b[1;32m     97\u001b[0m     service_name \u001b[38;5;241m=\u001b[39m final_args[\u001b[38;5;124m'\u001b[39m\u001b[38;5;124mservice_name\u001b[39m\u001b[38;5;124m'\u001b[39m]  \u001b[38;5;66;03m# noqa\u001b[39;00m\n\u001b[1;32m     98\u001b[0m     parameter_validation \u001b[38;5;241m=\u001b[39m final_args[\u001b[38;5;124m'\u001b[39m\u001b[38;5;124mparameter_validation\u001b[39m\u001b[38;5;124m'\u001b[39m]\n",
      "File \u001b[0;32m~/.local/lib/python3.10/site-packages/botocore/args.py:183\u001b[0m, in \u001b[0;36mClientArgsCreator.compute_client_args\u001b[0;34m(self, service_model, client_config, endpoint_bridge, region_name, endpoint_url, is_secure, scoped_config)\u001b[0m\n\u001b[1;32m    180\u001b[0m         user_agent \u001b[38;5;241m+\u001b[39m\u001b[38;5;241m=\u001b[39m \u001b[38;5;124m'\u001b[39m\u001b[38;5;124m \u001b[39m\u001b[38;5;132;01m%s\u001b[39;00m\u001b[38;5;124m'\u001b[39m \u001b[38;5;241m%\u001b[39m client_config\u001b[38;5;241m.\u001b[39muser_agent_extra\n\u001b[1;32m    182\u001b[0m s3_config \u001b[38;5;241m=\u001b[39m \u001b[38;5;28mself\u001b[39m\u001b[38;5;241m.\u001b[39mcompute_s3_config(client_config)\n\u001b[0;32m--> 183\u001b[0m endpoint_config \u001b[38;5;241m=\u001b[39m \u001b[38;5;28;43mself\u001b[39;49m\u001b[38;5;241;43m.\u001b[39;49m\u001b[43m_compute_endpoint_config\u001b[49m\u001b[43m(\u001b[49m\n\u001b[1;32m    184\u001b[0m \u001b[43m    \u001b[49m\u001b[43mservice_name\u001b[49m\u001b[38;5;241;43m=\u001b[39;49m\u001b[43mservice_name\u001b[49m\u001b[43m,\u001b[49m\n\u001b[1;32m    185\u001b[0m \u001b[43m    \u001b[49m\u001b[43mregion_name\u001b[49m\u001b[38;5;241;43m=\u001b[39;49m\u001b[43mregion_name\u001b[49m\u001b[43m,\u001b[49m\n\u001b[1;32m    186\u001b[0m \u001b[43m    \u001b[49m\u001b[43mendpoint_url\u001b[49m\u001b[38;5;241;43m=\u001b[39;49m\u001b[43mendpoint_url\u001b[49m\u001b[43m,\u001b[49m\n\u001b[1;32m    187\u001b[0m \u001b[43m    \u001b[49m\u001b[43mis_secure\u001b[49m\u001b[38;5;241;43m=\u001b[39;49m\u001b[43mis_secure\u001b[49m\u001b[43m,\u001b[49m\n\u001b[1;32m    188\u001b[0m \u001b[43m    \u001b[49m\u001b[43mendpoint_bridge\u001b[49m\u001b[38;5;241;43m=\u001b[39;49m\u001b[43mendpoint_bridge\u001b[49m\u001b[43m,\u001b[49m\n\u001b[1;32m    189\u001b[0m \u001b[43m    \u001b[49m\u001b[43ms3_config\u001b[49m\u001b[38;5;241;43m=\u001b[39;49m\u001b[43ms3_config\u001b[49m\u001b[43m,\u001b[49m\n\u001b[1;32m    190\u001b[0m \u001b[43m\u001b[49m\u001b[43m)\u001b[49m\n\u001b[1;32m    191\u001b[0m endpoint_variant_tags \u001b[38;5;241m=\u001b[39m endpoint_config[\u001b[38;5;124m'\u001b[39m\u001b[38;5;124mmetadata\u001b[39m\u001b[38;5;124m'\u001b[39m]\u001b[38;5;241m.\u001b[39mget(\u001b[38;5;124m'\u001b[39m\u001b[38;5;124mtags\u001b[39m\u001b[38;5;124m'\u001b[39m, [])\n\u001b[1;32m    192\u001b[0m \u001b[38;5;66;03m# Create a new client config to be passed to the client based\u001b[39;00m\n\u001b[1;32m    193\u001b[0m \u001b[38;5;66;03m# on the final values. We do not want the user to be able\u001b[39;00m\n\u001b[1;32m    194\u001b[0m \u001b[38;5;66;03m# to try to modify an existing client with a client config.\u001b[39;00m\n",
      "File \u001b[0;32m~/.local/lib/python3.10/site-packages/botocore/args.py:278\u001b[0m, in \u001b[0;36mClientArgsCreator._compute_endpoint_config\u001b[0;34m(self, service_name, region_name, endpoint_url, is_secure, endpoint_bridge, s3_config)\u001b[0m\n\u001b[1;32m    276\u001b[0m \u001b[38;5;28;01mif\u001b[39;00m service_name \u001b[38;5;241m==\u001b[39m \u001b[38;5;124m'\u001b[39m\u001b[38;5;124msts\u001b[39m\u001b[38;5;124m'\u001b[39m:\n\u001b[1;32m    277\u001b[0m     \u001b[38;5;28;01mreturn\u001b[39;00m \u001b[38;5;28mself\u001b[39m\u001b[38;5;241m.\u001b[39m_compute_sts_endpoint_config(\u001b[38;5;241m*\u001b[39m\u001b[38;5;241m*\u001b[39mresolve_endpoint_kwargs)\n\u001b[0;32m--> 278\u001b[0m \u001b[38;5;28;01mreturn\u001b[39;00m \u001b[38;5;28;43mself\u001b[39;49m\u001b[38;5;241;43m.\u001b[39;49m\u001b[43m_resolve_endpoint\u001b[49m\u001b[43m(\u001b[49m\u001b[38;5;241;43m*\u001b[39;49m\u001b[38;5;241;43m*\u001b[39;49m\u001b[43mresolve_endpoint_kwargs\u001b[49m\u001b[43m)\u001b[49m\n",
      "File \u001b[0;32m~/.local/lib/python3.10/site-packages/botocore/args.py:381\u001b[0m, in \u001b[0;36mClientArgsCreator._resolve_endpoint\u001b[0;34m(self, service_name, region_name, endpoint_url, is_secure, endpoint_bridge)\u001b[0m\n\u001b[1;32m    373\u001b[0m \u001b[38;5;28;01mdef\u001b[39;00m \u001b[38;5;21m_resolve_endpoint\u001b[39m(\n\u001b[1;32m    374\u001b[0m     \u001b[38;5;28mself\u001b[39m,\n\u001b[1;32m    375\u001b[0m     service_name,\n\u001b[0;32m   (...)\u001b[0m\n\u001b[1;32m    379\u001b[0m     endpoint_bridge,\n\u001b[1;32m    380\u001b[0m ):\n\u001b[0;32m--> 381\u001b[0m     \u001b[38;5;28;01mreturn\u001b[39;00m \u001b[43mendpoint_bridge\u001b[49m\u001b[38;5;241;43m.\u001b[39;49m\u001b[43mresolve\u001b[49m\u001b[43m(\u001b[49m\n\u001b[1;32m    382\u001b[0m \u001b[43m        \u001b[49m\u001b[43mservice_name\u001b[49m\u001b[43m,\u001b[49m\u001b[43m \u001b[49m\u001b[43mregion_name\u001b[49m\u001b[43m,\u001b[49m\u001b[43m \u001b[49m\u001b[43mendpoint_url\u001b[49m\u001b[43m,\u001b[49m\u001b[43m \u001b[49m\u001b[43mis_secure\u001b[49m\n\u001b[1;32m    383\u001b[0m \u001b[43m    \u001b[49m\u001b[43m)\u001b[49m\n",
      "File \u001b[0;32m~/.local/lib/python3.10/site-packages/botocore/client.py:566\u001b[0m, in \u001b[0;36mClientEndpointBridge.resolve\u001b[0;34m(self, service_name, region_name, endpoint_url, is_secure)\u001b[0m\n\u001b[1;32m    560\u001b[0m use_dualstack_endpoint \u001b[38;5;241m=\u001b[39m \u001b[38;5;28mself\u001b[39m\u001b[38;5;241m.\u001b[39m_resolve_use_dualstack_endpoint(\n\u001b[1;32m    561\u001b[0m     service_name\n\u001b[1;32m    562\u001b[0m )\n\u001b[1;32m    563\u001b[0m use_fips_endpoint \u001b[38;5;241m=\u001b[39m \u001b[38;5;28mself\u001b[39m\u001b[38;5;241m.\u001b[39m_resolve_endpoint_variant_config_var(\n\u001b[1;32m    564\u001b[0m     \u001b[38;5;124m'\u001b[39m\u001b[38;5;124muse_fips_endpoint\u001b[39m\u001b[38;5;124m'\u001b[39m\n\u001b[1;32m    565\u001b[0m )\n\u001b[0;32m--> 566\u001b[0m resolved \u001b[38;5;241m=\u001b[39m \u001b[38;5;28;43mself\u001b[39;49m\u001b[38;5;241;43m.\u001b[39;49m\u001b[43mendpoint_resolver\u001b[49m\u001b[38;5;241;43m.\u001b[39;49m\u001b[43mconstruct_endpoint\u001b[49m\u001b[43m(\u001b[49m\n\u001b[1;32m    567\u001b[0m \u001b[43m    \u001b[49m\u001b[43mservice_name\u001b[49m\u001b[43m,\u001b[49m\n\u001b[1;32m    568\u001b[0m \u001b[43m    \u001b[49m\u001b[43mregion_name\u001b[49m\u001b[43m,\u001b[49m\n\u001b[1;32m    569\u001b[0m \u001b[43m    \u001b[49m\u001b[43muse_dualstack_endpoint\u001b[49m\u001b[38;5;241;43m=\u001b[39;49m\u001b[43muse_dualstack_endpoint\u001b[49m\u001b[43m,\u001b[49m\n\u001b[1;32m    570\u001b[0m \u001b[43m    \u001b[49m\u001b[43muse_fips_endpoint\u001b[49m\u001b[38;5;241;43m=\u001b[39;49m\u001b[43muse_fips_endpoint\u001b[49m\u001b[43m,\u001b[49m\n\u001b[1;32m    571\u001b[0m \u001b[43m\u001b[49m\u001b[43m)\u001b[49m\n\u001b[1;32m    573\u001b[0m \u001b[38;5;66;03m# If we can't resolve the region, we'll attempt to get a global\u001b[39;00m\n\u001b[1;32m    574\u001b[0m \u001b[38;5;66;03m# endpoint for non-regionalized services (iam, route53, etc)\u001b[39;00m\n\u001b[1;32m    575\u001b[0m \u001b[38;5;28;01mif\u001b[39;00m \u001b[38;5;129;01mnot\u001b[39;00m resolved:\n\u001b[1;32m    576\u001b[0m     \u001b[38;5;66;03m# TODO: fallback partition_name should be configurable in the\u001b[39;00m\n\u001b[1;32m    577\u001b[0m     \u001b[38;5;66;03m# future for users to define as needed.\u001b[39;00m\n",
      "File \u001b[0;32m~/.local/lib/python3.10/site-packages/botocore/regions.py:205\u001b[0m, in \u001b[0;36mEndpointResolver.construct_endpoint\u001b[0;34m(self, service_name, region_name, partition_name, use_dualstack_endpoint, use_fips_endpoint)\u001b[0m\n\u001b[1;32m    200\u001b[0m \u001b[38;5;28;01mif\u001b[39;00m use_dualstack_endpoint \u001b[38;5;129;01mand\u001b[39;00m (\n\u001b[1;32m    201\u001b[0m     partition[\u001b[38;5;124m'\u001b[39m\u001b[38;5;124mpartition\u001b[39m\u001b[38;5;124m'\u001b[39m]\n\u001b[1;32m    202\u001b[0m     \u001b[38;5;129;01min\u001b[39;00m \u001b[38;5;28mself\u001b[39m\u001b[38;5;241m.\u001b[39m_UNSUPPORTED_DUALSTACK_PARTITIONS\n\u001b[1;32m    203\u001b[0m ):\n\u001b[1;32m    204\u001b[0m     \u001b[38;5;28;01mcontinue\u001b[39;00m\n\u001b[0;32m--> 205\u001b[0m result \u001b[38;5;241m=\u001b[39m \u001b[38;5;28;43mself\u001b[39;49m\u001b[38;5;241;43m.\u001b[39;49m\u001b[43m_endpoint_for_partition\u001b[49m\u001b[43m(\u001b[49m\n\u001b[1;32m    206\u001b[0m \u001b[43m    \u001b[49m\u001b[43mpartition\u001b[49m\u001b[43m,\u001b[49m\n\u001b[1;32m    207\u001b[0m \u001b[43m    \u001b[49m\u001b[43mservice_name\u001b[49m\u001b[43m,\u001b[49m\n\u001b[1;32m    208\u001b[0m \u001b[43m    \u001b[49m\u001b[43mregion_name\u001b[49m\u001b[43m,\u001b[49m\n\u001b[1;32m    209\u001b[0m \u001b[43m    \u001b[49m\u001b[43muse_dualstack_endpoint\u001b[49m\u001b[43m,\u001b[49m\n\u001b[1;32m    210\u001b[0m \u001b[43m    \u001b[49m\u001b[43muse_fips_endpoint\u001b[49m\u001b[43m,\u001b[49m\n\u001b[1;32m    211\u001b[0m \u001b[43m\u001b[49m\u001b[43m)\u001b[49m\n\u001b[1;32m    212\u001b[0m \u001b[38;5;28;01mif\u001b[39;00m result:\n\u001b[1;32m    213\u001b[0m     \u001b[38;5;28;01mreturn\u001b[39;00m result\n",
      "File \u001b[0;32m~/.local/lib/python3.10/site-packages/botocore/regions.py:253\u001b[0m, in \u001b[0;36mEndpointResolver._endpoint_for_partition\u001b[0;34m(self, partition, service_name, region_name, use_dualstack_endpoint, use_fips_endpoint, force_partition)\u001b[0m\n\u001b[1;32m    251\u001b[0m         region_name \u001b[38;5;241m=\u001b[39m service_data[\u001b[38;5;124m'\u001b[39m\u001b[38;5;124mpartitionEndpoint\u001b[39m\u001b[38;5;124m'\u001b[39m]\n\u001b[1;32m    252\u001b[0m     \u001b[38;5;28;01melse\u001b[39;00m:\n\u001b[0;32m--> 253\u001b[0m         \u001b[38;5;28;01mraise\u001b[39;00m NoRegionError()\n\u001b[1;32m    255\u001b[0m resolve_kwargs \u001b[38;5;241m=\u001b[39m {\n\u001b[1;32m    256\u001b[0m     \u001b[38;5;124m'\u001b[39m\u001b[38;5;124mpartition\u001b[39m\u001b[38;5;124m'\u001b[39m: partition,\n\u001b[1;32m    257\u001b[0m     \u001b[38;5;124m'\u001b[39m\u001b[38;5;124mservice_name\u001b[39m\u001b[38;5;124m'\u001b[39m: service_name,\n\u001b[0;32m   (...)\u001b[0m\n\u001b[1;32m    261\u001b[0m     \u001b[38;5;124m'\u001b[39m\u001b[38;5;124muse_fips_endpoint\u001b[39m\u001b[38;5;124m'\u001b[39m: use_fips_endpoint,\n\u001b[1;32m    262\u001b[0m }\n\u001b[1;32m    264\u001b[0m \u001b[38;5;66;03m# Attempt to resolve the exact region for this partition.\u001b[39;00m\n",
      "\u001b[0;31mNoRegionError\u001b[0m: You must specify a region."
     ]
    }
   ],
   "source": [
    "\n",
    "# Setup the same state from before...\n",
    "theta = 0\n",
    "phi = 0 \n",
    "\n",
    "psi = Circuit().ry(angle=theta, target=0)\n",
    "\n",
    "# set up device\n",
    "ionq = AwsDevice(\"arn:aws:braket:::device/qpu/ionq/ionQdevice\")\n",
    "\n",
    "# run circuit\n",
    "ionq_task = ionq.run(psi, shots=10)\n",
    "\n",
    "# get id and status of submitted task\n",
    "ionq_task_id = ionq_task.id\n",
    "ionq_status = ionq_task.state()\n",
    "# print('ID of task:', ionq_task_id)\n",
    "print('Status of task:', ionq_status)"
   ]
  },
  {
   "cell_type": "markdown",
   "id": "d5467188-aa05-4a1e-84fb-70a8dbecbf99",
   "metadata": {},
   "source": [
    "If the device was available, the above code should have told you that your task was created. You can then query the service to see whether your code has run by running the below cell. It may take a decent amount of time for your code to execute since many other users could be accessing the same machine."
   ]
  },
  {
   "cell_type": "code",
   "execution_count": 13,
   "id": "3b959481",
   "metadata": {},
   "outputs": [
    {
     "name": "stdout",
     "output_type": "stream",
     "text": [
      "Status of (reconstructed) task: COMPLETED\n",
      "10 shots taken on machine arn:aws:braket:::device/qpu/ionq/ionQdevice.\n",
      "Measurement counts: Counter({'0': 10})\n"
     ]
    },
    {
     "data": {
      "image/png": "[encoded data removed]",
      "text/plain": [
       "<Figure size 432x288 with 1 Axes>"
      ]
     },
     "metadata": {
      "needs_background": "light"
     },
     "output_type": "display_data"
    }
   ],
   "source": [
    "task_load = AwsQuantumTask(arn=ionq_task_id)\n",
    "\n",
    "# print status\n",
    "status = task_load.state()\n",
    "print('Status of (reconstructed) task:', status)\n",
    "\n",
    "# wait for job to complete\n",
    "# terminal_states = ['COMPLETED', 'FAILED', 'CANCELLED']\n",
    "if status == 'COMPLETED':\n",
    "    # get results\n",
    "    results = task_load.result()\n",
    "    # print(rigetti_results)\n",
    "    \n",
    "    # get all metadata of submitted task\n",
    "    metadata = task_load.metadata()\n",
    "    # example for metadata\n",
    "    shots = metadata['shots']\n",
    "    machine = metadata['deviceArn']\n",
    "    # print example metadata\n",
    "    print(\"{} shots taken on machine {}.\".format(shots, machine))\n",
    "    \n",
    "    # get measurement counts\n",
    "    counts = results.measurement_counts\n",
    "    print('Measurement counts:', counts)\n",
    "\n",
    "    # plot results: see effects of noise\n",
    "    plt.bar(counts.keys(), counts.values())\n",
    "    plt.xlabel('bitstrings')\n",
    "    plt.ylabel('counts')\n",
    "    plt.tight_layout()\n",
    "    plt.savefig('bell_ionq.png', dpi=700)\n",
    "    \n",
    "elif status in ['FAILED', 'CANCELLED']:\n",
    "    # print terminal message \n",
    "    print('Your task is in terminal status, but has not completed.')\n",
    "\n",
    "else:\n",
    "    # print current status\n",
    "    print('Sorry, your task is still being processed and has not been finalized yet.')"
   ]
  },
  {
   "cell_type": "markdown",
   "id": "2196f2a3-c609-4ba7-b44e-1a7c91b00174",
   "metadata": {},
   "source": [
    "If your code ran, you should see that it gives us the same results as we saw for our simulation. Every measurement resulted in the qubit being up."
   ]
  },
  {
   "cell_type": "markdown",
   "id": "2e54a7c3-7e61-43ce-8440-50f18c8e146e",
   "metadata": {},
   "source": [
    "One thing we can do to get a different result when measuring the qubit in our quantum circuit is to apply a rotation to the qubit's state vector. Here, we rotate the inital up state about the y-axis by $\\pi$ radians. Think about what state you think the qubit should be in after applying this rotation."
   ]
  },
  {
   "cell_type": "markdown",
   "id": "8ea2d7b1-698d-48f8-91bb-2c0b64aa88d8",
   "metadata": {},
   "source": [
    "Setup the circuit with a $\\pi$ rotation about the y-axis."
   ]
  },
  {
   "cell_type": "code",
   "execution_count": 23,
   "id": "26937e05-d09c-4b1d-b581-427ce753b37c",
   "metadata": {},
   "outputs": [],
   "source": [
    "theta = pi\n",
    "psi = Circuit().ry(angle=theta, target=0)"
   ]
  },
  {
   "cell_type": "markdown",
   "id": "607c61d2-eeaf-4cea-a534-8553b0093821",
   "metadata": {},
   "source": [
    "Again, we can cheat a bit by simulating the full state produced by the quantum circuit."
   ]
  },
  {
   "cell_type": "code",
   "execution_count": 24,
   "id": "1c68b1db-0aec-4909-9a03-396fc4f1470e",
   "metadata": {},
   "outputs": [
    {
     "name": "stdout",
     "output_type": "stream",
     "text": [
      "[6.123234e-17+0.j 1.000000e+00+0.j]\n"
     ]
    },
    {
     "data": {
      "image/png": "[encoded data removed]",
      "text/plain": [
       "<Figure size 288x288 with 1 Axes>"
      ]
     },
     "execution_count": 24,
     "metadata": {},
     "output_type": "execute_result"
    }
   ],
   "source": [
    "psi.state_vector()\n",
    "device = LocalSimulator()\n",
    "task= device.run(psi, shots=0)\n",
    "result = task.result()\n",
    "statevector= result.values[0]\n",
    "print(statevector)\n",
    "plot_bloch_multivector(statevector)"
   ]
  },
  {
   "cell_type": "markdown",
   "id": "2d09a92b-7ac9-43c3-8e2c-f78d63d81b36",
   "metadata": {},
   "source": [
    "Just as we likely expected, doing a $\\pi$ rotation about the y-axis results in a qubit in the down state.\n",
    "Let's now simulate the measurement of this state like we did before for the up state. \n",
    "\n",
    "**Question 3: What do you expect our measurements to yield for the qubit state we just prepared?**"
   ]
  },
  {
   "cell_type": "markdown",
   "id": "9dbd22fa-ca5d-455e-8fab-876b3fb78458",
   "metadata": {},
   "source": [
    "Setup the circuit with a pi rotation about the y-axis."
   ]
  },
  {
   "cell_type": "code",
   "execution_count": 25,
   "id": "51d7829f-6483-45f7-ac9e-e10dbf3a0545",
   "metadata": {},
   "outputs": [],
   "source": [
    "theta = pi\n",
    "psi = Circuit().ry(angle=theta, target=0)"
   ]
  },
  {
   "cell_type": "markdown",
   "id": "4c13fde3-9139-4a45-9db7-72fc6badd3ca",
   "metadata": {},
   "source": [
    "Set up device to run a measurement simulation using a classical computer."
   ]
  },
  {
   "cell_type": "code",
   "execution_count": 28,
   "id": "9465c040-fcec-478f-9d0a-50aac259e5b2",
   "metadata": {},
   "outputs": [],
   "source": [
    "device = LocalSimulator()"
   ]
  },
  {
   "cell_type": "markdown",
   "id": "e82ad4e2-024d-4724-b4b1-61c0d8cc615c",
   "metadata": {},
   "source": [
    "Run circuit many times and record the measurement of each iteration."
   ]
  },
  {
   "cell_type": "code",
   "execution_count": 29,
   "id": "3cd270a6-edd5-4bde-b7e6-ec2914e69962",
   "metadata": {},
   "outputs": [],
   "source": [
    "result = device.run(psi, shots=1000).result()"
   ]
  },
  {
   "cell_type": "markdown",
   "id": "480addf1-4234-4a0f-8d5e-64e96807caef",
   "metadata": {},
   "source": [
    "Get results from each measurement shot."
   ]
  },
  {
   "cell_type": "code",
   "execution_count": 30,
   "id": "610b3b36-3176-44c0-bc73-66c2db852989",
   "metadata": {},
   "outputs": [],
   "source": [
    "counts = result.measurement_counts"
   ]
  },
  {
   "cell_type": "markdown",
   "id": "596ea448-658a-4ee4-9efa-f996fa7427c4",
   "metadata": {},
   "source": [
    "Print results of each measurement shot."
   ]
  },
  {
   "cell_type": "code",
   "execution_count": 31,
   "id": "13173ccb-af6f-433c-b537-777e06d01e2f",
   "metadata": {},
   "outputs": [
    {
     "name": "stdout",
     "output_type": "stream",
     "text": [
      "Counter({'1': 1000})\n"
     ]
    }
   ],
   "source": [
    "print(counts)"
   ]
  },
  {
   "cell_type": "markdown",
   "id": "d72a3afd-2b6c-4501-a242-f5be8b9824ff",
   "metadata": {},
   "source": [
    "Plot the results."
   ]
  },
  {
   "cell_type": "code",
   "execution_count": 32,
   "id": "dca44147-0e07-4a46-8cdf-1ceb87830098",
   "metadata": {},
   "outputs": [
    {
     "data": {
      "image/png": "[encoded data removed]",
      "text/plain": [
       "<Figure size 432x288 with 1 Axes>"
      ]
     },
     "metadata": {
      "needs_background": "light"
     },
     "output_type": "display_data"
    }
   ],
   "source": [
    "plt.bar(counts.keys(), counts.values());\n",
    "plt.xlabel('state');\n",
    "plt.ylabel('counts');"
   ]
  },
  {
   "cell_type": "markdown",
   "id": "33024611-0c61-4853-a13b-045a17a30b2d",
   "metadata": {},
   "source": [
    "Every run and measurement of the circuit produced the same result of down $|1>$. This is because we prepared the initial state such that all the probability was in the down state. Let's do something a little different now. Instead of producing states that are either entirely up or entirely down, let's only rotate halfway using a y-rotation by $\\pi/2$ radians. \n",
    "\n",
    "**Question 4: Can you picture what this state should look like on the Bloch Sphere? Draw what you think it should look like on the Bloch sphere and say what you think this will mean in terms of measuring the qubit.**"
   ]
  },
  {
   "cell_type": "markdown",
   "id": "5b42b878-8a71-4b9a-8c48-1e59e94d5c85",
   "metadata": {},
   "source": [
    "Setup the circuit with a $\\pi/2$ rotation about the y-axis."
   ]
  },
  {
   "cell_type": "code",
   "execution_count": 6,
   "id": "655013cd-356b-4ff9-af49-6bcbbf8726da",
   "metadata": {},
   "outputs": [],
   "source": [
    "psi = Circuit().ry(angle=pi/2, target=0)"
   ]
  },
  {
   "cell_type": "markdown",
   "id": "9fc47582-584b-45f1-b68d-792d1396e142",
   "metadata": {},
   "source": [
    "Simulate and plot the final state."
   ]
  },
  {
   "cell_type": "code",
   "execution_count": 6,
   "id": "6c168f22-3e5b-48e2-abe6-50dced28306f",
   "metadata": {},
   "outputs": [
    {
     "name": "stdout",
     "output_type": "stream",
     "text": [
      "[0.70710678+0.j 0.70710678+0.j]\n"
     ]
    },
    {
     "data": {
      "image/png": "[encoded data removed]",
      "text/plain": [
       "<Figure size 288x288 with 1 Axes>"
      ]
     },
     "execution_count": 6,
     "metadata": {},
     "output_type": "execute_result"
    }
   ],
   "source": [
    "psi.state_vector()\n",
    "device = LocalSimulator()\n",
    "task= device.run(psi, shots=0)\n",
    "result = task.result()\n",
    "statevector= result.values[0]\n",
    "print(statevector)\n",
    "plot_bloch_multivector(statevector)"
   ]
  },
  {
   "cell_type": "markdown",
   "id": "cc494522-0704-45fb-aa4f-ca14852b3d0d",
   "metadata": {},
   "source": [
    "We see the state produced is halfway between up and down. Let's now go ahead and simulate the result of measuring this state."
   ]
  },
  {
   "cell_type": "code",
   "execution_count": 33,
   "id": "901e41fe",
   "metadata": {},
   "outputs": [
    {
     "name": "stdout",
     "output_type": "stream",
     "text": [
      "Counter({'1': 512, '0': 488})\n"
     ]
    },
    {
     "data": {
      "image/png": "[encoded data removed]",
      "text/plain": [
       "<Figure size 432x288 with 1 Axes>"
      ]
     },
     "metadata": {
      "needs_background": "light"
     },
     "output_type": "display_data"
    }
   ],
   "source": [
    "# Setup the circuit with a pi/2 rotation about the y-axis.\n",
    "psi = Circuit().ry(angle=pi/2, target=0)\n",
    "\n",
    "# set up device to run a simulation on your classical computer\n",
    "device = LocalSimulator()\n",
    "\n",
    "# Run circuit many times and record the measurement of each iteration.\n",
    "result = device.run(psi, shots=1000).result()\n",
    "\n",
    "# Get results from each measurement shot.\n",
    "counts = result.measurement_counts\n",
    "\n",
    "# Print results of each measurement shot.\n",
    "print(counts)\n",
    "\n",
    "# Plots the results.\n",
    "plt.bar(counts.keys(), counts.values());\n",
    "plt.xlabel('state');\n",
    "plt.ylabel('counts');"
   ]
  },
  {
   "cell_type": "markdown",
   "id": "e7d786b0-a337-4055-911e-d4a1f851a11e",
   "metadata": {},
   "source": [
    "**Question 5: How does the above result compare to your guess from question 4?**"
   ]
  },
  {
   "cell_type": "markdown",
   "id": "dc1c4be1-0517-4bfb-8f59-2652135897cf",
   "metadata": {},
   "source": [
    "We see that roughly half of the measurements were up |0> and the other half were down |1>. This is because our previous code prepared the state as $|\\psi>=\\sqrt{\\frac{1}{2}} |0> + \\sqrt{\\frac{1}{2}} |1>$. Recall that you determine the relevant probabilities by squaring the number in front of the $|0>$ or the $|1>$.  \n",
    "\n",
    "**Question 6: What happens if you alter the above code such that the number of shots is very small? What about if the number of shots is very large? Can you explain your observation?**\n",
    "- you can alter the number of shots by changing the number in the line that says 'result = device.run(psi, shots=1000).result()'\n"
   ]
  },
  {
   "cell_type": "markdown",
   "id": "d01aa44c-d739-4a31-8baa-92b1debd2fd2",
   "metadata": {},
   "source": [
    "The fact that you don't see exactly 50/50, depending on the number of shots used, is the topic of probability theory and statistics. Here, we have a system that can be in one of two possible states. Systems like this are described by the statistics of the Binomial Distribution, which we can use to show a similar result below."
   ]
  },
  {
   "cell_type": "markdown",
   "id": "b5c947a3-fe26-4074-b167-82450a326f46",
   "metadata": {},
   "source": [
    "In the code below, the variable 'size' is the same as the number of shots we take for our previous quantum circuit measurements.\n",
    "Convince yourself that this reproduces roughly the same results you see when you execute measurements of the half up half down qubit by varying the variable 'size'."
   ]
  },
  {
   "cell_type": "code",
   "execution_count": 42,
   "id": "72e02635",
   "metadata": {},
   "outputs": [
    {
     "name": "stdout",
     "output_type": "stream",
     "text": [
      "{0: 496, 1: 504}\n"
     ]
    },
    {
     "data": {
      "image/png": "[encoded data removed]",
      "text/plain": [
       "<Figure size 432x288 with 1 Axes>"
      ]
     },
     "metadata": {
      "needs_background": "light"
     },
     "output_type": "display_data"
    }
   ],
   "source": [
    "x = np.random.binomial(n=1, p=0.5, size=1000)\n",
    "unique, counts = np.unique(x, return_counts=True)\n",
    "counts_dict = dict(zip(unique, counts))\n",
    "print(counts_dict)\n",
    "sns.distplot(x, hist=True, kde=False)\n",
    "plt.show()"
   ]
  },
  {
   "cell_type": "markdown",
   "id": "c189591d-8393-4501-83b3-ad78b19cb260",
   "metadata": {},
   "source": [
    "So when the qubit is made to be half in the up and half in the down states, we get a 50/50 probability for either state. We were able to create this state by rotating the inital up qubit so that it lies exactly halfway between the up and down states. Take a few moments to play around with the code below by changing the angle of rotation and noticing how that affects the probability of getting either result."
   ]
  },
  {
   "cell_type": "code",
   "execution_count": 43,
   "id": "86155a61",
   "metadata": {},
   "outputs": [
    {
     "name": "stdout",
     "output_type": "stream",
     "text": [
      "Counter({'0': 8469, '1': 1531})\n"
     ]
    },
    {
     "data": {
      "image/png": "[encoded data removed]",
      "text/plain": [
       "<Figure size 432x288 with 1 Axes>"
      ]
     },
     "metadata": {
      "needs_background": "light"
     },
     "output_type": "display_data"
    }
   ],
   "source": [
    "theta = \"set the angle yourself!\"\n",
    "nshots = \"set the number of shots yourself!\"\n",
    "\n",
    "# Setup the circuit with a pi/2 rotation about the y-axis.\n",
    "psi = Circuit().ry(angle=theta, target=0)\n",
    "\n",
    "# set up device to run a simulation on your classical computer\n",
    "device = LocalSimulator()\n",
    "\n",
    "# Run circuit many times and record the measurement of each iteration.\n",
    "result = device.run(psi, shots=nshots).result()\n",
    "\n",
    "# Get results from each measurement shot.\n",
    "counts = result.measurement_counts\n",
    "\n",
    "# Print results of each measurement shot.\n",
    "print(counts)\n",
    "\n",
    "# Plots the results.\n",
    "plt.bar(counts.keys(), counts.values());\n",
    "plt.xlabel('state');\n",
    "plt.ylabel('counts');"
   ]
  },
  {
   "cell_type": "markdown",
   "id": "4782e662-058d-45c7-8d4d-6f2b0f358504",
   "metadata": {},
   "source": [
    "## Using Qubits to do Stern-Gerlach Experiments"
   ]
  },
  {
   "cell_type": "markdown",
   "id": "db7ba225-6b0f-44f1-b2de-328957e8e1d9",
   "metadata": {},
   "source": [
    "At this point, you should have a basic understanding of how to think about and measure qubits. Now we want to use qubits to implement the Stern-Gerlach experiment. This was a foundational experiment that experimentally proved a consequence of quantum mechanics, that the electron possesses a type of angular momentum called 'spin' that is quantized. This means that the electron has an associated variable called 'spin' that can be in a state of either up or down when we measure it. If we prepare an electron without measuring its spin, then the spin can be in some superposition of up and down. This is exactly like we saw previously when we described qubits that were some combination of up and down states. In fact, we can think of the spin of the electron as being a qubit since a qubit is just a two state quantum system. We want to show that by thinking of the electron as a qubit, and implementing the same procedure as in the Stern-Gerlach experiment, that we reproduce the same results. If we are are able to show the same results then we conclude that the electron's spin angular momentum has the same physics as a qubit and, most importantly, obeys the laws of quantum mechanics."
   ]
  },
  {
   "cell_type": "markdown",
   "id": "c00efcc8",
   "metadata": {},
   "source": [
    "Pictured below in figure 4 is the first of the Stern-Gerlach experiments, where a silver atom with an electron in a random spin state is fed into the left-hand side of the picture. The atom is fed into a z-direction inhomogenous magnetic field after which the down states are covered up while the up states are fed into another z-direction inhomogeneous magnetic field. This experiment initially showed that a state initially measured to be in either up or down state remains in that state upon another of the same type of measurement. If the first measurement produced an up state from the z-direction magnetic field then the second measurement will also produce an up state from the z-direction magnetic field.\n",
    "<figure>\n",
    "    <img src=\"imgs/experiment_a.png\" width=600 height=600 />\n",
    "    <figcaption>Figure 4: First Stern-Gerlach Experiment. [4]</figcaption>\n",
    "</figure>\n",
    " In the original experiment, the electron spin state was generated by thermally ejecting hot silver atoms from an oven. This randomly oriented spin state passes into a device originally implemented as an inhomogeneous magnetic field in the z-direction. Since the spin of the electron and the magnetic field have an interaction, we expect that measurements on the right-hand side of the magnetic field device will be discretely split into two spots. We expect this because we know from Stern and Gerlach's results that the electron has spin that, when measured, must be either up or down. Since the different spin states are deflected differently by the magnetic field, one spot is due to the up spin and the other spot would be due to the down spin state. If we feed many randomly oriented electrons into this first magnetic field, we expect that roughly 50% will end up deflected up and 50% will be deflected down. This is exactly the Stern-Gerlach experiment's first and most surprising result. If the spin of the electron were not quantized and could take on any value/orientation, we would expect the measurement on the other size of the magnetic field to be a continuous distribution. Here, we are able to represent the deflection by a z-direction magnetic field of a spin up or spin down qubit by simply measuring the state. We now carry out the first part of the experiment in Figure 4, where we send randomly oriented spins into a z-direction magnetic field."
   ]
  },
  {
   "cell_type": "code",
   "execution_count": 49,
   "id": "6f4e5a66",
   "metadata": {},
   "outputs": [
    {
     "data": {
      "image/png": "[encoded data removed]",
      "text/plain": [
       "<Figure size 432x288 with 1 Axes>"
      ]
     },
     "metadata": {
      "needs_background": "light"
     },
     "output_type": "display_data"
    }
   ],
   "source": [
    "# A counter for the number of up |0> and down \\1> states we get from our measurements\n",
    "total_counts = {\"0\":0,\"1\":0}\n",
    "# Set the number of times we run the experiment. This corresponds to the number of silver atoms ejected from the over in the Stern-Gerlach experiment.\n",
    "num_experiments = 1000\n",
    "\n",
    "for i in range(num_experiments):\n",
    "    \n",
    "    # Rotate the initially up qubit by random angles in the y and z-direction\n",
    "    theta = pi*rand.random()\n",
    "    phi = 2*pi*rand.random()\n",
    "    psi = Circuit().ry(angle=theta, target=0).rz(angle=phi, target=0)\n",
    "    \n",
    "    # set up device\n",
    "    device = LocalSimulator()\n",
    "\n",
    "    # run circuit\n",
    "    result = device.run(psi, shots=1).result()\n",
    "\n",
    "    # get result of shots\n",
    "    counts = result.measurement_counts\n",
    "    total_counts[\"0\"]+=counts[\"0\"]\n",
    "    total_counts[\"1\"]+=counts[\"1\"]\n",
    "\n",
    "\n",
    "# plot using Counter\n",
    "plt.bar(total_counts.keys(), total_counts.values());\n",
    "plt.xlabel('states');\n",
    "plt.ylabel('counts');"
   ]
  },
  {
   "cell_type": "markdown",
   "id": "cecabb13",
   "metadata": {},
   "source": [
    "When we measure a randomly generated spin state we find roughly a 50/50 chance of the state being measured as either up or down. \n",
    "\n",
    "**Question 7: If you change the values of 'num_experiments' and 'shots' what do you find? Explain your results as best you can.**"
   ]
  },
  {
   "cell_type": "markdown",
   "id": "b9807438",
   "metadata": {},
   "source": [
    "We should have found that preparing many randomly oriented qubits and measuring gives the same result as preparing only pi/2 y-rotated states. Therefore, since running the number of individual experiments we did is substantially more expensive than the number of shots per experiment, we can save money by measuring a pi/2 rotated state many times rather than preparing many random states and measure each once."
   ]
  },
  {
   "cell_type": "markdown",
   "id": "316116cb",
   "metadata": {},
   "source": [
    "All we have done so far is effectively the first part of our first experiment displayed in figure 4. We generated a bunch of randomly oriented 'electrons', represented as qubits, and enacted the deflection by a z-direction magnetic field via measuring these qubits. The next part of the first Stern-Gerlach experiment will block out the states measured as spin down and feed the states measured as spin up into another z-direction magnetic field. To implement this first experiment using qubits, we will first rotate the intial up qubit by $\\pi/2$ in the y-direction then measure the state of qubit. Measurement has the same effect as applying a z-direction magnetic field since measurement forces the result to be either up or down, just as the magnetic field did for the silver atoms. We then block the qubits measured in the down state and feed only the up state qubits into another measurement device."
   ]
  },
  {
   "cell_type": "code",
   "execution_count": 53,
   "id": "91442ea9",
   "metadata": {},
   "outputs": [
    {
     "name": "stdout",
     "output_type": "stream",
     "text": [
      "Counter({'1': 54, '0': 46})\n"
     ]
    },
    {
     "data": {
      "image/png": "[encoded data removed]",
      "text/plain": [
       "<Figure size 432x288 with 1 Axes>"
      ]
     },
     "metadata": {
      "needs_background": "light"
     },
     "output_type": "display_data"
    }
   ],
   "source": [
    "# Prepare a pi/2 y-direction rotated qubit\n",
    "theta = pi/2\n",
    "\n",
    "psi = Circuit().ry(angle=theta, target=0)\n",
    "\n",
    "# set up device\n",
    "device = LocalSimulator()\n",
    "\n",
    "# run circuit\n",
    "result = device.run(psi, shots=100).result()\n",
    "\n",
    "# get result of shots\n",
    "counts = result.measurement_counts\n",
    "\n",
    "# print result\n",
    "print(counts)\n",
    "\n",
    "# plot using Counter\n",
    "plt.bar(counts.keys(), counts.values());\n",
    "plt.xlabel('states');\n",
    "plt.ylabel('counts');"
   ]
  },
  {
   "cell_type": "markdown",
   "id": "6bdcc64b-f9cd-4a9a-b0d5-a2f869be5086",
   "metadata": {},
   "source": [
    "**Question 8: From your knowledge of quantum mechanics so far, what do you predict we should measure if we measure the same qubit twice? Why?**"
   ]
  },
  {
   "cell_type": "markdown",
   "id": "c670f965-752c-482a-9b08-4f06fab327fa",
   "metadata": {},
   "source": [
    "Let's block out the down $|1>$ state and only feed the up $|0>$ state into the next measurement.\n"
   ]
  },
  {
   "cell_type": "markdown",
   "id": "f3d8b1fc-5c3f-4278-9f3b-1bafb255d88b",
   "metadata": {},
   "source": [
    "Take number of up states from the first measurement and assign it as the number of shots we take in this measurement."
   ]
  },
  {
   "cell_type": "code",
   "execution_count": 54,
   "id": "6a3935e9-4dcd-4504-b696-b5d6ba00d822",
   "metadata": {},
   "outputs": [],
   "source": [
    "num_zeros = counts['0']"
   ]
  },
  {
   "cell_type": "markdown",
   "id": "42877e53-5352-4698-b398-2149511f4859",
   "metadata": {},
   "source": [
    "Initialize the qubit state so that it aligns with our previous measurement of up."
   ]
  },
  {
   "cell_type": "code",
   "execution_count": 55,
   "id": "01cf0d7a-45a5-4094-b2e5-ccee8e55f0d5",
   "metadata": {},
   "outputs": [],
   "source": [
    "theta = 0\n",
    "psi = Circuit().ry(angle=theta, target=0)"
   ]
  },
  {
   "cell_type": "markdown",
   "id": "18b61d86-1500-4e36-8758-4d5c6f5f7aa2",
   "metadata": {},
   "source": [
    "Set up device."
   ]
  },
  {
   "cell_type": "code",
   "execution_count": 56,
   "id": "a1809842-5940-4903-9494-06355bc354a7",
   "metadata": {},
   "outputs": [],
   "source": [
    "device = LocalSimulator()"
   ]
  },
  {
   "cell_type": "markdown",
   "id": "da6e1567-5777-485c-a964-e6facb1e0b33",
   "metadata": {},
   "source": [
    "Run circuit."
   ]
  },
  {
   "cell_type": "code",
   "execution_count": 57,
   "id": "4cec2712-8805-4b4d-8901-22b7937501a1",
   "metadata": {},
   "outputs": [],
   "source": [
    "result = device.run(psi, shots=num_zeros).result()"
   ]
  },
  {
   "cell_type": "markdown",
   "id": "b7431265-3292-41ac-88cc-879f735630a1",
   "metadata": {},
   "source": [
    "Get result of shots."
   ]
  },
  {
   "cell_type": "code",
   "execution_count": 58,
   "id": "fb0feb91-bd64-4d64-8de7-1f4a9f89804b",
   "metadata": {},
   "outputs": [],
   "source": [
    "counts = result.measurement_counts"
   ]
  },
  {
   "cell_type": "markdown",
   "id": "483efbb6-e6bd-4a1f-a4e0-86e7345d4c3a",
   "metadata": {},
   "source": [
    "Print the counts."
   ]
  },
  {
   "cell_type": "code",
   "execution_count": 59,
   "id": "db1a531b-fe8d-4dad-9da0-2bc15b190cc4",
   "metadata": {},
   "outputs": [
    {
     "name": "stdout",
     "output_type": "stream",
     "text": [
      "Counter({'0': 46})\n"
     ]
    }
   ],
   "source": [
    "print(counts)"
   ]
  },
  {
   "cell_type": "markdown",
   "id": "1daa6bb7-0a13-4290-a7bb-3c7593b501ea",
   "metadata": {},
   "source": [
    "Plot using counter."
   ]
  },
  {
   "cell_type": "code",
   "execution_count": 60,
   "id": "a55191e1-cc47-4c85-911f-a21dcc7fd254",
   "metadata": {},
   "outputs": [
    {
     "data": {
      "image/png": "[encoded data removed]",
      "text/plain": [
       "<Figure size 432x288 with 1 Axes>"
      ]
     },
     "metadata": {
      "needs_background": "light"
     },
     "output_type": "display_data"
    }
   ],
   "source": [
    "plt.bar(counts.keys(), counts.values());\n",
    "plt.xlabel('bitstrings');\n",
    "plt.ylabel('counts');"
   ]
  },
  {
   "cell_type": "markdown",
   "id": "fe3911b4-b908-4f2e-9476-0ef3d1302e56",
   "metadata": {},
   "source": [
    "If you guessed that measuring twice would just give the same result twice, you were correct. When we measure the state, we collapse the wavefunction to give a single result. If we measure that collapsed wavefunction again in the same way, it is still collapsed and will yield the same measurement."
   ]
  },
  {
   "cell_type": "markdown",
   "id": "6a633207-032f-428b-9121-5f65feb708ed",
   "metadata": {},
   "source": [
    "Let's convince ourselves that there isn't anything special about blocking the down states in the above experiment. We can do that by running the same kind of code but blocking out only the up states rather than the down states."
   ]
  },
  {
   "cell_type": "code",
   "execution_count": 64,
   "id": "b84d136c",
   "metadata": {},
   "outputs": [
    {
     "name": "stdout",
     "output_type": "stream",
     "text": [
      "Counter({'1': 52, '0': 48})\n"
     ]
    },
    {
     "data": {
      "image/png": "[encoded data removed]",
      "text/plain": [
       "<Figure size 432x288 with 1 Axes>"
      ]
     },
     "metadata": {
      "needs_background": "light"
     },
     "output_type": "display_data"
    }
   ],
   "source": [
    "# Prepare a pi/2 y-direction rotated qubit\n",
    "theta = pi/2\n",
    "\n",
    "psi = Circuit().ry(angle=theta, target=0)\n",
    "\n",
    "# set up device\n",
    "device = LocalSimulator()\n",
    "\n",
    "# run circuit\n",
    "result = device.run(psi, shots=100).result()\n",
    "\n",
    "# get result of shots\n",
    "counts = result.measurement_counts\n",
    "\n",
    "# print result\n",
    "print(counts)\n",
    "\n",
    "# plot using Counter\n",
    "plt.bar(counts.keys(), counts.values());\n",
    "plt.xlabel('states');\n",
    "plt.ylabel('counts');"
   ]
  },
  {
   "cell_type": "code",
   "execution_count": 65,
   "id": "0e762866",
   "metadata": {},
   "outputs": [
    {
     "name": "stdout",
     "output_type": "stream",
     "text": [
      "Counter({'1': 52})\n"
     ]
    },
    {
     "data": {
      "image/png": "[encoded data removed]",
      "text/plain": [
       "<Figure size 432x288 with 1 Axes>"
      ]
     },
     "metadata": {
      "needs_background": "light"
     },
     "output_type": "display_data"
    }
   ],
   "source": [
    "# Let's block out the up state and only feed the downs into the next measurement\n",
    "num_ones = counts['1']\n",
    "\n",
    "# Set up the qubit so that it is in the down state by applying a pi y-direction rotation\n",
    "theta = pi\n",
    "psi = Circuit().ry(angle=theta, target=0)\n",
    "\n",
    "# set up device\n",
    "device = LocalSimulator()\n",
    "\n",
    "# run circuit\n",
    "result = device.run(psi, shots=num_ones).result()\n",
    "\n",
    "# get result of shots\n",
    "counts = result.measurement_counts\n",
    "\n",
    "print(counts)\n",
    "\n",
    "# plot using Counter\n",
    "plt.bar(counts.keys(), counts.values());\n",
    "plt.xlabel('bitstrings');\n",
    "plt.ylabel('counts');"
   ]
  },
  {
   "cell_type": "markdown",
   "id": "838e529f-a22d-4911-8c2d-7f2b16b9f469",
   "metadata": {},
   "source": [
    "You should have found that you got the same number of down qubits out of the second part of the experiment as you got from the first. Again, this is due to wavefunction collapse."
   ]
  },
  {
   "cell_type": "markdown",
   "id": "4ee342ad-6a99-4f49-a9e4-ca44e86a5224",
   "metadata": {
    "tags": []
   },
   "source": [
    "If you want to, you can execute the next four cells (in order) to run the same experiment we just did but now have it run on an actual quantum device. Note that running on the real quantum hardware can potentially take a long time so you won't be able to run all the cells right away. You should wait until your job submission has finished each time and then submit the next job."
   ]
  },
  {
   "cell_type": "code",
   "execution_count": 73,
   "id": "8242bc9b-22f7-41bd-ab13-ad6577fad96e",
   "metadata": {
    "collapsed": true,
    "jupyter": {
     "outputs_hidden": true
    },
    "tags": []
   },
   "outputs": [
    {
     "ename": "NoRegionError",
     "evalue": "You must specify a region.",
     "output_type": "error",
     "traceback": [
      "\u001b[0;31m---------------------------------------------------------------------------\u001b[0m",
      "\u001b[0;31mNoRegionError\u001b[0m                             Traceback (most recent call last)",
      "Input \u001b[0;32mIn [73]\u001b[0m, in \u001b[0;36m<cell line: 7>\u001b[0;34m()\u001b[0m\n\u001b[1;32m      4\u001b[0m psi \u001b[38;5;241m=\u001b[39m Circuit()\u001b[38;5;241m.\u001b[39mry(angle\u001b[38;5;241m=\u001b[39mtheta, target\u001b[38;5;241m=\u001b[39m\u001b[38;5;241m0\u001b[39m)\n\u001b[1;32m      6\u001b[0m \u001b[38;5;66;03m# set up device\u001b[39;00m\n\u001b[0;32m----> 7\u001b[0m ionq \u001b[38;5;241m=\u001b[39m \u001b[43mAwsDevice\u001b[49m\u001b[43m(\u001b[49m\u001b[38;5;124;43m\"\u001b[39;49m\u001b[38;5;124;43marn:aws:braket:::device/qpu/ionq/ionQdevice\u001b[39;49m\u001b[38;5;124;43m\"\u001b[39;49m\u001b[43m)\u001b[49m\n\u001b[1;32m      9\u001b[0m \u001b[38;5;66;03m# run circuit\u001b[39;00m\n\u001b[1;32m     10\u001b[0m ionq_task \u001b[38;5;241m=\u001b[39m ionq\u001b[38;5;241m.\u001b[39mrun(psi, shots\u001b[38;5;241m=\u001b[39m\u001b[38;5;241m100\u001b[39m)\n",
      "File \u001b[0;32m~/.local/lib/python3.10/site-packages/braket/aws/aws_device.py:81\u001b[0m, in \u001b[0;36mAwsDevice.__init__\u001b[0;34m(self, arn, aws_session)\u001b[0m\n\u001b[1;32m     79\u001b[0m \u001b[38;5;28mself\u001b[39m\u001b[38;5;241m.\u001b[39m_topology_graph \u001b[38;5;241m=\u001b[39m \u001b[38;5;28;01mNone\u001b[39;00m\n\u001b[1;32m     80\u001b[0m \u001b[38;5;28mself\u001b[39m\u001b[38;5;241m.\u001b[39m_type \u001b[38;5;241m=\u001b[39m \u001b[38;5;28;01mNone\u001b[39;00m\n\u001b[0;32m---> 81\u001b[0m \u001b[38;5;28mself\u001b[39m\u001b[38;5;241m.\u001b[39m_aws_session \u001b[38;5;241m=\u001b[39m \u001b[38;5;28mself\u001b[39m\u001b[38;5;241m.\u001b[39m_get_session_and_initialize(aws_session \u001b[38;5;129;01mor\u001b[39;00m \u001b[43mAwsSession\u001b[49m\u001b[43m(\u001b[49m\u001b[43m)\u001b[49m)\n",
      "File \u001b[0;32m~/.local/lib/python3.10/site-packages/braket/aws/aws_session.py:66\u001b[0m, in \u001b[0;36mAwsSession.__init__\u001b[0;34m(self, boto_session, braket_client, config, default_bucket)\u001b[0m\n\u001b[1;32m     62\u001b[0m \u001b[38;5;28;01melse\u001b[39;00m:\n\u001b[1;32m     63\u001b[0m     \u001b[38;5;28mself\u001b[39m\u001b[38;5;241m.\u001b[39mboto_session \u001b[38;5;241m=\u001b[39m boto_session \u001b[38;5;129;01mor\u001b[39;00m boto3\u001b[38;5;241m.\u001b[39mSession(\n\u001b[1;32m     64\u001b[0m         region_name\u001b[38;5;241m=\u001b[39mos\u001b[38;5;241m.\u001b[39menviron\u001b[38;5;241m.\u001b[39mget(\u001b[38;5;124m\"\u001b[39m\u001b[38;5;124mAWS_REGION\u001b[39m\u001b[38;5;124m\"\u001b[39m)\n\u001b[1;32m     65\u001b[0m     )\n\u001b[0;32m---> 66\u001b[0m     \u001b[38;5;28mself\u001b[39m\u001b[38;5;241m.\u001b[39mbraket_client \u001b[38;5;241m=\u001b[39m \u001b[38;5;28;43mself\u001b[39;49m\u001b[38;5;241;43m.\u001b[39;49m\u001b[43mboto_session\u001b[49m\u001b[38;5;241;43m.\u001b[39;49m\u001b[43mclient\u001b[49m\u001b[43m(\u001b[49m\n\u001b[1;32m     67\u001b[0m \u001b[43m        \u001b[49m\u001b[38;5;124;43m\"\u001b[39;49m\u001b[38;5;124;43mbraket\u001b[39;49m\u001b[38;5;124;43m\"\u001b[39;49m\u001b[43m,\u001b[49m\u001b[43m \u001b[49m\u001b[43mconfig\u001b[49m\u001b[38;5;241;43m=\u001b[39;49m\u001b[38;5;28;43mself\u001b[39;49m\u001b[38;5;241;43m.\u001b[39;49m\u001b[43m_config\u001b[49m\u001b[43m,\u001b[49m\u001b[43m \u001b[49m\u001b[43mendpoint_url\u001b[49m\u001b[38;5;241;43m=\u001b[39;49m\u001b[43mos\u001b[49m\u001b[38;5;241;43m.\u001b[39;49m\u001b[43menviron\u001b[49m\u001b[38;5;241;43m.\u001b[39;49m\u001b[43mget\u001b[49m\u001b[43m(\u001b[49m\u001b[38;5;124;43m\"\u001b[39;49m\u001b[38;5;124;43mBRAKET_ENDPOINT\u001b[39;49m\u001b[38;5;124;43m\"\u001b[39;49m\u001b[43m)\u001b[49m\n\u001b[1;32m     68\u001b[0m \u001b[43m    \u001b[49m\u001b[43m)\u001b[49m\n\u001b[1;32m     70\u001b[0m \u001b[38;5;28mself\u001b[39m\u001b[38;5;241m.\u001b[39m_update_user_agent()\n\u001b[1;32m     71\u001b[0m \u001b[38;5;28mself\u001b[39m\u001b[38;5;241m.\u001b[39m_custom_default_bucket \u001b[38;5;241m=\u001b[39m \u001b[38;5;28mbool\u001b[39m(default_bucket)\n",
      "File \u001b[0;32m~/.local/lib/python3.10/site-packages/boto3/session.py:299\u001b[0m, in \u001b[0;36mSession.client\u001b[0;34m(self, service_name, region_name, api_version, use_ssl, verify, endpoint_url, aws_access_key_id, aws_secret_access_key, aws_session_token, config)\u001b[0m\n\u001b[1;32m    217\u001b[0m \u001b[38;5;28;01mdef\u001b[39;00m \u001b[38;5;21mclient\u001b[39m(\n\u001b[1;32m    218\u001b[0m     \u001b[38;5;28mself\u001b[39m,\n\u001b[1;32m    219\u001b[0m     service_name,\n\u001b[0;32m   (...)\u001b[0m\n\u001b[1;32m    228\u001b[0m     config\u001b[38;5;241m=\u001b[39m\u001b[38;5;28;01mNone\u001b[39;00m,\n\u001b[1;32m    229\u001b[0m ):\n\u001b[1;32m    230\u001b[0m     \u001b[38;5;124;03m\"\"\"\u001b[39;00m\n\u001b[1;32m    231\u001b[0m \u001b[38;5;124;03m    Create a low-level service client by name.\u001b[39;00m\n\u001b[1;32m    232\u001b[0m \n\u001b[0;32m   (...)\u001b[0m\n\u001b[1;32m    297\u001b[0m \n\u001b[1;32m    298\u001b[0m \u001b[38;5;124;03m    \"\"\"\u001b[39;00m\n\u001b[0;32m--> 299\u001b[0m     \u001b[38;5;28;01mreturn\u001b[39;00m \u001b[38;5;28;43mself\u001b[39;49m\u001b[38;5;241;43m.\u001b[39;49m\u001b[43m_session\u001b[49m\u001b[38;5;241;43m.\u001b[39;49m\u001b[43mcreate_client\u001b[49m\u001b[43m(\u001b[49m\n\u001b[1;32m    300\u001b[0m \u001b[43m        \u001b[49m\u001b[43mservice_name\u001b[49m\u001b[43m,\u001b[49m\n\u001b[1;32m    301\u001b[0m \u001b[43m        \u001b[49m\u001b[43mregion_name\u001b[49m\u001b[38;5;241;43m=\u001b[39;49m\u001b[43mregion_name\u001b[49m\u001b[43m,\u001b[49m\n\u001b[1;32m    302\u001b[0m \u001b[43m        \u001b[49m\u001b[43mapi_version\u001b[49m\u001b[38;5;241;43m=\u001b[39;49m\u001b[43mapi_version\u001b[49m\u001b[43m,\u001b[49m\n\u001b[1;32m    303\u001b[0m \u001b[43m        \u001b[49m\u001b[43muse_ssl\u001b[49m\u001b[38;5;241;43m=\u001b[39;49m\u001b[43muse_ssl\u001b[49m\u001b[43m,\u001b[49m\n\u001b[1;32m    304\u001b[0m \u001b[43m        \u001b[49m\u001b[43mverify\u001b[49m\u001b[38;5;241;43m=\u001b[39;49m\u001b[43mverify\u001b[49m\u001b[43m,\u001b[49m\n\u001b[1;32m    305\u001b[0m \u001b[43m        \u001b[49m\u001b[43mendpoint_url\u001b[49m\u001b[38;5;241;43m=\u001b[39;49m\u001b[43mendpoint_url\u001b[49m\u001b[43m,\u001b[49m\n\u001b[1;32m    306\u001b[0m \u001b[43m        \u001b[49m\u001b[43maws_access_key_id\u001b[49m\u001b[38;5;241;43m=\u001b[39;49m\u001b[43maws_access_key_id\u001b[49m\u001b[43m,\u001b[49m\n\u001b[1;32m    307\u001b[0m \u001b[43m        \u001b[49m\u001b[43maws_secret_access_key\u001b[49m\u001b[38;5;241;43m=\u001b[39;49m\u001b[43maws_secret_access_key\u001b[49m\u001b[43m,\u001b[49m\n\u001b[1;32m    308\u001b[0m \u001b[43m        \u001b[49m\u001b[43maws_session_token\u001b[49m\u001b[38;5;241;43m=\u001b[39;49m\u001b[43maws_session_token\u001b[49m\u001b[43m,\u001b[49m\n\u001b[1;32m    309\u001b[0m \u001b[43m        \u001b[49m\u001b[43mconfig\u001b[49m\u001b[38;5;241;43m=\u001b[39;49m\u001b[43mconfig\u001b[49m\u001b[43m,\u001b[49m\n\u001b[1;32m    310\u001b[0m \u001b[43m    \u001b[49m\u001b[43m)\u001b[49m\n",
      "File \u001b[0;32m~/.local/lib/python3.10/site-packages/botocore/session.py:950\u001b[0m, in \u001b[0;36mSession.create_client\u001b[0;34m(self, service_name, region_name, api_version, use_ssl, verify, endpoint_url, aws_access_key_id, aws_secret_access_key, aws_session_token, config)\u001b[0m\n\u001b[1;32m    936\u001b[0m     smart_defaults_factory\u001b[38;5;241m.\u001b[39mmerge_smart_defaults(\n\u001b[1;32m    937\u001b[0m         config_store, defaults_mode, region_name\n\u001b[1;32m    938\u001b[0m     )\n\u001b[1;32m    939\u001b[0m client_creator \u001b[38;5;241m=\u001b[39m botocore\u001b[38;5;241m.\u001b[39mclient\u001b[38;5;241m.\u001b[39mClientCreator(\n\u001b[1;32m    940\u001b[0m     loader,\n\u001b[1;32m    941\u001b[0m     endpoint_resolver,\n\u001b[0;32m   (...)\u001b[0m\n\u001b[1;32m    948\u001b[0m     config_store,\n\u001b[1;32m    949\u001b[0m )\n\u001b[0;32m--> 950\u001b[0m client \u001b[38;5;241m=\u001b[39m \u001b[43mclient_creator\u001b[49m\u001b[38;5;241;43m.\u001b[39;49m\u001b[43mcreate_client\u001b[49m\u001b[43m(\u001b[49m\n\u001b[1;32m    951\u001b[0m \u001b[43m    \u001b[49m\u001b[43mservice_name\u001b[49m\u001b[38;5;241;43m=\u001b[39;49m\u001b[43mservice_name\u001b[49m\u001b[43m,\u001b[49m\n\u001b[1;32m    952\u001b[0m \u001b[43m    \u001b[49m\u001b[43mregion_name\u001b[49m\u001b[38;5;241;43m=\u001b[39;49m\u001b[43mregion_name\u001b[49m\u001b[43m,\u001b[49m\n\u001b[1;32m    953\u001b[0m \u001b[43m    \u001b[49m\u001b[43mis_secure\u001b[49m\u001b[38;5;241;43m=\u001b[39;49m\u001b[43muse_ssl\u001b[49m\u001b[43m,\u001b[49m\n\u001b[1;32m    954\u001b[0m \u001b[43m    \u001b[49m\u001b[43mendpoint_url\u001b[49m\u001b[38;5;241;43m=\u001b[39;49m\u001b[43mendpoint_url\u001b[49m\u001b[43m,\u001b[49m\n\u001b[1;32m    955\u001b[0m \u001b[43m    \u001b[49m\u001b[43mverify\u001b[49m\u001b[38;5;241;43m=\u001b[39;49m\u001b[43mverify\u001b[49m\u001b[43m,\u001b[49m\n\u001b[1;32m    956\u001b[0m \u001b[43m    \u001b[49m\u001b[43mcredentials\u001b[49m\u001b[38;5;241;43m=\u001b[39;49m\u001b[43mcredentials\u001b[49m\u001b[43m,\u001b[49m\n\u001b[1;32m    957\u001b[0m \u001b[43m    \u001b[49m\u001b[43mscoped_config\u001b[49m\u001b[38;5;241;43m=\u001b[39;49m\u001b[38;5;28;43mself\u001b[39;49m\u001b[38;5;241;43m.\u001b[39;49m\u001b[43mget_scoped_config\u001b[49m\u001b[43m(\u001b[49m\u001b[43m)\u001b[49m\u001b[43m,\u001b[49m\n\u001b[1;32m    958\u001b[0m \u001b[43m    \u001b[49m\u001b[43mclient_config\u001b[49m\u001b[38;5;241;43m=\u001b[39;49m\u001b[43mconfig\u001b[49m\u001b[43m,\u001b[49m\n\u001b[1;32m    959\u001b[0m \u001b[43m    \u001b[49m\u001b[43mapi_version\u001b[49m\u001b[38;5;241;43m=\u001b[39;49m\u001b[43mapi_version\u001b[49m\u001b[43m,\u001b[49m\n\u001b[1;32m    960\u001b[0m \u001b[43m\u001b[49m\u001b[43m)\u001b[49m\n\u001b[1;32m    961\u001b[0m monitor \u001b[38;5;241m=\u001b[39m \u001b[38;5;28mself\u001b[39m\u001b[38;5;241m.\u001b[39m_get_internal_component(\u001b[38;5;124m'\u001b[39m\u001b[38;5;124mmonitor\u001b[39m\u001b[38;5;124m'\u001b[39m)\n\u001b[1;32m    962\u001b[0m \u001b[38;5;28;01mif\u001b[39;00m monitor \u001b[38;5;129;01mis\u001b[39;00m \u001b[38;5;129;01mnot\u001b[39;00m \u001b[38;5;28;01mNone\u001b[39;00m:\n",
      "File \u001b[0;32m~/.local/lib/python3.10/site-packages/botocore/client.py:123\u001b[0m, in \u001b[0;36mClientCreator.create_client\u001b[0;34m(self, service_name, region_name, is_secure, endpoint_url, verify, credentials, scoped_config, api_version, client_config)\u001b[0m\n\u001b[1;32m    113\u001b[0m region_name, client_config \u001b[38;5;241m=\u001b[39m \u001b[38;5;28mself\u001b[39m\u001b[38;5;241m.\u001b[39m_normalize_fips_region(\n\u001b[1;32m    114\u001b[0m     region_name, client_config\n\u001b[1;32m    115\u001b[0m )\n\u001b[1;32m    116\u001b[0m endpoint_bridge \u001b[38;5;241m=\u001b[39m ClientEndpointBridge(\n\u001b[1;32m    117\u001b[0m     \u001b[38;5;28mself\u001b[39m\u001b[38;5;241m.\u001b[39m_endpoint_resolver,\n\u001b[1;32m    118\u001b[0m     scoped_config,\n\u001b[0;32m   (...)\u001b[0m\n\u001b[1;32m    121\u001b[0m     config_store\u001b[38;5;241m=\u001b[39m\u001b[38;5;28mself\u001b[39m\u001b[38;5;241m.\u001b[39m_config_store,\n\u001b[1;32m    122\u001b[0m )\n\u001b[0;32m--> 123\u001b[0m client_args \u001b[38;5;241m=\u001b[39m \u001b[38;5;28;43mself\u001b[39;49m\u001b[38;5;241;43m.\u001b[39;49m\u001b[43m_get_client_args\u001b[49m\u001b[43m(\u001b[49m\n\u001b[1;32m    124\u001b[0m \u001b[43m    \u001b[49m\u001b[43mservice_model\u001b[49m\u001b[43m,\u001b[49m\n\u001b[1;32m    125\u001b[0m \u001b[43m    \u001b[49m\u001b[43mregion_name\u001b[49m\u001b[43m,\u001b[49m\n\u001b[1;32m    126\u001b[0m \u001b[43m    \u001b[49m\u001b[43mis_secure\u001b[49m\u001b[43m,\u001b[49m\n\u001b[1;32m    127\u001b[0m \u001b[43m    \u001b[49m\u001b[43mendpoint_url\u001b[49m\u001b[43m,\u001b[49m\n\u001b[1;32m    128\u001b[0m \u001b[43m    \u001b[49m\u001b[43mverify\u001b[49m\u001b[43m,\u001b[49m\n\u001b[1;32m    129\u001b[0m \u001b[43m    \u001b[49m\u001b[43mcredentials\u001b[49m\u001b[43m,\u001b[49m\n\u001b[1;32m    130\u001b[0m \u001b[43m    \u001b[49m\u001b[43mscoped_config\u001b[49m\u001b[43m,\u001b[49m\n\u001b[1;32m    131\u001b[0m \u001b[43m    \u001b[49m\u001b[43mclient_config\u001b[49m\u001b[43m,\u001b[49m\n\u001b[1;32m    132\u001b[0m \u001b[43m    \u001b[49m\u001b[43mendpoint_bridge\u001b[49m\u001b[43m,\u001b[49m\n\u001b[1;32m    133\u001b[0m \u001b[43m\u001b[49m\u001b[43m)\u001b[49m\n\u001b[1;32m    134\u001b[0m service_client \u001b[38;5;241m=\u001b[39m \u001b[38;5;28mcls\u001b[39m(\u001b[38;5;241m*\u001b[39m\u001b[38;5;241m*\u001b[39mclient_args)\n\u001b[1;32m    135\u001b[0m \u001b[38;5;28mself\u001b[39m\u001b[38;5;241m.\u001b[39m_register_retries(service_client)\n",
      "File \u001b[0;32m~/.local/lib/python3.10/site-packages/botocore/client.py:466\u001b[0m, in \u001b[0;36mClientCreator._get_client_args\u001b[0;34m(self, service_model, region_name, is_secure, endpoint_url, verify, credentials, scoped_config, client_config, endpoint_bridge)\u001b[0m\n\u001b[1;32m    446\u001b[0m \u001b[38;5;28;01mdef\u001b[39;00m \u001b[38;5;21m_get_client_args\u001b[39m(\n\u001b[1;32m    447\u001b[0m     \u001b[38;5;28mself\u001b[39m,\n\u001b[1;32m    448\u001b[0m     service_model,\n\u001b[0;32m   (...)\u001b[0m\n\u001b[1;32m    456\u001b[0m     endpoint_bridge,\n\u001b[1;32m    457\u001b[0m ):\n\u001b[1;32m    458\u001b[0m     args_creator \u001b[38;5;241m=\u001b[39m ClientArgsCreator(\n\u001b[1;32m    459\u001b[0m         \u001b[38;5;28mself\u001b[39m\u001b[38;5;241m.\u001b[39m_event_emitter,\n\u001b[1;32m    460\u001b[0m         \u001b[38;5;28mself\u001b[39m\u001b[38;5;241m.\u001b[39m_user_agent,\n\u001b[0;32m   (...)\u001b[0m\n\u001b[1;32m    464\u001b[0m         config_store\u001b[38;5;241m=\u001b[39m\u001b[38;5;28mself\u001b[39m\u001b[38;5;241m.\u001b[39m_config_store,\n\u001b[1;32m    465\u001b[0m     )\n\u001b[0;32m--> 466\u001b[0m     \u001b[38;5;28;01mreturn\u001b[39;00m \u001b[43margs_creator\u001b[49m\u001b[38;5;241;43m.\u001b[39;49m\u001b[43mget_client_args\u001b[49m\u001b[43m(\u001b[49m\n\u001b[1;32m    467\u001b[0m \u001b[43m        \u001b[49m\u001b[43mservice_model\u001b[49m\u001b[43m,\u001b[49m\n\u001b[1;32m    468\u001b[0m \u001b[43m        \u001b[49m\u001b[43mregion_name\u001b[49m\u001b[43m,\u001b[49m\n\u001b[1;32m    469\u001b[0m \u001b[43m        \u001b[49m\u001b[43mis_secure\u001b[49m\u001b[43m,\u001b[49m\n\u001b[1;32m    470\u001b[0m \u001b[43m        \u001b[49m\u001b[43mendpoint_url\u001b[49m\u001b[43m,\u001b[49m\n\u001b[1;32m    471\u001b[0m \u001b[43m        \u001b[49m\u001b[43mverify\u001b[49m\u001b[43m,\u001b[49m\n\u001b[1;32m    472\u001b[0m \u001b[43m        \u001b[49m\u001b[43mcredentials\u001b[49m\u001b[43m,\u001b[49m\n\u001b[1;32m    473\u001b[0m \u001b[43m        \u001b[49m\u001b[43mscoped_config\u001b[49m\u001b[43m,\u001b[49m\n\u001b[1;32m    474\u001b[0m \u001b[43m        \u001b[49m\u001b[43mclient_config\u001b[49m\u001b[43m,\u001b[49m\n\u001b[1;32m    475\u001b[0m \u001b[43m        \u001b[49m\u001b[43mendpoint_bridge\u001b[49m\u001b[43m,\u001b[49m\n\u001b[1;32m    476\u001b[0m \u001b[43m    \u001b[49m\u001b[43m)\u001b[49m\n",
      "File \u001b[0;32m~/.local/lib/python3.10/site-packages/botocore/args.py:87\u001b[0m, in \u001b[0;36mClientArgsCreator.get_client_args\u001b[0;34m(self, service_model, region_name, is_secure, endpoint_url, verify, credentials, scoped_config, client_config, endpoint_bridge)\u001b[0m\n\u001b[1;32m     75\u001b[0m \u001b[38;5;28;01mdef\u001b[39;00m \u001b[38;5;21mget_client_args\u001b[39m(\n\u001b[1;32m     76\u001b[0m     \u001b[38;5;28mself\u001b[39m,\n\u001b[1;32m     77\u001b[0m     service_model,\n\u001b[0;32m   (...)\u001b[0m\n\u001b[1;32m     85\u001b[0m     endpoint_bridge,\n\u001b[1;32m     86\u001b[0m ):\n\u001b[0;32m---> 87\u001b[0m     final_args \u001b[38;5;241m=\u001b[39m \u001b[38;5;28;43mself\u001b[39;49m\u001b[38;5;241;43m.\u001b[39;49m\u001b[43mcompute_client_args\u001b[49m\u001b[43m(\u001b[49m\n\u001b[1;32m     88\u001b[0m \u001b[43m        \u001b[49m\u001b[43mservice_model\u001b[49m\u001b[43m,\u001b[49m\n\u001b[1;32m     89\u001b[0m \u001b[43m        \u001b[49m\u001b[43mclient_config\u001b[49m\u001b[43m,\u001b[49m\n\u001b[1;32m     90\u001b[0m \u001b[43m        \u001b[49m\u001b[43mendpoint_bridge\u001b[49m\u001b[43m,\u001b[49m\n\u001b[1;32m     91\u001b[0m \u001b[43m        \u001b[49m\u001b[43mregion_name\u001b[49m\u001b[43m,\u001b[49m\n\u001b[1;32m     92\u001b[0m \u001b[43m        \u001b[49m\u001b[43mendpoint_url\u001b[49m\u001b[43m,\u001b[49m\n\u001b[1;32m     93\u001b[0m \u001b[43m        \u001b[49m\u001b[43mis_secure\u001b[49m\u001b[43m,\u001b[49m\n\u001b[1;32m     94\u001b[0m \u001b[43m        \u001b[49m\u001b[43mscoped_config\u001b[49m\u001b[43m,\u001b[49m\n\u001b[1;32m     95\u001b[0m \u001b[43m    \u001b[49m\u001b[43m)\u001b[49m\n\u001b[1;32m     97\u001b[0m     service_name \u001b[38;5;241m=\u001b[39m final_args[\u001b[38;5;124m'\u001b[39m\u001b[38;5;124mservice_name\u001b[39m\u001b[38;5;124m'\u001b[39m]  \u001b[38;5;66;03m# noqa\u001b[39;00m\n\u001b[1;32m     98\u001b[0m     parameter_validation \u001b[38;5;241m=\u001b[39m final_args[\u001b[38;5;124m'\u001b[39m\u001b[38;5;124mparameter_validation\u001b[39m\u001b[38;5;124m'\u001b[39m]\n",
      "File \u001b[0;32m~/.local/lib/python3.10/site-packages/botocore/args.py:183\u001b[0m, in \u001b[0;36mClientArgsCreator.compute_client_args\u001b[0;34m(self, service_model, client_config, endpoint_bridge, region_name, endpoint_url, is_secure, scoped_config)\u001b[0m\n\u001b[1;32m    180\u001b[0m         user_agent \u001b[38;5;241m+\u001b[39m\u001b[38;5;241m=\u001b[39m \u001b[38;5;124m'\u001b[39m\u001b[38;5;124m \u001b[39m\u001b[38;5;132;01m%s\u001b[39;00m\u001b[38;5;124m'\u001b[39m \u001b[38;5;241m%\u001b[39m client_config\u001b[38;5;241m.\u001b[39muser_agent_extra\n\u001b[1;32m    182\u001b[0m s3_config \u001b[38;5;241m=\u001b[39m \u001b[38;5;28mself\u001b[39m\u001b[38;5;241m.\u001b[39mcompute_s3_config(client_config)\n\u001b[0;32m--> 183\u001b[0m endpoint_config \u001b[38;5;241m=\u001b[39m \u001b[38;5;28;43mself\u001b[39;49m\u001b[38;5;241;43m.\u001b[39;49m\u001b[43m_compute_endpoint_config\u001b[49m\u001b[43m(\u001b[49m\n\u001b[1;32m    184\u001b[0m \u001b[43m    \u001b[49m\u001b[43mservice_name\u001b[49m\u001b[38;5;241;43m=\u001b[39;49m\u001b[43mservice_name\u001b[49m\u001b[43m,\u001b[49m\n\u001b[1;32m    185\u001b[0m \u001b[43m    \u001b[49m\u001b[43mregion_name\u001b[49m\u001b[38;5;241;43m=\u001b[39;49m\u001b[43mregion_name\u001b[49m\u001b[43m,\u001b[49m\n\u001b[1;32m    186\u001b[0m \u001b[43m    \u001b[49m\u001b[43mendpoint_url\u001b[49m\u001b[38;5;241;43m=\u001b[39;49m\u001b[43mendpoint_url\u001b[49m\u001b[43m,\u001b[49m\n\u001b[1;32m    187\u001b[0m \u001b[43m    \u001b[49m\u001b[43mis_secure\u001b[49m\u001b[38;5;241;43m=\u001b[39;49m\u001b[43mis_secure\u001b[49m\u001b[43m,\u001b[49m\n\u001b[1;32m    188\u001b[0m \u001b[43m    \u001b[49m\u001b[43mendpoint_bridge\u001b[49m\u001b[38;5;241;43m=\u001b[39;49m\u001b[43mendpoint_bridge\u001b[49m\u001b[43m,\u001b[49m\n\u001b[1;32m    189\u001b[0m \u001b[43m    \u001b[49m\u001b[43ms3_config\u001b[49m\u001b[38;5;241;43m=\u001b[39;49m\u001b[43ms3_config\u001b[49m\u001b[43m,\u001b[49m\n\u001b[1;32m    190\u001b[0m \u001b[43m\u001b[49m\u001b[43m)\u001b[49m\n\u001b[1;32m    191\u001b[0m endpoint_variant_tags \u001b[38;5;241m=\u001b[39m endpoint_config[\u001b[38;5;124m'\u001b[39m\u001b[38;5;124mmetadata\u001b[39m\u001b[38;5;124m'\u001b[39m]\u001b[38;5;241m.\u001b[39mget(\u001b[38;5;124m'\u001b[39m\u001b[38;5;124mtags\u001b[39m\u001b[38;5;124m'\u001b[39m, [])\n\u001b[1;32m    192\u001b[0m \u001b[38;5;66;03m# Create a new client config to be passed to the client based\u001b[39;00m\n\u001b[1;32m    193\u001b[0m \u001b[38;5;66;03m# on the final values. We do not want the user to be able\u001b[39;00m\n\u001b[1;32m    194\u001b[0m \u001b[38;5;66;03m# to try to modify an existing client with a client config.\u001b[39;00m\n",
      "File \u001b[0;32m~/.local/lib/python3.10/site-packages/botocore/args.py:278\u001b[0m, in \u001b[0;36mClientArgsCreator._compute_endpoint_config\u001b[0;34m(self, service_name, region_name, endpoint_url, is_secure, endpoint_bridge, s3_config)\u001b[0m\n\u001b[1;32m    276\u001b[0m \u001b[38;5;28;01mif\u001b[39;00m service_name \u001b[38;5;241m==\u001b[39m \u001b[38;5;124m'\u001b[39m\u001b[38;5;124msts\u001b[39m\u001b[38;5;124m'\u001b[39m:\n\u001b[1;32m    277\u001b[0m     \u001b[38;5;28;01mreturn\u001b[39;00m \u001b[38;5;28mself\u001b[39m\u001b[38;5;241m.\u001b[39m_compute_sts_endpoint_config(\u001b[38;5;241m*\u001b[39m\u001b[38;5;241m*\u001b[39mresolve_endpoint_kwargs)\n\u001b[0;32m--> 278\u001b[0m \u001b[38;5;28;01mreturn\u001b[39;00m \u001b[38;5;28;43mself\u001b[39;49m\u001b[38;5;241;43m.\u001b[39;49m\u001b[43m_resolve_endpoint\u001b[49m\u001b[43m(\u001b[49m\u001b[38;5;241;43m*\u001b[39;49m\u001b[38;5;241;43m*\u001b[39;49m\u001b[43mresolve_endpoint_kwargs\u001b[49m\u001b[43m)\u001b[49m\n",
      "File \u001b[0;32m~/.local/lib/python3.10/site-packages/botocore/args.py:381\u001b[0m, in \u001b[0;36mClientArgsCreator._resolve_endpoint\u001b[0;34m(self, service_name, region_name, endpoint_url, is_secure, endpoint_bridge)\u001b[0m\n\u001b[1;32m    373\u001b[0m \u001b[38;5;28;01mdef\u001b[39;00m \u001b[38;5;21m_resolve_endpoint\u001b[39m(\n\u001b[1;32m    374\u001b[0m     \u001b[38;5;28mself\u001b[39m,\n\u001b[1;32m    375\u001b[0m     service_name,\n\u001b[0;32m   (...)\u001b[0m\n\u001b[1;32m    379\u001b[0m     endpoint_bridge,\n\u001b[1;32m    380\u001b[0m ):\n\u001b[0;32m--> 381\u001b[0m     \u001b[38;5;28;01mreturn\u001b[39;00m \u001b[43mendpoint_bridge\u001b[49m\u001b[38;5;241;43m.\u001b[39;49m\u001b[43mresolve\u001b[49m\u001b[43m(\u001b[49m\n\u001b[1;32m    382\u001b[0m \u001b[43m        \u001b[49m\u001b[43mservice_name\u001b[49m\u001b[43m,\u001b[49m\u001b[43m \u001b[49m\u001b[43mregion_name\u001b[49m\u001b[43m,\u001b[49m\u001b[43m \u001b[49m\u001b[43mendpoint_url\u001b[49m\u001b[43m,\u001b[49m\u001b[43m \u001b[49m\u001b[43mis_secure\u001b[49m\n\u001b[1;32m    383\u001b[0m \u001b[43m    \u001b[49m\u001b[43m)\u001b[49m\n",
      "File \u001b[0;32m~/.local/lib/python3.10/site-packages/botocore/client.py:566\u001b[0m, in \u001b[0;36mClientEndpointBridge.resolve\u001b[0;34m(self, service_name, region_name, endpoint_url, is_secure)\u001b[0m\n\u001b[1;32m    560\u001b[0m use_dualstack_endpoint \u001b[38;5;241m=\u001b[39m \u001b[38;5;28mself\u001b[39m\u001b[38;5;241m.\u001b[39m_resolve_use_dualstack_endpoint(\n\u001b[1;32m    561\u001b[0m     service_name\n\u001b[1;32m    562\u001b[0m )\n\u001b[1;32m    563\u001b[0m use_fips_endpoint \u001b[38;5;241m=\u001b[39m \u001b[38;5;28mself\u001b[39m\u001b[38;5;241m.\u001b[39m_resolve_endpoint_variant_config_var(\n\u001b[1;32m    564\u001b[0m     \u001b[38;5;124m'\u001b[39m\u001b[38;5;124muse_fips_endpoint\u001b[39m\u001b[38;5;124m'\u001b[39m\n\u001b[1;32m    565\u001b[0m )\n\u001b[0;32m--> 566\u001b[0m resolved \u001b[38;5;241m=\u001b[39m \u001b[38;5;28;43mself\u001b[39;49m\u001b[38;5;241;43m.\u001b[39;49m\u001b[43mendpoint_resolver\u001b[49m\u001b[38;5;241;43m.\u001b[39;49m\u001b[43mconstruct_endpoint\u001b[49m\u001b[43m(\u001b[49m\n\u001b[1;32m    567\u001b[0m \u001b[43m    \u001b[49m\u001b[43mservice_name\u001b[49m\u001b[43m,\u001b[49m\n\u001b[1;32m    568\u001b[0m \u001b[43m    \u001b[49m\u001b[43mregion_name\u001b[49m\u001b[43m,\u001b[49m\n\u001b[1;32m    569\u001b[0m \u001b[43m    \u001b[49m\u001b[43muse_dualstack_endpoint\u001b[49m\u001b[38;5;241;43m=\u001b[39;49m\u001b[43muse_dualstack_endpoint\u001b[49m\u001b[43m,\u001b[49m\n\u001b[1;32m    570\u001b[0m \u001b[43m    \u001b[49m\u001b[43muse_fips_endpoint\u001b[49m\u001b[38;5;241;43m=\u001b[39;49m\u001b[43muse_fips_endpoint\u001b[49m\u001b[43m,\u001b[49m\n\u001b[1;32m    571\u001b[0m \u001b[43m\u001b[49m\u001b[43m)\u001b[49m\n\u001b[1;32m    573\u001b[0m \u001b[38;5;66;03m# If we can't resolve the region, we'll attempt to get a global\u001b[39;00m\n\u001b[1;32m    574\u001b[0m \u001b[38;5;66;03m# endpoint for non-regionalized services (iam, route53, etc)\u001b[39;00m\n\u001b[1;32m    575\u001b[0m \u001b[38;5;28;01mif\u001b[39;00m \u001b[38;5;129;01mnot\u001b[39;00m resolved:\n\u001b[1;32m    576\u001b[0m     \u001b[38;5;66;03m# TODO: fallback partition_name should be configurable in the\u001b[39;00m\n\u001b[1;32m    577\u001b[0m     \u001b[38;5;66;03m# future for users to define as needed.\u001b[39;00m\n",
      "File \u001b[0;32m~/.local/lib/python3.10/site-packages/botocore/regions.py:205\u001b[0m, in \u001b[0;36mEndpointResolver.construct_endpoint\u001b[0;34m(self, service_name, region_name, partition_name, use_dualstack_endpoint, use_fips_endpoint)\u001b[0m\n\u001b[1;32m    200\u001b[0m \u001b[38;5;28;01mif\u001b[39;00m use_dualstack_endpoint \u001b[38;5;129;01mand\u001b[39;00m (\n\u001b[1;32m    201\u001b[0m     partition[\u001b[38;5;124m'\u001b[39m\u001b[38;5;124mpartition\u001b[39m\u001b[38;5;124m'\u001b[39m]\n\u001b[1;32m    202\u001b[0m     \u001b[38;5;129;01min\u001b[39;00m \u001b[38;5;28mself\u001b[39m\u001b[38;5;241m.\u001b[39m_UNSUPPORTED_DUALSTACK_PARTITIONS\n\u001b[1;32m    203\u001b[0m ):\n\u001b[1;32m    204\u001b[0m     \u001b[38;5;28;01mcontinue\u001b[39;00m\n\u001b[0;32m--> 205\u001b[0m result \u001b[38;5;241m=\u001b[39m \u001b[38;5;28;43mself\u001b[39;49m\u001b[38;5;241;43m.\u001b[39;49m\u001b[43m_endpoint_for_partition\u001b[49m\u001b[43m(\u001b[49m\n\u001b[1;32m    206\u001b[0m \u001b[43m    \u001b[49m\u001b[43mpartition\u001b[49m\u001b[43m,\u001b[49m\n\u001b[1;32m    207\u001b[0m \u001b[43m    \u001b[49m\u001b[43mservice_name\u001b[49m\u001b[43m,\u001b[49m\n\u001b[1;32m    208\u001b[0m \u001b[43m    \u001b[49m\u001b[43mregion_name\u001b[49m\u001b[43m,\u001b[49m\n\u001b[1;32m    209\u001b[0m \u001b[43m    \u001b[49m\u001b[43muse_dualstack_endpoint\u001b[49m\u001b[43m,\u001b[49m\n\u001b[1;32m    210\u001b[0m \u001b[43m    \u001b[49m\u001b[43muse_fips_endpoint\u001b[49m\u001b[43m,\u001b[49m\n\u001b[1;32m    211\u001b[0m \u001b[43m\u001b[49m\u001b[43m)\u001b[49m\n\u001b[1;32m    212\u001b[0m \u001b[38;5;28;01mif\u001b[39;00m result:\n\u001b[1;32m    213\u001b[0m     \u001b[38;5;28;01mreturn\u001b[39;00m result\n",
      "File \u001b[0;32m~/.local/lib/python3.10/site-packages/botocore/regions.py:253\u001b[0m, in \u001b[0;36mEndpointResolver._endpoint_for_partition\u001b[0;34m(self, partition, service_name, region_name, use_dualstack_endpoint, use_fips_endpoint, force_partition)\u001b[0m\n\u001b[1;32m    251\u001b[0m         region_name \u001b[38;5;241m=\u001b[39m service_data[\u001b[38;5;124m'\u001b[39m\u001b[38;5;124mpartitionEndpoint\u001b[39m\u001b[38;5;124m'\u001b[39m]\n\u001b[1;32m    252\u001b[0m     \u001b[38;5;28;01melse\u001b[39;00m:\n\u001b[0;32m--> 253\u001b[0m         \u001b[38;5;28;01mraise\u001b[39;00m NoRegionError()\n\u001b[1;32m    255\u001b[0m resolve_kwargs \u001b[38;5;241m=\u001b[39m {\n\u001b[1;32m    256\u001b[0m     \u001b[38;5;124m'\u001b[39m\u001b[38;5;124mpartition\u001b[39m\u001b[38;5;124m'\u001b[39m: partition,\n\u001b[1;32m    257\u001b[0m     \u001b[38;5;124m'\u001b[39m\u001b[38;5;124mservice_name\u001b[39m\u001b[38;5;124m'\u001b[39m: service_name,\n\u001b[0;32m   (...)\u001b[0m\n\u001b[1;32m    261\u001b[0m     \u001b[38;5;124m'\u001b[39m\u001b[38;5;124muse_fips_endpoint\u001b[39m\u001b[38;5;124m'\u001b[39m: use_fips_endpoint,\n\u001b[1;32m    262\u001b[0m }\n\u001b[1;32m    264\u001b[0m \u001b[38;5;66;03m# Attempt to resolve the exact region for this partition.\u001b[39;00m\n",
      "\u001b[0;31mNoRegionError\u001b[0m: You must specify a region."
     ]
    }
   ],
   "source": [
    "# Prepare a pi/2 y-direction rotated qubit\n",
    "theta = pi/2\n",
    "\n",
    "psi = Circuit().ry(angle=theta, target=0)\n",
    "\n",
    "# set up device\n",
    "ionq = AwsDevice(\"arn:aws:braket:::device/qpu/ionq/ionQdevice\")\n",
    "\n",
    "# run circuit\n",
    "ionq_task = ionq.run(psi, shots=100)\n",
    "\n",
    "# get id and status of submitted task\n",
    "ionq_task_id = ionq_task.id\n",
    "ionq_status = ionq_task.state()\n",
    "# print('ID of task:', ionq_task_id)\n",
    "print('Status of task:', ionq_status)"
   ]
  },
  {
   "cell_type": "code",
   "execution_count": null,
   "id": "c0d95776-5b8b-4799-a7c4-0dc59e29646b",
   "metadata": {},
   "outputs": [],
   "source": [
    "task_load = AwsQuantumTask(arn=ionq_task_id)\n",
    "\n",
    "# print status\n",
    "status = task_load.state()\n",
    "print('Status of (reconstructed) task:', status)\n",
    "\n",
    "# wait for job to complete\n",
    "# terminal_states = ['COMPLETED', 'FAILED', 'CANCELLED']\n",
    "if status == 'COMPLETED':\n",
    "    # get results\n",
    "    results = task_load.result()\n",
    "    # print(rigetti_results)\n",
    "    \n",
    "    # get all metadata of submitted task\n",
    "    metadata = task_load.metadata()\n",
    "    # example for metadata\n",
    "    shots = metadata['shots']\n",
    "    machine = metadata['deviceArn']\n",
    "    # print example metadata\n",
    "    print(\"{} shots taken on machine {}.\".format(shots, machine))\n",
    "    \n",
    "    # get measurement counts\n",
    "    ionqcounts = results.measurement_counts\n",
    "    print('Measurement counts:', ionqcounts)\n",
    "\n",
    "    # plot results: see effects of noise\n",
    "    plt.bar(counts.keys(), ionqcounts.values())\n",
    "    plt.xlabel('states')\n",
    "    plt.ylabel('counts')\n",
    "    plt.tight_layout()\n",
    "    \n",
    "elif status in ['FAILED', 'CANCELLED']:\n",
    "    # print terminal message \n",
    "    print('Your task is in terminal status, but has not completed.')\n",
    "\n",
    "else:\n",
    "    # print current status\n",
    "    print('Sorry, your task is still being processed and has not been finalized yet.')"
   ]
  },
  {
   "cell_type": "code",
   "execution_count": null,
   "id": "a9558a3f-ab18-4bee-be98-1353adfb87e0",
   "metadata": {},
   "outputs": [],
   "source": [
    "# Let's block out the up state and only feed the downs into the next measurement\n",
    "num_ones = ionqcounts['1']\n",
    "\n",
    "# Set up the qubit so that it is in the down state by applying a pi y-direction rotation\n",
    "theta = pi\n",
    "psi = Circuit().ry(angle=theta, target=0)\n",
    "\n",
    "# set up device\n",
    "ionq = AwsDevice(\"arn:aws:braket:::device/qpu/ionq/ionQdevice\")\n",
    "\n",
    "# run circuit\n",
    "ionq_task = ionq.run(psi, shots=num_ones)\n",
    "\n",
    "# get id and status of submitted task\n",
    "ionq_task_id = ionq_task.id\n",
    "ionq_status = ionq_task.state()\n",
    "# print('ID of task:', ionq_task_id)\n",
    "print('Status of task:', ionq_status)"
   ]
  },
  {
   "cell_type": "code",
   "execution_count": null,
   "id": "e9712cda-9cfb-4fdd-9425-2c21558fa9bf",
   "metadata": {},
   "outputs": [],
   "source": [
    "task_load = AwsQuantumTask(arn=ionq_task_id)\n",
    "\n",
    "# print status\n",
    "status = task_load.state()\n",
    "print('Status of (reconstructed) task:', status)\n",
    "\n",
    "# wait for job to complete\n",
    "# terminal_states = ['COMPLETED', 'FAILED', 'CANCELLED']\n",
    "if status == 'COMPLETED':\n",
    "    # get results\n",
    "    results = task_load.result()\n",
    "    # print(rigetti_results)\n",
    "    \n",
    "    # get all metadata of submitted task\n",
    "    metadata = task_load.metadata()\n",
    "    # example for metadata\n",
    "    shots = metadata['shots']\n",
    "    machine = metadata['deviceArn']\n",
    "    # print example metadata\n",
    "    print(\"{} shots taken on machine {}.\".format(shots, machine))\n",
    "    \n",
    "    # get measurement counts\n",
    "    ionqcounts = results.measurement_counts\n",
    "    print('Measurement counts:', ionqcounts)\n",
    "\n",
    "    # plot results: see effects of noise\n",
    "    plt.bar(counts.keys(), ionqcounts.values())\n",
    "    plt.xlabel('states')\n",
    "    plt.ylabel('counts')\n",
    "    plt.tight_layout()\n",
    "    \n",
    "elif status in ['FAILED', 'CANCELLED']:\n",
    "    # print terminal message \n",
    "    print('Your task is in terminal status, but has not completed.')\n",
    "\n",
    "else:\n",
    "    # print current status\n",
    "    print('Sorry, your task is still being processed and has not been finalized yet.')"
   ]
  },
  {
   "cell_type": "markdown",
   "id": "caccc7e2-f8b9-46be-86e4-991fdeb66f02",
   "metadata": {},
   "source": [
    "**Optional Question: If you were able to run the first Stern-Gerlach experiment on the quantum computer did you notice any difference in your results as compared to the simulated results?**"
   ]
  },
  {
   "cell_type": "markdown",
   "id": "e3b23815-b41c-4985-a9f6-1d378189dc0e",
   "metadata": {},
   "source": [
    "We will now implement the second Stern-Gerlach experiment displayed below in figure 5.\n",
    "<figure>\n",
    "    <img src=\"imgs/experiment_b.png\" width=600 height=600 />\n",
    "    <figcaption>Figure 4: Second Stern-Gerlach Experiment. [4]</figcaption>\n",
    "</figure>\n",
    "This experiment starts the same way as the previous one but instead of remeasuring the up state using the z-direction magnetic field, we put it through an x-direction magnetic field. The results of Stern and Gerlach showed that sending in either up or down spins, as seen by z-direction magnetic field, into the x-direction magnetic field causes a 50/50 split between up and down as measured out of the x-direction magnetic field. Let's show how we can implement this experiment using qubits."
   ]
  },
  {
   "cell_type": "code",
   "execution_count": 68,
   "id": "f998122f-69d8-45be-b9b9-da4720ccda41",
   "metadata": {},
   "outputs": [
    {
     "name": "stdout",
     "output_type": "stream",
     "text": [
      "Counter({'1': 516, '0': 484})\n"
     ]
    },
    {
     "data": {
      "image/png": "[encoded data removed]",
      "text/plain": [
       "<Figure size 432x288 with 1 Axes>"
      ]
     },
     "metadata": {
      "needs_background": "light"
     },
     "output_type": "display_data"
    }
   ],
   "source": [
    "# Prepare a pi/2 y-direction rotated qubit\n",
    "theta = pi/2\n",
    "\n",
    "psi = Circuit().ry(angle=theta, target=0)\n",
    "\n",
    "# set up device\n",
    "device = LocalSimulator()\n",
    "\n",
    "# run circuit\n",
    "result = device.run(psi, shots=1000).result()\n",
    "\n",
    "# get result of shots\n",
    "counts = result.measurement_counts\n",
    "\n",
    "# print result\n",
    "print(counts)\n",
    "\n",
    "# plot using Counter\n",
    "plt.bar(counts.keys(), counts.values());\n",
    "plt.xlabel('states');\n",
    "plt.ylabel('counts');"
   ]
  },
  {
   "cell_type": "code",
   "execution_count": 69,
   "id": "081b6ad5-2cfd-4679-ac5d-404b47f85e22",
   "metadata": {},
   "outputs": [
    {
     "name": "stdout",
     "output_type": "stream",
     "text": [
      "Counter({'0': 247, '1': 237})\n"
     ]
    },
    {
     "data": {
      "image/png": "[encoded data removed]",
      "text/plain": [
       "<Figure size 432x288 with 1 Axes>"
      ]
     },
     "metadata": {
      "needs_background": "light"
     },
     "output_type": "display_data"
    }
   ],
   "source": [
    "# Let's block out the up state and only feed the downs into the next measurement\n",
    "num_zeros = counts['0']\n",
    "\n",
    "# Set up the qubit so that it is in the up state then rotate the qubit by pi/2 in the y-direction since the x-direction is rotated by pi/2 relative to the z-direction.\n",
    "theta = pi/2\n",
    "psi = Circuit().ry(angle=theta, target=0)\n",
    "\n",
    "# set up device\n",
    "device = LocalSimulator()\n",
    "\n",
    "# run circuit\n",
    "result = device.run(psi, shots=num_zeros).result()\n",
    "\n",
    "# get result of shots\n",
    "counts = result.measurement_counts\n",
    "\n",
    "print(counts)\n",
    "\n",
    "# plot using Counter\n",
    "plt.bar(counts.keys(), counts.values());\n",
    "plt.xlabel('bitstrings');\n",
    "plt.ylabel('counts');"
   ]
  },
  {
   "cell_type": "markdown",
   "id": "364ab62c-e2d9-42e1-bbbb-4a4b65396ba8",
   "metadata": {},
   "source": [
    "We see that measuring the qubit after it goes through the equivalent of an x-direction magnetic field gives half up and half down even after measuring the z-direction to be entirely in the up state. From this, we might conclude that the qubit can have spin up in the z-direction while simultaneously having spin either up or down in the x-direction. The third experiment, displayed in figure 5 tests this hypothesis.\n",
    "<figure>\n",
    "    <img src=\"imgs/experiment_c.png\" width=600 height=700 />\n",
    "    <figcaption>Figure 4: Third Stern-Gerlach Experiment. [4]</figcaption>\n",
    "</figure>"
   ]
  },
  {
   "cell_type": "markdown",
   "id": "e4f1d315",
   "metadata": {},
   "source": [
    "In this experiment, we send a qubit through three magnetic fields. The first in the z-direction, the second in the x-direction, and the third in the z-direction. After going through the first z-direction magnetic field, we take only the spin up states to send into the x-direction magnetic field. We then take the spin up states from the x-direction magnetic field to send into the third z-direction magnetic field. From the previous experiment, we may have thought that the qubit was now in a state of both up in the x-direction and up in the z-direction. Therefore, measuring the z-direction again would obviously yield another up spin state. This turns out to not be the case and teaches us another important lesson about quantum mechanics. The lesson it teaches us is that there are properties of a quantum system that cannot be measured simultaneously. In this experiment, it turns out that the x-direction measurement destroys the information about the first z-direction measurement. This is a feature of something called the uncertainty principle. When the spin exits the x-direction magnetic field, it has no memory of what it's z-direction spin state was and thus when it goes through another z-direction magnetic field we get a 50/50 probability of the spin state being up or down. Let's show how we can implement this using qubits so you can see the results for yourself."
   ]
  },
  {
   "cell_type": "code",
   "execution_count": 70,
   "id": "85dbc86a-4003-4518-b3b8-203a832c9fc7",
   "metadata": {},
   "outputs": [
    {
     "name": "stdout",
     "output_type": "stream",
     "text": [
      "Counter({'1': 514, '0': 486})\n"
     ]
    },
    {
     "data": {
      "image/png": "[encoded data removed]",
      "text/plain": [
       "<Figure size 432x288 with 1 Axes>"
      ]
     },
     "metadata": {
      "needs_background": "light"
     },
     "output_type": "display_data"
    }
   ],
   "source": [
    "# Prepare a pi/2 y-direction rotated qubit\n",
    "theta = pi/2\n",
    "\n",
    "psi = Circuit().ry(angle=theta, target=0)\n",
    "\n",
    "# set up device\n",
    "device = LocalSimulator()\n",
    "\n",
    "# run circuit\n",
    "result = device.run(psi, shots=1000).result()\n",
    "\n",
    "# get result of shots\n",
    "counts = result.measurement_counts\n",
    "\n",
    "# print result\n",
    "print(counts)\n",
    "\n",
    "# plot using Counter\n",
    "plt.bar(counts.keys(), counts.values());\n",
    "plt.xlabel('states');\n",
    "plt.ylabel('counts');"
   ]
  },
  {
   "cell_type": "code",
   "execution_count": 71,
   "id": "c50abd2b-08d9-4365-8548-7de6a172d686",
   "metadata": {
    "tags": []
   },
   "outputs": [
    {
     "name": "stdout",
     "output_type": "stream",
     "text": [
      "Counter({'1': 243, '0': 243})\n"
     ]
    },
    {
     "data": {
      "image/png": "[encoded data removed]",
      "text/plain": [
       "<Figure size 432x288 with 1 Axes>"
      ]
     },
     "metadata": {
      "needs_background": "light"
     },
     "output_type": "display_data"
    }
   ],
   "source": [
    "# Let's block out the z-direction state and only feed the downs into the next measurement\n",
    "num_zeros = counts['0']\n",
    "\n",
    "# Set up the qubit so that it is in the up state then rotate the qubit by pi/2 in the y-direction since the x-direction is rotated by pi/2 relative to the z-direction.\n",
    "theta = pi/2\n",
    "psi = Circuit().ry(angle=theta, target=0)\n",
    "\n",
    "# set up device\n",
    "device = LocalSimulator()\n",
    "\n",
    "# run circuit\n",
    "result = device.run(psi, shots=num_zeros).result()\n",
    "\n",
    "# get result of shots\n",
    "counts = result.measurement_counts\n",
    "\n",
    "print(counts)\n",
    "\n",
    "# plot using Counter\n",
    "plt.bar(counts.keys(), counts.values());\n",
    "plt.xlabel('states');\n",
    "plt.ylabel('counts');"
   ]
  },
  {
   "cell_type": "code",
   "execution_count": 72,
   "id": "2aab247a-4334-492a-8714-47c26d23a0f2",
   "metadata": {},
   "outputs": [
    {
     "name": "stdout",
     "output_type": "stream",
     "text": [
      "Counter({'0': 124, '1': 119})\n"
     ]
    },
    {
     "data": {
      "image/png": "[encoded data removed]",
      "text/plain": [
       "<Figure size 432x288 with 1 Axes>"
      ]
     },
     "metadata": {
      "needs_background": "light"
     },
     "output_type": "display_data"
    }
   ],
   "source": [
    "# Let's block out the x-direction up state and only feed the downs into the next measurement\n",
    "num_zeros = counts['0']\n",
    "\n",
    "# Set up the qubit so that it is in the x-direction up state and then rotate by -pi/2 to simulate a z-direction magnetic field\n",
    "theta = -pi/2\n",
    "psi = Circuit().ry(angle=theta, target=0)\n",
    "\n",
    "# set up device\n",
    "device = LocalSimulator()\n",
    "\n",
    "# run circuit\n",
    "result = device.run(psi, shots=num_zeros).result()\n",
    "\n",
    "# get result of shots\n",
    "counts = result.measurement_counts\n",
    "\n",
    "print(counts)\n",
    "\n",
    "# plot using Counter\n",
    "plt.bar(counts.keys(), counts.values());\n",
    "plt.xlabel('states');\n",
    "plt.ylabel('counts');"
   ]
  },
  {
   "cell_type": "markdown",
   "id": "4d7a4a42-7cde-4b84-9cd1-4056f91f886b",
   "metadata": {},
   "source": [
    "Indeed, we see that the z-direction measurement of the output from the x-direction magnetic field yields roughly 50/50 chance of either up or down."
   ]
  },
  {
   "cell_type": "markdown",
   "id": "bcc98ea1-565e-4790-83af-1adb16fa708d",
   "metadata": {},
   "source": [
    "**Question 9: If we were to block the down spin output from the last z-direction magnetic field and feed that into another x-direction magnetic field, what do you expect the output would be? Why?**"
   ]
  },
  {
   "cell_type": "markdown",
   "id": "beeca01a",
   "metadata": {},
   "source": [
    "# References\n",
    "##### [1] - http://hyperphysics.phy-astr.gsu.edu/hbase/magnetic/magmom.html\n",
    "##### [2] - By Tatoute - Own work, CC BY-SA 4.0, https://commons.wikimedia.org/w/index.php?curid=34095239\n",
    "##### [3] - \"Fundamentals of Physics Volume II\" by Halliday, Resnick, and Walker 2018. pg 956, Figure 32-12\n",
    "##### [4] - \"A Modern Approach to Quantum Mechanics\" by John S. Townsend"
   ]
  }
 ],
 "metadata": {
  "kernelspec": {
   "display_name": "Python 3 (ipykernel)",
   "language": "python",
   "name": "python3"
  },
  "language_info": {
   "codemirror_mode": {
    "name": "ipython",
    "version": 3
   },
   "file_extension": ".py",
   "mimetype": "text/x-python",
   "name": "python",
   "nbconvert_exporter": "python",
   "pygments_lexer": "ipython3",
   "version": "3.10.4"
  }
 },
 "nbformat": 4,
 "nbformat_minor": 5
}
