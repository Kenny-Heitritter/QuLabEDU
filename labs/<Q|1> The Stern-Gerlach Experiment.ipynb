{
 "cells": [
  {
   "cell_type": "code",
   "execution_count": 19,
   "id": "a9593a6d-88a8-4aad-98a5-d3968f43c134",
   "metadata": {},
   "outputs": [
    {
     "name": "stdout",
     "output_type": "stream",
     "text": [
      "['CCNot', 'CNot', 'CPhaseShift', 'CPhaseShift00', 'CPhaseShift01', 'CPhaseShift10', 'CSwap', 'CV', 'CY', 'CZ', 'ECR', 'H', 'I', 'ISwap', 'PSwap', 'PhaseShift', 'Rx', 'Ry', 'Rz', 'S', 'Si', 'Swap', 'T', 'Ti', 'Unitary', 'V', 'Vi', 'X', 'XX', 'XY', 'Y', 'YY', 'Z', 'ZZ']\n"
     ]
    }
   ],
   "source": [
    "import matplotlib.pyplot as plt\n",
    "%matplotlib inline\n",
    "\n",
    "from braket.circuits import Circuit\n",
    "from braket.circuits import Gate\n",
    "from braket.devices import LocalSimulator\n",
    "import string\n",
    "from math import pi\n",
    "\n",
    "# print all available gates in Amazon Braket\n",
    "gate_set = [attr for attr in dir(Gate) if attr[0] in string.ascii_uppercase]\n",
    "print(gate_set)\n",
    "\n"
   ]
  },
  {
   "cell_type": "markdown",
   "id": "3d0dbedd-1222-4c4f-adbd-3b658a16d3ef",
   "metadata": {},
   "source": [
    "# <Q|1> The Stern-Gerlach Experiments"
   ]
  },
  {
   "cell_type": "markdown",
   "id": "84d22b5c-d21e-4f7f-8d84-f0fdcfaebd8a",
   "metadata": {},
   "source": [
    "## Introduction\n",
    "##### The following experiment was first conceived by Otto Stern in 1921 and thereafter carried out by Walther Gerlach in 1922. The original experiment used a beam of silver atoms traveling through magnetic fields and screens to show that angular momentum is quantized. This notebook will allow you to use real a real quantum computer to manipulate qubits and carry out the Stern-Gerlach experiment."
   ]
  },
  {
   "cell_type": "markdown",
   "id": "41adfc57-3a6e-43a7-be9b-1905f4e867cf",
   "metadata": {},
   "source": [
    "## Basic Properties of Qubit Operations and Measurements (Local)\n",
    "##### We first walk through some simple qubit preparations and measurements to get a feel for how everything functions."
   ]
  },
  {
   "cell_type": "code",
   "execution_count": 55,
   "id": "69de930b-dac9-439b-b028-24d363e82aac",
   "metadata": {},
   "outputs": [],
   "source": [
    "# Let's try to prepare a single qubit in the 'down' |0> state.\n",
    "# When we initialize a qubit with the code below, it defaults to starting in the 'down' |0> state.\n",
    "# After the qubit is initialized, we apply a dummy rotation that doesn't actually do anything. \n",
    "# The qubit is still in whatever state it started in.\n",
    "psi = Circuit().ry(angle=0, target=0)\n",
    "\n",
    "# We can visualize the state created by this single-qubit quantum circuit by plotting it on the Bloch sphere\n",
    "##TODO: insert Bloch sphere visualization of state here\n"
   ]
  },
  {
   "cell_type": "code",
   "execution_count": 56,
   "id": "6c8ec2d1-b2ea-491e-917d-ce575f8048e5",
   "metadata": {},
   "outputs": [
    {
     "name": "stdout",
     "output_type": "stream",
     "text": [
      "Counter({'0': 1000})\n"
     ]
    },
    {
     "data": {
      "image/png": "[encoded data removed]",
      "text/plain": [
       "<Figure size 432x288 with 1 Axes>"
      ]
     },
     "metadata": {
      "needs_background": "light"
     },
     "output_type": "display_data"
    }
   ],
   "source": [
    "# We want to measure this qubit and visualize the results.\n",
    "# Since the state of our qubit says it should be entirely 'down' then \\ψ> = \\0> and the only possibility of measurement should be \\0>.\n",
    "\n",
    "# set up device to run a simulation on your classical computer\n",
    "device = LocalSimulator()\n",
    "\n",
    "# run circuit many times and record the measurement of each shot\n",
    "result = device.run(psi, shots=1000).result()\n",
    "\n",
    "# get measurement shots\n",
    "counts = result.measurement_counts\n",
    "\n",
    "# print counts\n",
    "print(counts)\n",
    "\n",
    "# plot using Counter\n",
    "plt.bar(counts.keys(), counts.values());\n",
    "plt.xlabel('bitstrings');\n",
    "plt.ylabel('counts');"
   ]
  },
  {
   "cell_type": "code",
   "execution_count": 57,
   "id": "2ca50506-38e0-4408-821b-154abb37847c",
   "metadata": {},
   "outputs": [],
   "source": [
    "# As we expected, every run and measurement of the circuit produced the same result of 'down'.\n",
    "# Let's now rotate the initial 'down' state by pi radians about the y-axis. This should result in an 'up' state.\n",
    "psi = Circuit().ry(angle=pi, target=0)\n",
    "\n",
    "# We can visualize the state created by this single-qubit quantum circuit by plotting it on the Bloch sphere\n",
    "##TODO: insert Bloch sphere visualization of state here"
   ]
  },
  {
   "cell_type": "code",
   "execution_count": 58,
   "id": "e69021f8-4f5a-4728-bae7-759774ea4c1c",
   "metadata": {},
   "outputs": [
    {
     "name": "stdout",
     "output_type": "stream",
     "text": [
      "Counter({'1': 1000})\n"
     ]
    },
    {
     "data": {
      "image/png": "[encoded data removed]",
      "text/plain": [
       "<Figure size 432x288 with 1 Axes>"
      ]
     },
     "metadata": {
      "needs_background": "light"
     },
     "output_type": "display_data"
    }
   ],
   "source": [
    "# We want to measure this qubit and visualize the results.\n",
    "# Since the state of our qubit says it should be entirely 'up' then \\ψ> = \\1> and the only possibility of measurement should be \\1>.\n",
    "\n",
    "# set up device to run a simulation on your classical computer\n",
    "device = LocalSimulator()\n",
    "\n",
    "# run circuit many times and record the measurement of each shot\n",
    "result = device.run(psi, shots=1000).result()\n",
    "\n",
    "# get measurement shots\n",
    "counts = result.measurement_counts\n",
    "\n",
    "# print counts\n",
    "print(counts)\n",
    "\n",
    "# plot using Counter\n",
    "plt.bar(counts.keys(), counts.values());\n",
    "plt.xlabel('bitstrings');\n",
    "plt.ylabel('counts');"
   ]
  },
  {
   "cell_type": "code",
   "execution_count": 59,
   "id": "aac6a431-2f18-4ab2-85a3-13a567be4d0e",
   "metadata": {},
   "outputs": [],
   "source": [
    "# Again, just as we expected, every run and measurement of the circuit produced the same result of 'up'.\n",
    "# Let's do something a little different now. Instead of rotating fully from 'down' to 'up', let's only rotate halfway using a y-rotation by pi/2 radians\n",
    "psi = Circuit().ry(angle=pi/2, target=0)\n",
    "\n",
    "# We can visualize the state created by this single-qubit quantum circuit by plotting it on the Bloch sphere\n",
    "##TODO: insert Bloch sphere visualization of state here"
   ]
  },
  {
   "cell_type": "code",
   "execution_count": 60,
   "id": "7a1b27c2-27d6-4369-9633-f6a2379d6895",
   "metadata": {},
   "outputs": [
    {
     "name": "stdout",
     "output_type": "stream",
     "text": [
      "Counter({'1': 521, '0': 479})\n"
     ]
    },
    {
     "data": {
      "image/png": "[encoded data removed]",
      "text/plain": [
       "<Figure size 432x288 with 1 Axes>"
      ]
     },
     "metadata": {
      "needs_background": "light"
     },
     "output_type": "display_data"
    }
   ],
   "source": [
    "# We want to measure this qubit and visualize the results.\n",
    "# Since the state of our qubit says it should be entirely 'up' then \\ψ> = \\1> and the only possibility of measurement should be \\1>.\n",
    "\n",
    "# set up device to run a simulation on your classical computer\n",
    "device = LocalSimulator()\n",
    "\n",
    "# run circuit many times and record the measurement of each shot\n",
    "result = device.run(psi, shots=1000).result()\n",
    "\n",
    "# get measurement shots\n",
    "counts = result.measurement_counts\n",
    "\n",
    "# print counts\n",
    "print(counts)\n",
    "\n",
    "# plot using Counter\n",
    "plt.bar(counts.keys(), counts.values());\n",
    "plt.xlabel('bitstrings');\n",
    "plt.ylabel('counts');"
   ]
  },
  {
   "cell_type": "code",
   "execution_count": 61,
   "id": "46494302-abbf-40dd-b53f-1198f0fc0d6e",
   "metadata": {},
   "outputs": [],
   "source": [
    "# We see that roughly half of the measurements were 'down' and the other half were 'up'.\n",
    "# This is because we prepared the state as \\ψ>=1/(2)^(1/2) |0> - 1/(2)^(1/2) |1>.\n",
    "# We could have accomplished the same measurement outcome using what's called the Hadamard operator.\n",
    "psi = Circuit().h(range(1))\n",
    "\n",
    "# We can visualize the state created by this single-qubit quantum circuit by plotting it on the Bloch sphere\n",
    "##TODO: insert Bloch sphere visualization of state here\n",
    "\n",
    "# Note that while the state is still 'halfway' between \\0> and \\1>, it is rotated compared to the y-rotation."
   ]
  },
  {
   "cell_type": "code",
   "execution_count": 62,
   "id": "4173e95f-144b-45e8-a729-202e8a325924",
   "metadata": {},
   "outputs": [
    {
     "name": "stdout",
     "output_type": "stream",
     "text": [
      "Counter({'0': 506, '1': 494})\n"
     ]
    },
    {
     "data": {
      "image/png": "[encoded data removed]",
      "text/plain": [
       "<Figure size 432x288 with 1 Axes>"
      ]
     },
     "metadata": {
      "needs_background": "light"
     },
     "output_type": "display_data"
    }
   ],
   "source": [
    "# We want to measure this qubit and visualize the results.\n",
    "# Since the state of our qubit says it should be entirely 'up' then \\ψ> = \\1> and the only possibility of measurement should be \\1>.\n",
    "\n",
    "# set up device to run a simulation on your classical computer\n",
    "device = LocalSimulator()\n",
    "\n",
    "# run circuit many times and record the measurement of each shot\n",
    "result = device.run(psi, shots=1000).result()\n",
    "\n",
    "# get measurement shots\n",
    "counts = result.measurement_counts\n",
    "\n",
    "# print counts\n",
    "print(counts)\n",
    "\n",
    "# plot using Counter\n",
    "plt.bar(counts.keys(), counts.values());\n",
    "plt.xlabel('bitstrings');\n",
    "plt.ylabel('counts');"
   ]
  },
  {
   "cell_type": "code",
   "execution_count": null,
   "id": "ff374d32-4126-4316-87e7-60c4cd033a2d",
   "metadata": {},
   "outputs": [],
   "source": [
    "# Indeed, we see the end result is the same as the one we saw for a y-rotated state."
   ]
  },
  {
   "cell_type": "markdown",
   "id": "4be34e93-09c0-4cb7-a6fc-45a36c4940b4",
   "metadata": {},
   "source": [
    "## Representing a beam of silver atoms with real qubits - in progress"
   ]
  },
  {
   "cell_type": "markdown",
   "id": "4b196dc1-5fac-4fdc-937c-f64e7ae75887",
   "metadata": {},
   "source": [
    "##### To mimic the experiment, we must first replace the beam of silver atoms by qubits. In the original experiment, silver was used because all electron valences are filled except for the outermost 5s shell, where outermost shell has only a single electron. Electrons are particles that have fundamental angular momentum which can be measured as 'up' +1/2 or 'down' -1/2. Though the measurement can only yield either of these results, the pre-measurement state is described by any superposition of 'up' and 'down'. A qubit is a quantum object which also can be measured as either spin 'up' or spin 'down' and so the spin structure of an electron is identical to that of a qubit. Here, we describe how to initialize a qubit in an arbitrary spin state mimicking the arbitrary spin state of the electrons exiting the oven in the Stern-Gerlach experiment."
   ]
  },
  {
   "cell_type": "code",
   "execution_count": 26,
   "id": "fcc2f94e-01e5-4423-9baf-0a171a556edd",
   "metadata": {},
   "outputs": [],
   "source": [
    "ϕ = pi/2\n",
    "θ = pi/3\n",
    "silver_atom = Circuit().ry(angle=ϕ,target=0).rz(angle=θ,target=0)"
   ]
  },
  {
   "cell_type": "code",
   "execution_count": 36,
   "id": "0d4b79d7-dd21-4c2a-b75c-bd454e50ac3f",
   "metadata": {},
   "outputs": [
    {
     "name": "stdout",
     "output_type": "stream",
     "text": [
      "Counter({'0': 10})\n"
     ]
    },
    {
     "data": {
      "image/png": "[encoded data removed]",
      "text/plain": [
       "<Figure size 432x288 with 1 Axes>"
      ]
     },
     "metadata": {
      "needs_background": "light"
     },
     "output_type": "display_data"
    }
   ],
   "source": [
    "# set up device\n",
    "device = LocalSimulator()\n",
    "\n",
    "# run circuit\n",
    "result = device.run(down, shots=10).result()\n",
    "\n",
    "# get measurement shots\n",
    "counts = result.measurement_counts\n",
    "\n",
    "# print counts\n",
    "print(counts)\n",
    "\n",
    "# plot using Counter\n",
    "plt.bar(counts.keys(), counts.values());\n",
    "plt.xlabel('bitstrings');\n",
    "plt.ylabel('counts');\n"
   ]
  }
 ],
 "metadata": {
  "kernelspec": {
   "display_name": "Python 3 (ipykernel)",
   "language": "python",
   "name": "python3"
  },
  "language_info": {
   "codemirror_mode": {
    "name": "ipython",
    "version": 3
   },
   "file_extension": ".py",
   "mimetype": "text/x-python",
   "name": "python",
   "nbconvert_exporter": "python",
   "pygments_lexer": "ipython3",
   "version": "3.8.8"
  }
 },
 "nbformat": 4,
 "nbformat_minor": 5
}
